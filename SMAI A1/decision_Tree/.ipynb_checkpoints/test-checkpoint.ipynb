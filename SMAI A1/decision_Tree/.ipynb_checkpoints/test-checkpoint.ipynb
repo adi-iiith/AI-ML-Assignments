{
 "cells": [
  {
   "cell_type": "code",
   "execution_count": 349,
   "metadata": {},
   "outputs": [],
   "source": [
    "import pandas as pd\n",
    "import numpy as np\n",
    "import math\n",
    "import collections"
   ]
  },
  {
   "cell_type": "code",
   "execution_count": 361,
   "metadata": {},
   "outputs": [
    {
     "name": "stdout",
     "output_type": "stream",
     "text": [
      "(array([0, 1]), array([6813, 2177]))\n"
     ]
    }
   ],
   "source": [
    "# loading the data in a dataframe\n",
    "cname=['satisfaction_level','last_evaluation','number_project','avg_monthly_hours','time_spend','work_accident','target','promotion','sales','salary']\n",
    "file = 'train.csv'\n",
    "df = pd.read_csv(file)\n",
    "x = np.unique(df['left'], return_counts = True)\n",
    "\n",
    "c_list = ['Work_accident','promotion_last_5years','sales','salary','left']\n",
    "df1 = df[c_list]\n",
    "\n",
    "# print(df1)\n",
    "train_set = df1.sample(frac=0.8,random_state=200)\n",
    "x = np.unique(train_set['left'], return_counts = True)\n",
    "print(x)\n",
    "c_list.remove('left')\n",
    "# train_set"
   ]
  },
  {
   "cell_type": "code",
   "execution_count": 351,
   "metadata": {},
   "outputs": [],
   "source": [
    "#implement Entropy --- takes input ( dataframe , column_name )\n",
    "\n",
    "def entropy_(df):\n",
    "    total = df['left'].count()\n",
    "    positive = df[df['left'] == 1]\n",
    "    pos_c = positive['left'].count()\n",
    "    neg_c = total - pos_c\n",
    "    if pos_c == 0 or neg_c == 0 :\n",
    "        return 0\n",
    "    ent = - (pos_c/total * math.log(pos_c/total,2) \n",
    "                 + neg_c/total * math.log(neg_c/total,2))\n",
    "    return ent\n",
    "    \n",
    "# entropy_(df1)"
   ]
  },
  {
   "cell_type": "code",
   "execution_count": 352,
   "metadata": {},
   "outputs": [],
   "source": [
    "def temp_f(data,a):\n",
    "    return ([data[a].unique()])\n",
    "def IG(data,attribute,entropy):\n",
    "    isum = 0\n",
    "    t = len(data.index)\n",
    "    label = (data[attribute].unique()).tolist()\n",
    "    for i in label:\n",
    "        sdf = data[data[attribute] == i]\n",
    "        isum = isum + ((len(sdf.index)/t) * entropy_(sdf))\n",
    "    return entropy - isum\n",
    "# e = entropy_(df1)\n",
    "# print(IG(df1,'salary',e))"
   ]
  },
  {
   "cell_type": "code",
   "execution_count": 353,
   "metadata": {},
   "outputs": [],
   "source": [
    "# best attribute\n",
    "\n",
    "def best_attribute(df,attribute):\n",
    "    e = entropy_(df)\n",
    "    attribute_list = {}\n",
    "    for best in attribute :\n",
    "        attribute_list[best] = IG(df , best , e)\n",
    "#     m = -1\n",
    "#     for i in attribute_list:\n",
    "#         if attribute_list[i] > m:\n",
    "#             m=attribute_list[i]\n",
    "#             b = i\n",
    "    b = max(attribute_list, key=attribute_list.get)\n",
    "    return b"
   ]
  },
  {
   "cell_type": "code",
   "execution_count": 362,
   "metadata": {},
   "outputs": [
    {
     "name": "stdout",
     "output_type": "stream",
     "text": [
      "{'salary': {'low': {'Work_accident': {0: {'sales': {'support': {'promotion_last_5years': {0: {'predict': 0}, 1: {'predict': 0}}}, 'IT': {'promotion_last_5years': {0: {'predict': 0}, 1: {'predict': 1}}}, 'sales': {'promotion_last_5years': {0: {'predict': 0}, 1: {'predict': 0}}}, 'hr': {'promotion_last_5years': {0: {'predict': 0}, 1: {'predict': 0}}}, 'management': {'promotion_last_5years': {0: {'predict': 0}, 1: {'predict': 1}}}, 'technical': {'promotion_last_5years': {0: {'predict': 0}, 1: {'predict': 0}}}, 'product_mng': {'promotion_last_5years': {0: {'predict': 0}}}, 'marketing': {'promotion_last_5years': {0: {'predict': 0}, 1: {'predict': 0}}}, 'accounting': {'promotion_last_5years': {0: {'predict': 0}, 1: {'predict': 0}}}, 'RandD': {'promotion_last_5years': {0: {'predict': 0}, 1: {'predict': 0}}}}}, 1: {'sales': {'IT': {'promotion_last_5years': {0: {'predict': 0}}}, 'support': {'promotion_last_5years': {0: {'predict': 0}}}, 'sales': {'promotion_last_5years': {0: {'predict': 0}, 1: {'predict': 0}}}, 'technical': {'promotion_last_5years': {0: {'predict': 0}, 1: {'predict': 0}}}, 'RandD': {'promotion_last_5years': {0: {'predict': 0}, 1: {'predict': 0}}}, 'hr': {'promotion_last_5years': {0: {'predict': 0}}}, 'accounting': {'promotion_last_5years': {0: {'predict': 0}}}, 'marketing': {'promotion_last_5years': {0: {'predict': 0}, 1: {'predict': 0}}}, 'product_mng': {'promotion_last_5years': {0: {'predict': 0}}}, 'management': {'promotion_last_5years': {0: {'predict': 0}}}}}}}, 'high': {'sales': {'technical': {'Work_accident': {0: {'promotion_last_5years': {0: {'predict': 0}}}, 1: {'predict': 0}}}, 'sales': {'Work_accident': {0: {'promotion_last_5years': {0: {'predict': 0}, 1: {'predict': 0}}}, 1: {'predict': 0}}}, 'RandD': {'Work_accident': {0: {'promotion_last_5years': {0: {'predict': 0}, 1: {'predict': 0}}}, 1: {'predict': 0}}}, 'support': {'Work_accident': {0: {'promotion_last_5years': {0: {'predict': 0}}}, 1: {'predict': 0}}}, 'management': {'Work_accident': {0: {'promotion_last_5years': {1: {'predict': 0}, 0: {'predict': 0}}}, 1: {'predict': 0}}}, 'accounting': {'Work_accident': {0: {'promotion_last_5years': {1: {'predict': 0}, 0: {'predict': 0}}}, 1: {'predict': 0}}}, 'IT': {'Work_accident': {0: {'promotion_last_5years': {0: {'predict': 0}}}, 1: {'predict': 0}}}, 'marketing': {'Work_accident': {0: {'promotion_last_5years': {0: {'predict': 0}, 1: {'predict': 0}}}, 1: {'predict': 0}}}, 'hr': {'Work_accident': {0: {'promotion_last_5years': {0: {'predict': 0}}}, 1: {'predict': 0}}}, 'product_mng': {'Work_accident': {0: {'promotion_last_5years': {0: {'predict': 0}}}, 1: {'predict': 0}}}}}, 'medium': {'Work_accident': {0: {'sales': {'accounting': {'promotion_last_5years': {0: {'predict': 0}, 1: {'predict': 0}}}, 'support': {'promotion_last_5years': {0: {'predict': 0}, 1: {'predict': 0}}}, 'technical': {'promotion_last_5years': {0: {'predict': 0}, 1: {'predict': 0}}}, 'sales': {'promotion_last_5years': {0: {'predict': 0}, 1: {'predict': 0}}}, 'IT': {'promotion_last_5years': {0: {'predict': 0}, 1: {'predict': 1}}}, 'product_mng': {'promotion_last_5years': {0: {'predict': 0}}}, 'hr': {'promotion_last_5years': {0: {'predict': 0}, 1: {'predict': 0}}}, 'RandD': {'promotion_last_5years': {0: {'predict': 0}, 1: {'predict': 0}}}, 'marketing': {'promotion_last_5years': {0: {'predict': 0}, 1: {'predict': 0}}}, 'management': {'promotion_last_5years': {0: {'predict': 0}, 1: {'predict': 0}}}}}, 1: {'sales': {'management': {'promotion_last_5years': {0: {'predict': 0}}}, 'IT': {'promotion_last_5years': {0: {'predict': 0}}}, 'support': {'promotion_last_5years': {0: {'predict': 0}, 1: {'predict': 0}}}, 'sales': {'promotion_last_5years': {0: {'predict': 0}, 1: {'predict': 0}}}, 'technical': {'promotion_last_5years': {0: {'predict': 0}, 1: {'predict': 0}}}, 'RandD': {'promotion_last_5years': {0: {'predict': 0}, 1: {'predict': 0}}}, 'hr': {'promotion_last_5years': {0: {'predict': 0}, 1: {'predict': 0}}}, 'accounting': {'promotion_last_5years': {0: {'predict': 0}}}, 'product_mng': {'promotion_last_5years': {0: {'predict': 0}}}, 'marketing': {'promotion_last_5years': {0: {'predict': 0}}}}}}}}}\n"
     ]
    }
   ],
   "source": [
    "def tree(df , attribute_list , pd , root=None):\n",
    "    if len(np.unique(df['left'])) <=1 :\n",
    "        return {'predict': np.unique(df['left'])[0]}\n",
    "    elif len(attribute_list) == 0:\n",
    "        t = np.argmax(np.unique(df['left'], return_counts = True)[1])\n",
    "        return {'predict': np.unique(df['left'])[t]}\n",
    "    elif len(df) == 0:\n",
    "        t = np.argmax(np.unique(pd['left'], return_counts = True)[1])\n",
    "        return {'predict': np.unique(pd['left'])[t]}\n",
    "    b = best_attribute(df,attribute_list[:])\n",
    "    attribute_list.remove(b)\n",
    "    # tree empty\n",
    "    if root is None:\n",
    "        root = {}\n",
    "        root[b] = {}\n",
    "    for i in df[b].unique():\n",
    "        new_df = df[df[b]==i]\n",
    "        root[b][i] = tree( new_df , attribute_list[:] , df)\n",
    "    return root\n",
    "# print (c_list)\n",
    "root1 = tree(train_set,c_list[:],train_set)\n",
    "print(root1)"
   ]
  },
  {
   "cell_type": "code",
   "execution_count": null,
   "metadata": {},
   "outputs": [],
   "source": [
    "def test_tree(root,X):\n",
    "    ls = []\n",
    "    for i,rows in X.iterrows() :\n",
    "        temp_root = root\n",
    "        while True :\n",
    "            if(temp_root['predict'] == 0 or temp_root['predict'] == 1) :\n",
    "                ls.append(temp_root['left'])     \n",
    "                break\n",
    "            attr = temp_root['attribute']\n",
    "            temp_root = temp_root[attr][rows[attr]]\n",
    "    \n",
    "    return ls\n"
   ]
  },
  {
   "cell_type": "code",
   "execution_count": null,
   "metadata": {},
   "outputs": [],
   "source": []
  },
  {
   "cell_type": "code",
   "execution_count": null,
   "metadata": {},
   "outputs": [],
   "source": []
  }
 ],
 "metadata": {
  "kernelspec": {
   "display_name": "Python 3",
   "language": "python",
   "name": "python3"
  },
  "language_info": {
   "codemirror_mode": {
    "name": "ipython",
    "version": 3
   },
   "file_extension": ".py",
   "mimetype": "text/x-python",
   "name": "python",
   "nbconvert_exporter": "python",
   "pygments_lexer": "ipython3",
   "version": "3.6.7"
  }
 },
 "nbformat": 4,
 "nbformat_minor": 2
}
