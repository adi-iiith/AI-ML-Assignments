{
 "cells": [
  {
   "cell_type": "code",
   "execution_count": 18,
   "metadata": {},
   "outputs": [],
   "source": [
    "import pandas as pd\n",
    "import numpy as np\n",
    "import math\n",
    "import collections"
   ]
  },
  {
   "cell_type": "code",
   "execution_count": 19,
   "metadata": {},
   "outputs": [
    {
     "name": "stdout",
     "output_type": "stream",
     "text": [
      "(array([0, 1]), array([6813, 2177]))\n"
     ]
    }
   ],
   "source": [
    "# loading the data in a dataframe\n",
    "cname=['satisfaction_level','last_evaluation','number_project','avg_monthly_hours','time_spend','work_accident','target','promotion','sales','salary']\n",
    "file = 'train.csv'\n",
    "df = pd.read_csv(file)\n",
    "x = np.unique(df['left'], return_counts = True)\n",
    "\n",
    "c_list = ['satisfaction_level','last_evaluation','number_project','average_montly_hours','time_spend_company','Work_accident','promotion_last_5years','sales','salary','left']\n",
    "df1 = df[c_list]\n",
    "\n",
    "# print(df1)\n",
    "train_set = df1.sample(frac=0.8,random_state=200)\n",
    "validate_set = df1.drop(train_set.index)\n",
    "x = np.unique(train_set['left'], return_counts = True)\n",
    "print(x)\n",
    "c_list.remove('left')\n",
    "# train_set"
   ]
  },
  {
   "cell_type": "code",
   "execution_count": 20,
   "metadata": {},
   "outputs": [],
   "source": [
    "#### gini_index\n",
    "def gini_index(df):\n",
    "    total = df['left'].count()\n",
    "    positive = df[df['left'] == 1]\n",
    "    pos_c = positive['left'].count()\n",
    "    neg_c = total - pos_c\n",
    "    if pos_c == 0 or neg_c == 0 :\n",
    "        return 0\n",
    "    ent = - (math.pow(pos_c/total,2) \n",
    "                 + math.pow(neg_c/total,2))\n",
    "    return ent\n",
    "    \n",
    "# entropy_(df1)"
   ]
  },
  {
   "cell_type": "code",
   "execution_count": 44,
   "metadata": {},
   "outputs": [],
   "source": [
    "#Misclassification Rate\n",
    "def miss_rate(df):\n",
    "    total = df['left'].count()\n",
    "    positive = df[df['left'] == 1]\n",
    "    pos_c = positive['left'].count()\n",
    "    neg_c = total - pos_c\n",
    "    if pos_c == 0 or neg_c == 0 :\n",
    "        return 0\n",
    "    ent =  min((pos_c/total) \n",
    "                 ,(neg_c/total))\n",
    "    return ent\n",
    "    "
   ]
  },
  {
   "cell_type": "code",
   "execution_count": 45,
   "metadata": {},
   "outputs": [],
   "source": [
    "def temp_f(data,a):\n",
    "    return ([data[a].unique()])\n",
    "def IG(data,attribute,entropy):\n",
    "    isum = 0\n",
    "    t = len(data.index)\n",
    "    label = (data[attribute].unique()).tolist()\n",
    "    for i in label:\n",
    "        sdf = data[data[attribute] == i]\n",
    "#         isum = isum + ((len(sdf.index)/t) * entropy_(sdf))\n",
    "#         isum = isum + ((len(sdf.index)/t) * gini_index(sdf))\n",
    "        isum = isum + ((len(sdf.index)/t) * miss_rate(sdf))\n",
    "    return entropy - isum\n",
    "# e = entropy_(df1)\n",
    "# print(IG(df1,'salary',e))"
   ]
  },
  {
   "cell_type": "code",
   "execution_count": 46,
   "metadata": {},
   "outputs": [],
   "source": [
    "\n",
    "def best_attribute(df,attribute):\n",
    "#     e = entropy_(df)                     \n",
    "#     e = gini_index(df)                         #gini\n",
    "    e = miss_rate(df)\n",
    "    attribute_list = {}\n",
    "    for best in attribute :\n",
    "        attribute_list[best] = IG(df , best , e)\n",
    "#     m = -1\n",
    "#     for i in attribute_list:\n",
    "#         if attribute_list[i] > m:\n",
    "#             m=attribute_list[i]\n",
    "#             b = i\n",
    "    b = max(attribute_list, key=attribute_list.get)\n",
    "    return b"
   ]
  },
  {
   "cell_type": "code",
   "execution_count": 47,
   "metadata": {},
   "outputs": [],
   "source": [
    "numeric_data = ['satisfaction_level','last_evaluation','number_project',\n",
    "                'average_montly_hours','time_spend_company']\n",
    "attribute_dict = {}"
   ]
  },
  {
   "cell_type": "code",
   "execution_count": 48,
   "metadata": {},
   "outputs": [],
   "source": [
    "def convert(df,attr):\n",
    "    mapp = {}\n",
    "    check = []\n",
    "    avg = []\n",
    "    label = 0\n",
    "    llist = []\n",
    "    sortd = df.sort_values(attr)\n",
    "    uv = sortd[attr].unique().tolist()\n",
    "    for i in uv:\n",
    "        temp = sortd[sortd[attr] == i]\n",
    "        mapp[i] = np.unique(temp['left'])[np.argmax(np.unique(temp['left'],return_counts=True)[1])]\n",
    "        \n",
    "    prev = uv[0]\n",
    "    h = mapp[uv[0]]\n",
    "    for i in uv[1:len(uv)]:\n",
    "        if mapp[i] == h:\n",
    "            prev =i\n",
    "            continue\n",
    "        else :\n",
    "            h = 1-h\n",
    "            check.append(prev)\n",
    "            prev = i\n",
    "            check.append(i)\n",
    "    for i in range(0,len(check),2):\n",
    "        avg.append((check[i]+check[i+1])/2)\n",
    "    attribute_dict[attr] = avg\n",
    "    for i in df.index:\n",
    "        attv = df.loc[i,attr]\n",
    "        label = 0\n",
    "        f = 0\n",
    "        for a in avg:\n",
    "            if attv < a:\n",
    "                f = 1\n",
    "                llist.append(label)\n",
    "                break\n",
    "            else :\n",
    "                label += 1\n",
    "        if f == 0:\n",
    "            llist.append(label)\n",
    "    \n",
    "    df = df.drop(attr,axis=1)           ##\n",
    "    new1 = pd.Series(llist)              ##\n",
    "    df[attr] = new1.values\n",
    "    return df\n",
    "# convert(train_set,'satisfaction_level')"
   ]
  },
  {
   "cell_type": "code",
   "execution_count": 49,
   "metadata": {},
   "outputs": [],
   "source": [
    "# convert train data to desirable range\n",
    "for i in numeric_data:\n",
    "    train_set = convert(train_set,i)"
   ]
  },
  {
   "cell_type": "code",
   "execution_count": 50,
   "metadata": {},
   "outputs": [
    {
     "name": "stdout",
     "output_type": "stream",
     "text": [
      "{'satisfaction_level': {3: {'time_spend_company': {0: {'average_montly_hours': {2: {'last_evaluation': {2: {'promotion_last_5years': {0: {'number_project': {1: {'Work_accident': {0: {'sales': {'support': {'salary': {'low': {'predict': 0}, 'medium': {'predict': 0}, 'high': {'predict': 0}}}, 'IT': {'predict': 0}, 'sales': {'salary': {'low': {'predict': 0}, 'medium': {'predict': 0}, 'high': {'predict': 0}}}, 'management': {'predict': 0}, 'technical': {'salary': {'medium': {'predict': 0}, 'low': {'predict': 0}, 'high': {'predict': 0}}}, 'marketing': {'salary': {'low': {'predict': 0}, 'high': {'predict': 0}, 'medium': {'predict': 0}}}, 'RandD': {'salary': {'high': {'predict': 0}, 'medium': {'predict': 0}, 'low': {'predict': 0}}}, 'accounting': {'predict': 0}, 'hr': {'salary': {'low': {'predict': 0}, 'medium': {'predict': 0}, 'high': {'predict': 0}}}, 'product_mng': {'predict': 0}}}, 1: {'sales': {'IT': {'predict': 0}, 'support': {'salary': {'low': {'predict': 0}, 'medium': {'predict': 0}, 'high': {'predict': 0}}}, 'management': {'predict': 0}, 'sales': {'salary': {'low': {'predict': 0}, 'medium': {'predict': 0}, 'high': {'predict': 0}}}, 'technical': {'predict': 0}, 'RandD': {'predict': 0}, 'hr': {'predict': 0}, 'product_mng': {'predict': 0}, 'accounting': {'predict': 0}, 'marketing': {'predict': 0}}}}}, 0: {'sales': {'technical': {'Work_accident': {0: {'salary': {'low': {'predict': 0}, 'medium': {'predict': 0}, 'high': {'predict': 0}}}, 1: {'predict': 0}}}, 'support': {'Work_accident': {1: {'predict': 0}, 0: {'salary': {'low': {'predict': 0}, 'medium': {'predict': 0}, 'high': {'predict': 0}}}}}, 'sales': {'Work_accident': {0: {'salary': {'high': {'predict': 0}, 'medium': {'predict': 0}, 'low': {'predict': 0}}}, 1: {'predict': 0}}}, 'IT': {'predict': 0}, 'product_mng': {'predict': 0}, 'RandD': {'predict': 0}, 'management': {'predict': 0}, 'accounting': {'predict': 0}, 'marketing': {'predict': 0}, 'hr': {'predict': 0}}}, 2: {'Work_accident': {1: {'predict': 0}, 0: {'sales': {'sales': {'salary': {'low': {'predict': 0}, 'medium': {'predict': 0}, 'high': {'predict': 0}}}, 'accounting': {'predict': 0}, 'technical': {'salary': {'medium': {'predict': 0}, 'low': {'predict': 0}, 'high': {'predict': 0}}}, 'IT': {'salary': {'low': {'predict': 0}, 'high': {'predict': 0}, 'medium': {'predict': 1}}}, 'RandD': {'predict': 0}, 'hr': {'predict': 0}, 'marketing': {'salary': {'low': {'predict': 1}, 'medium': {'predict': 0}}}, 'support': {'salary': {'low': {'predict': 0}, 'medium': {'predict': 0}}}, 'management': {'predict': 0}, 'product_mng': {'predict': 0}}}}}}}, 1: {'Work_accident': {0: {'sales': {'RandD': {'predict': 0}, 'sales': {'predict': 0}, 'support': {'predict': 0}, 'technical': {'predict': 0}, 'marketing': {'predict': 0}, 'management': {'salary': {'high': {'predict': 0}, 'medium': {'predict': 0}, 'low': {'predict': 1}}}, 'accounting': {'predict': 0}, 'hr': {'predict': 0}}}, 1: {'predict': 0}}}}}, 3: {'number_project': {1: {'Work_accident': {0: {'promotion_last_5years': {0: {'sales': {'sales': {'salary': {'medium': {'predict': 0}, 'low': {'predict': 0}}}, 'marketing': {'predict': 0}, 'technical': {'predict': 0}, 'support': {'predict': 0}, 'management': {'predict': 0}, 'accounting': {'salary': {'low': {'predict': 0}, 'medium': {'predict': 0}}}, 'product_mng': {'predict': 0}, 'RandD': {'predict': 0}, 'IT': {'predict': 0}}}}}, 1: {'predict': 0}}}, 2: {'predict': 1}, 0: {'sales': {'marketing': {'predict': 0}, 'RandD': {'predict': 1}}}}}, 1: {'number_project': {0: {'Work_accident': {0: {'promotion_last_5years': {0: {'sales': {'sales': {'salary': {'medium': {'predict': 0}, 'low': {'predict': 1}}}, 'RandD': {'predict': 0}, 'technical': {'predict': 0}, 'IT': {'predict': 0}, 'product_mng': {'predict': 0}}}}}}}, 2: {'predict': 0}, 1: {'promotion_last_5years': {0: {'sales': {'sales': {'Work_accident': {0: {'salary': {'low': {'predict': 0}}}, 1: {'predict': 0}}}, 'product_mng': {'predict': 0}, 'IT': {'predict': 0}, 'technical': {'predict': 0}, 'RandD': {'predict': 0}, 'support': {'predict': 0}, 'accounting': {'predict': 0}}}}}}}, 0: {'predict': 0}}}, 0: {'predict': 0}, 6: {'predict': 0}, 1: {'last_evaluation': {0: {'predict': 0}, 2: {'number_project': {1: {'Work_accident': {1: {'predict': 0}, 0: {'promotion_last_5years': {0: {'sales': {'RandD': {'predict': 0}, 'sales': {'salary': {'medium': {'predict': 0}, 'low': {'predict': 0}}}, 'support': {'predict': 0}, 'technical': {'predict': 0}, 'accounting': {'predict': 0}, 'IT': {'predict': 0}, 'product_mng': {'predict': 0}}}, 1: {'predict': 0}}}}}, 0: {'predict': 0}, 2: {'predict': 0}}}, 1: {'sales': {'technical': {'predict': 0}, 'sales': {'predict': 1}, 'RandD': {'predict': 0}}}}}, 4: {'predict': 0}, 3: {'sales': {'management': {'salary': {'low': {'predict': 1}, 'medium': {'predict': 0}}}, 'sales': {'predict': 0}, 'support': {'predict': 0}, 'technical': {'predict': 0}, 'IT': {'predict': 1}, 'product_mng': {'predict': 0}, 'accounting': {'predict': 0}}}, 7: {'predict': 1}, 5: {'predict': 0}}}, 1: {'number_project': {0: {'last_evaluation': {0: {'predict': 0}, 2: {'sales': {'accounting': {'predict': 0}, 'technical': {'average_montly_hours': {2: {'Work_accident': {0: {'promotion_last_5years': {0: {'salary': {'medium': {'predict': 0}}}}}, 1: {'predict': 0}}}}}, 'support': {'predict': 1}, 'sales': {'Work_accident': {0: {'salary': {'low': {'predict': 1}, 'medium': {'predict': 0}}}, 1: {'predict': 0}}}, 'IT': {'predict': 0}, 'marketing': {'predict': 0}, 'hr': {'predict': 0}, 'product_mng': {'predict': 0}, 'management': {'predict': 0}}}, 3: {'predict': 1}, 1: {'predict': 0}}}, 1: {'average_montly_hours': {2: {'last_evaluation': {2: {'Work_accident': {0: {'promotion_last_5years': {0: {'sales': {'sales': {'salary': {'low': {'predict': 1}, 'medium': {'predict': 1}, 'high': {'predict': 1}}}, 'hr': {'salary': {'low': {'predict': 1}, 'medium': {'predict': 1}}}, 'IT': {'salary': {'medium': {'predict': 0}, 'low': {'predict': 1}, 'high': {'predict': 1}}}, 'accounting': {'salary': {'low': {'predict': 1}, 'medium': {'predict': 1}}}, 'technical': {'salary': {'low': {'predict': 1}, 'medium': {'predict': 1}, 'high': {'predict': 1}}}, 'support': {'salary': {'medium': {'predict': 1}, 'low': {'predict': 1}, 'high': {'predict': 0}}}, 'RandD': {'salary': {'low': {'predict': 1}, 'medium': {'predict': 1}}}, 'marketing': {'salary': {'low': {'predict': 1}, 'medium': {'predict': 1}}}, 'product_mng': {'salary': {'low': {'predict': 1}, 'medium': {'predict': 1}}}, 'management': {'salary': {'low': {'predict': 1}, 'medium': {'predict': 1}}}}}, 1: {'predict': 0}}}, 1: {'sales': {'sales': {'salary': {'low': {'predict': 0}, 'medium': {'predict': 1}}}, 'RandD': {'promotion_last_5years': {0: {'salary': {'medium': {'predict': 0}, 'low': {'predict': 0}}}}}, 'accounting': {'predict': 1}, 'support': {'promotion_last_5years': {0: {'salary': {'medium': {'predict': 0}, 'low': {'predict': 1}}}}}, 'hr': {'predict': 0}, 'IT': {'salary': {'low': {'promotion_last_5years': {0: {'predict': 1}}}, 'medium': {'promotion_last_5years': {0: {'predict': 0}}}}}, 'technical': {'predict': 0}, 'marketing': {'predict': 1}, 'product_mng': {'salary': {'medium': {'predict': 1}, 'high': {'predict': 0}}}}}}}, 3: {'predict': 1}, 1: {'predict': 0}, 0: {'predict': 0}}}, 0: {'predict': 0}, 1: {'predict': 0}, 3: {'sales': {'sales': {'last_evaluation': {0: {'predict': 0}, 3: {'predict': 1}, 2: {'predict': 1}}}, 'technical': {'predict': 1}, 'RandD': {'predict': 1}, 'accounting': {'predict': 0}, 'hr': {'predict': 0}, 'support': {'predict': 1}, 'management': {'predict': 0}}}, 7: {'predict': 1}, 6: {'predict': 0}}}, 2: {'sales': {'sales': {'predict': 0}, 'product_mng': {'predict': 0}, 'RandD': {'predict': 0}, 'marketing': {'predict': 0}, 'technical': {'last_evaluation': {2: {'average_montly_hours': {2: {'promotion_last_5years': {0: {'Work_accident': {0: {'salary': {'medium': {'predict': 0}, 'high': {'predict': 0}}}, 1: {'predict': 0}}}}}}}}}, 'management': {'predict': 0}, 'IT': {'predict': 0}, 'accounting': {'predict': 1}}}}}, 2: {'last_evaluation': {2: {'average_montly_hours': {2: {'number_project': {1: {'Work_accident': {0: {'sales': {'technical': {'promotion_last_5years': {0: {'salary': {'medium': {'predict': 0}, 'low': {'predict': 0}, 'high': {'predict': 0}}}}}, 'management': {'salary': {'high': {'predict': 0}, 'medium': {'predict': 0}, 'low': {'promotion_last_5years': {0: {'predict': 1}}}}}, 'sales': {'promotion_last_5years': {0: {'salary': {'low': {'predict': 0}, 'medium': {'predict': 0}, 'high': {'predict': 0}}}, 1: {'predict': 0}}}, 'IT': {'promotion_last_5years': {0: {'salary': {'medium': {'predict': 0}, 'low': {'predict': 0}}}}}, 'marketing': {'salary': {'low': {'promotion_last_5years': {0: {'predict': 1}}}, 'medium': {'predict': 0}}}, 'support': {'salary': {'low': {'promotion_last_5years': {0: {'predict': 1}}}, 'medium': {'promotion_last_5years': {0: {'predict': 0}}}}}, 'product_mng': {'promotion_last_5years': {0: {'salary': {'medium': {'predict': 0}, 'low': {'predict': 0}, 'high': {'predict': 0}}}}}, 'hr': {'salary': {'medium': {'promotion_last_5years': {1: {'predict': 0}, 0: {'predict': 0}}}, 'low': {'promotion_last_5years': {0: {'predict': 1}}}}}, 'accounting': {'promotion_last_5years': {0: {'salary': {'medium': {'predict': 0}, 'high': {'predict': 0}, 'low': {'predict': 0}}}, 1: {'predict': 0}}}, 'RandD': {'promotion_last_5years': {0: {'salary': {'low': {'predict': 0}, 'medium': {'predict': 0}}}}}}}, 1: {'sales': {'support': {'promotion_last_5years': {0: {'salary': {'medium': {'predict': 0}, 'high': {'predict': 0}, 'low': {'predict': 0}}}}}, 'technical': {'promotion_last_5years': {0: {'salary': {'medium': {'predict': 0}, 'low': {'predict': 0}}}}}, 'sales': {'predict': 0}, 'management': {'predict': 0}, 'RandD': {'predict': 0}, 'IT': {'predict': 0}, 'marketing': {'promotion_last_5years': {0: {'salary': {'low': {'predict': 0}, 'medium': {'predict': 0}}}}}, 'product_mng': {'predict': 0}, 'hr': {'predict': 0}}}}}, 0: {'predict': 0}, 2: {'sales': {'product_mng': {'predict': 0}, 'IT': {'predict': 0}, 'sales': {'predict': 0}, 'support': {'predict': 1}, 'technical': {'predict': 0}, 'hr': {'predict': 0}, 'accounting': {'predict': 0}, 'RandD': {'predict': 0}}}}}, 3: {'sales': {'support': {'predict': 0}, 'technical': {'predict': 1}, 'product_mng': {'predict': 1}, 'marketing': {'predict': 1}}}, 5: {'predict': 1}, 1: {'sales': {'technical': {'predict': 0}, 'IT': {'predict': 1}, 'sales': {'predict': 0}, 'hr': {'predict': 0}}}, 6: {'predict': 0}, 0: {'predict': 0}}}, 3: {'sales': {'accounting': {'predict': 0}, 'marketing': {'predict': 0}, 'technical': {'number_project': {1: {'average_montly_hours': {2: {'Work_accident': {1: {'predict': 1}, 0: {'promotion_last_5years': {0: {'salary': {'low': {'predict': 0}}}}}}}}}}}, 'hr': {'predict': 1}, 'sales': {'number_project': {1: {'average_montly_hours': {2: {'Work_accident': {0: {'promotion_last_5years': {0: {'salary': {'medium': {'predict': 1}, 'low': {'predict': 1}}}}}}}}}}}, 'support': {'predict': 1}, 'RandD': {'predict': 1}}}, 0: {'predict': 0}, 1: {'predict': 0}}}}}, 2: {'number_project': {0: {'last_evaluation': {2: {'average_montly_hours': {2: {'time_spend_company': {0: {'Work_accident': {0: {'sales': {'technical': {'promotion_last_5years': {0: {'salary': {'high': {'predict': 1}, 'low': {'predict': 1}, 'medium': {'predict': 1}}}}}, 'product_mng': {'promotion_last_5years': {0: {'salary': {'medium': {'predict': 1}, 'low': {'predict': 1}, 'high': {'predict': 1}}}}}, 'RandD': {'salary': {'low': {'predict': 1}, 'medium': {'predict': 1}, 'high': {'predict': 0}}}, 'sales': {'promotion_last_5years': {0: {'salary': {'medium': {'predict': 1}, 'low': {'predict': 1}, 'high': {'predict': 1}}}}}, 'support': {'salary': {'low': {'promotion_last_5years': {0: {'predict': 1}}}, 'medium': {'promotion_last_5years': {0: {'predict': 1}, 1: {'predict': 1}}}}}, 'IT': {'salary': {'low': {'promotion_last_5years': {0: {'predict': 1}}}, 'medium': {'predict': 1}, 'high': {'predict': 0}}}, 'hr': {'promotion_last_5years': {0: {'salary': {'low': {'predict': 1}, 'medium': {'predict': 1}, 'high': {'predict': 1}}}}}, 'accounting': {'promotion_last_5years': {0: {'salary': {'medium': {'predict': 1}, 'low': {'predict': 1}, 'high': {'predict': 1}}}}}, 'management': {'predict': 1}, 'marketing': {'predict': 1}}}, 1: {'sales': {'sales': {'promotion_last_5years': {0: {'salary': {'medium': {'predict': 1}, 'low': {'predict': 1}}}, 1: {'predict': 1}}}, 'technical': {'predict': 1}, 'accounting': {'predict': 0}, 'marketing': {'predict': 1}, 'management': {'predict': 1}, 'product_mng': {'predict': 1}, 'hr': {'predict': 1}, 'IT': {'predict': 0}, 'support': {'predict': 1}}}}}, 1: {'predict': 0}, 2: {'predict': 0}}}, 1: {'time_spend_company': {0: {'Work_accident': {0: {'promotion_last_5years': {0: {'sales': {'support': {'salary': {'low': {'predict': 1}, 'medium': {'predict': 1}, 'high': {'predict': 1}}}, 'management': {'predict': 1}, 'technical': {'predict': 1}, 'accounting': {'predict': 1}, 'sales': {'predict': 1}, 'RandD': {'predict': 1}, 'IT': {'predict': 1}, 'marketing': {'predict': 1}, 'product_mng': {'predict': 1}, 'hr': {'predict': 1}}}, 1: {'predict': 1}}}, 1: {'predict': 1}}}}}, 0: {'sales': {'technical': {'time_spend_company': {0: {'Work_accident': {0: {'promotion_last_5years': {0: {'salary': {'low': {'predict': 1}}}}}}}, 2: {'predict': 0}}}, 'marketing': {'predict': 0}, 'hr': {'predict': 1}, 'sales': {'time_spend_company': {0: {'Work_accident': {0: {'promotion_last_5years': {0: {'salary': {'low': {'predict': 0}}}}}}}}}, 'support': {'predict': 0}}}, 3: {'predict': 0}, 5: {'predict': 1}, 6: {'predict': 0}}}, 1: {'average_montly_hours': {1: {'predict': 1}, 2: {'Work_accident': {0: {'time_spend_company': {0: {'promotion_last_5years': {0: {'sales': {'marketing': {'predict': 1}, 'sales': {'predict': 1}, 'technical': {'predict': 1}, 'IT': {'predict': 1}, 'product_mng': {'salary': {'low': {'predict': 1}, 'medium': {'predict': 1}}}, 'management': {'predict': 1}, 'hr': {'predict': 1}, 'support': {'predict': 1}, 'accounting': {'predict': 1}, 'RandD': {'predict': 1}}}, 1: {'predict': 1}}}}}, 1: {'salary': {'low': {'predict': 1}, 'medium': {'predict': 1}, 'high': {'predict': 0}}}}}, 0: {'sales': {'sales': {'salary': {'medium': {'predict': 1}, 'low': {'predict': 0}}}, 'IT': {'predict': 0}, 'support': {'predict': 1}}}}}, 0: {'predict': 0}}}, 1: {'last_evaluation': {2: {'average_montly_hours': {3: {'predict': 0}, 0: {'predict': 0}, 2: {'time_spend_company': {1: {'predict': 0}, 0: {'Work_accident': {0: {'promotion_last_5years': {0: {'salary': {'medium': {'sales': {'technical': {'predict': 0}, 'RandD': {'predict': 0}, 'sales': {'predict': 0}, 'IT': {'predict': 0}, 'support': {'predict': 0}, 'management': {'predict': 1}, 'accounting': {'predict': 0}, 'marketing': {'predict': 0}, 'product_mng': {'predict': 0}}}, 'low': {'sales': {'hr': {'predict': 0}, 'management': {'predict': 0}, 'product_mng': {'predict': 0}, 'IT': {'predict': 0}, 'sales': {'predict': 0}, 'accounting': {'predict': 0}, 'RandD': {'predict': 0}, 'technical': {'predict': 0}, 'support': {'predict': 0}, 'marketing': {'predict': 0}}}, 'high': {'predict': 0}}}, 1: {'predict': 0}}}, 1: {'promotion_last_5years': {0: {'sales': {'sales': {'salary': {'medium': {'predict': 0}, 'low': {'predict': 0}}}, 'technical': {'predict': 0}, 'product_mng': {'predict': 0}, 'accounting': {'predict': 0}, 'IT': {'predict': 0}, 'support': {'predict': 0}}}}}}}, 2: {'predict': 0}}}, 1: {'predict': 0}, 7: {'predict': 1}, 6: {'predict': 0}}}, 0: {'predict': 0}, 3: {'predict': 1}, 1: {'predict': 0}}}, 2: {'sales': {'sales': {'predict': 0}, 'technical': {'time_spend_company': {0: {'predict': 0}, 1: {'predict': 0}, 2: {'predict': 1}}}, 'management': {'last_evaluation': {2: {'average_montly_hours': {2: {'time_spend_company': {0: {'Work_accident': {0: {'promotion_last_5years': {0: {'salary': {'high': {'predict': 0}}}}}}}}}}}}}, 'support': {'last_evaluation': {2: {'average_montly_hours': {2: {'time_spend_company': {0: {'salary': {'low': {'predict': 1}, 'medium': {'predict': 0}}}, 2: {'predict': 0}}}}}}}, 'marketing': {'predict': 0}, 'IT': {'predict': 0}, 'RandD': {'predict': 0}, 'hr': {'predict': 0}, 'accounting': {'predict': 0}, 'product_mng': {'predict': 1}}}}}, 0: {'predict': 1}, 1: {'average_montly_hours': {2: {'salary': {'medium': {'last_evaluation': {2: {'time_spend_company': {0: {'promotion_last_5years': {0: {'Work_accident': {0: {'sales': {'technical': {'predict': 0}, 'support': {'predict': 0}, 'sales': {'number_project': {1: {'predict': 0}, 0: {'predict': 0}, 2: {'predict': 0}}}, 'IT': {'predict': 0}, 'management': {'predict': 0}, 'product_mng': {'predict': 0}, 'accounting': {'number_project': {1: {'predict': 1}}}, 'hr': {'predict': 0}, 'RandD': {'predict': 0}, 'marketing': {'predict': 0}}}, 1: {'predict': 0}}}, 1: {'predict': 0}}}, 2: {'predict': 0}, 1: {'number_project': {1: {'predict': 0}, 2: {'sales': {'management': {'predict': 0}, 'accounting': {'predict': 0}, 'sales': {'predict': 0}, 'technical': {'predict': 0}, 'product_mng': {'predict': 0}, 'IT': {'Work_accident': {0: {'promotion_last_5years': {0: {'predict': 0}}}}}, 'hr': {'predict': 0}}}, 0: {'predict': 0}}}}}, 1: {'sales': {'support': {'predict': 0}, 'sales': {'predict': 0}, 'technical': {'predict': 1}, 'accounting': {'number_project': {2: {'predict': 1}, 1: {'predict': 0}, 0: {'predict': 0}}}, 'management': {'predict': 0}, 'hr': {'predict': 0}, 'IT': {'predict': 0}, 'RandD': {'predict': 1}}}, 0: {'predict': 0}, 3: {'predict': 0}}}, 'low': {'last_evaluation': {2: {'number_project': {2: {'time_spend_company': {1: {'sales': {'support': {'Work_accident': {1: {'predict': 0}, 0: {'promotion_last_5years': {0: {'predict': 1}}}}}, 'product_mng': {'Work_accident': {0: {'promotion_last_5years': {0: {'predict': 0}}}, 1: {'predict': 0}}}, 'technical': {'predict': 1}, 'sales': {'predict': 0}, 'marketing': {'predict': 0}, 'hr': {'predict': 0}}}, 0: {'sales': {'sales': {'Work_accident': {1: {'predict': 0}, 0: {'promotion_last_5years': {0: {'predict': 1}}}}}, 'accounting': {'predict': 0}, 'support': {'Work_accident': {0: {'promotion_last_5years': {0: {'predict': 0}}}, 1: {'predict': 0}}}, 'hr': {'predict': 0}, 'RandD': {'predict': 0}, 'technical': {'Work_accident': {0: {'promotion_last_5years': {0: {'predict': 0}}}}}, 'product_mng': {'predict': 0}, 'IT': {'predict': 0}, 'marketing': {'predict': 0}}}, 2: {'predict': 0}}}, 1: {'promotion_last_5years': {0: {'time_spend_company': {0: {'Work_accident': {0: {'sales': {'sales': {'predict': 0}, 'technical': {'predict': 0}, 'product_mng': {'predict': 0}, 'IT': {'predict': 0}, 'support': {'predict': 0}, 'marketing': {'predict': 0}, 'accounting': {'predict': 0}, 'management': {'predict': 0}, 'RandD': {'predict': 0}, 'hr': {'predict': 0}}}, 1: {'sales': {'sales': {'predict': 0}, 'technical': {'predict': 0}, 'support': {'predict': 0}, 'accounting': {'predict': 0}, 'IT': {'predict': 0}, 'product_mng': {'predict': 0}, 'marketing': {'predict': 0}, 'management': {'predict': 0}, 'RandD': {'predict': 0}}}}}, 2: {'sales': {'sales': {'predict': 0}, 'technical': {'predict': 0}, 'accounting': {'predict': 0}, 'support': {'predict': 0}, 'IT': {'predict': 0}, 'product_mng': {'predict': 0}, 'RandD': {'predict': 1}}}, 1: {'Work_accident': {0: {'sales': {'product_mng': {'predict': 0}, 'marketing': {'predict': 0}, 'RandD': {'predict': 0}, 'management': {'predict': 0}, 'support': {'predict': 0}, 'sales': {'predict': 0}, 'hr': {'predict': 0}, 'IT': {'predict': 0}, 'accounting': {'predict': 0}, 'technical': {'predict': 0}}}, 1: {'predict': 0}}}}}, 1: {'predict': 0}}}, 0: {'sales': {'accounting': {'predict': 0}, 'sales': {'time_spend_company': {0: {'predict': 0}, 1: {'predict': 1}}}, 'support': {'predict': 0}, 'RandD': {'predict': 0}, 'product_mng': {'predict': 0}, 'technical': {'predict': 0}, 'IT': {'predict': 0}}}}}, 0: {'predict': 0}, 1: {'sales': {'sales': {'predict': 0}, 'product_mng': {'predict': 0}, 'accounting': {'predict': 1}, 'IT': {'predict': 0}, 'technical': {'predict': 0}, 'support': {'predict': 0}}}, 3: {'number_project': {2: {'predict': 0}, 1: {'predict': 1}}}}}, 'high': {'Work_accident': {0: {'last_evaluation': {2: {'time_spend_company': {2: {'predict': 0}, 1: {'predict': 0}, 0: {'number_project': {1: {'predict': 0}, 0: {'predict': 0}, 2: {'sales': {'IT': {'predict': 0}, 'support': {'predict': 1}, 'sales': {'predict': 0}, 'marketing': {'predict': 0}, 'hr': {'predict': 0}}}}}}}, 0: {'predict': 0}, 1: {'predict': 0}}}, 1: {'predict': 0}}}}}, 5: {'sales': {'sales': {'predict': 1}, 'product_mng': {'predict': 0}, 'accounting': {'predict': 0}, 'IT': {'predict': 0}, 'support': {'predict': 0}, 'marketing': {'predict': 0}, 'technical': {'predict': 0}}}, 1: {'number_project': {2: {'predict': 0}, 1: {'time_spend_company': {0: {'predict': 0}, 2: {'predict': 0}, 1: {'last_evaluation': {2: {'Work_accident': {0: {'promotion_last_5years': {0: {'sales': {'sales': {'salary': {'low': {'predict': 1}}}}}}}}}}}}}, 0: {'predict': 0}}}, 3: {'last_evaluation': {1: {'predict': 0}, 2: {'time_spend_company': {1: {'number_project': {1: {'salary': {'medium': {'predict': 1}, 'low': {'predict': 0}}}, 2: {'predict': 0}}}, 0: {'number_project': {1: {'predict': 0}, 2: {'predict': 1}}}, 2: {'predict': 0}}}, 0: {'predict': 0}, 3: {'predict': 1}}}, 0: {'predict': 0}, 6: {'predict': 0}, 7: {'predict': 1}, 4: {'predict': 0}}}}}\n"
     ]
    }
   ],
   "source": [
    "def tree(df , attribute_list , pd , root=None):\n",
    "    if len(np.unique(df['left'])) <=1 :\n",
    "        return {'predict': np.unique(df['left'])[0]}\n",
    "    elif len(attribute_list) == 0:\n",
    "        t = np.argmax(np.unique(df['left'], return_counts = True)[1])\n",
    "        return {'predict': np.unique(df['left'])[t]}\n",
    "    elif len(df) == 0:\n",
    "        t = np.argmax(np.unique(pd['left'], return_counts = True)[1])\n",
    "        return {'predict': np.unique(pd['left'])[t]}\n",
    "    b = best_attribute(df,attribute_list[:])\n",
    "    attribute_list.remove(b)\n",
    "    # tree empty\n",
    "    if root is None:\n",
    "        root = {}\n",
    "        root[b] = {}\n",
    "    for i in df[b].unique():\n",
    "        new_df = df[df[b]==i]\n",
    "        root[b][i] = tree( new_df , attribute_list[:] , df)\n",
    "    return root\n",
    "# print (c_list)\n",
    "root = tree(train_set,c_list[:],train_set)\n",
    "print(root)"
   ]
  },
  {
   "cell_type": "code",
   "execution_count": 51,
   "metadata": {},
   "outputs": [],
   "source": [
    "def prediction_convert(df,attr):\n",
    "    avg = attribute_dict[attr]\n",
    "    label = 0\n",
    "    llist =[]\n",
    "    for i in df.index:\n",
    "        attv = df.loc[i,attr]\n",
    "        label = 0\n",
    "        f = 0\n",
    "        for a in avg:\n",
    "            if attv < a:\n",
    "                f = 1\n",
    "                llist.append(label)\n",
    "                break\n",
    "            else :\n",
    "                label += 1\n",
    "        if f == 0:\n",
    "            llist.append(label)\n",
    "    \n",
    "    df = df.drop(attr,axis=1)           ##\n",
    "    new1 = pd.Series(llist)              ##\n",
    "    df[attr] = new1.values\n",
    "    return df"
   ]
  },
  {
   "cell_type": "code",
   "execution_count": 52,
   "metadata": {},
   "outputs": [],
   "source": [
    "for i in numeric_data:\n",
    "    validate_set = prediction_convert(validate_set,i)"
   ]
  },
  {
   "cell_type": "code",
   "execution_count": 53,
   "metadata": {},
   "outputs": [],
   "source": [
    "def compare(row,root):\n",
    "    try:\n",
    "        if list(root.keys())[0] == 'predict':\n",
    "            return root['predict']\n",
    "        else:\n",
    "            value = row[list(root.keys())[0]]\n",
    "            return compare(row,root[list(root.keys())[0]][value])\n",
    "    except:\n",
    "        return 0         "
   ]
  },
  {
   "cell_type": "code",
   "execution_count": 54,
   "metadata": {},
   "outputs": [],
   "source": [
    "prediction = []  \n",
    "def test(root,df):\n",
    "    for index,row in df.iterrows():\n",
    "        prediction.append(compare(row,root))\n",
    "test(root,validate_set)"
   ]
  },
  {
   "cell_type": "code",
   "execution_count": 55,
   "metadata": {},
   "outputs": [
    {
     "name": "stdout",
     "output_type": "stream",
     "text": [
      "455 1703 47 43\n",
      "0.9599644128113879 0.9063745019920318 0.9136546184738956 0.9099999999999999\n"
     ]
    }
   ],
   "source": [
    "actual = validate_set['left'].tolist()\n",
    "\n",
    "def final_prediction_list():\n",
    "    prediction_list= OrderedDict()\n",
    "    tp,fp,tn,fn = 0,0,0,0\n",
    "    for i in range(len(actual)):\n",
    "        if prediction[i] == actual[i]:\n",
    "            if prediction[i] == 1:\n",
    "                tp += 1\n",
    "            elif prediction[i] == 0:\n",
    "                tn += 1\n",
    "        else:\n",
    "            if actual[i] == 1:\n",
    "                fn += 1\n",
    "            elif actual[i] == 0:\n",
    "                fp += 1\n",
    "    prediction_list['True Positive'] = tp\n",
    "    prediction_list['False Positive'] = fp\n",
    "    prediction_list['True Negative'] = tn\n",
    "    prediction_list['False Negative'] = fn\n",
    "    accuracy = (tp+tn)/len(actual)\n",
    "    precision = (tp)/(tp+fp)\n",
    "    recall = (tp)/(tp+fn)\n",
    "    f1_score = 2/(1/recall + 1/precision)\n",
    "    prediction_list['Accuracy'] = accuracy\n",
    "    prediction_list['Precision'] = precision\n",
    "    prediction_list['Recall'] = recall\n",
    "    prediction_list['F1_Score'] = f1_score\n",
    "    pp = pprint.PrettyPrinter(indent=6)\n",
    "    for i, (key, value) in enumerate(prediction_list.items()):\n",
    "        print(key + \":: \", value)\n",
    "        print(\"\")\n",
    "final_prediction_list()"
   ]
  }
 ],
 "metadata": {
  "kernelspec": {
   "display_name": "Python 3",
   "language": "python",
   "name": "python3"
  },
  "language_info": {
   "codemirror_mode": {
    "name": "ipython",
    "version": 3
   },
   "file_extension": ".py",
   "mimetype": "text/x-python",
   "name": "python",
   "nbconvert_exporter": "python",
   "pygments_lexer": "ipython3",
   "version": "3.6.7"
  }
 },
 "nbformat": 4,
 "nbformat_minor": 2
}
