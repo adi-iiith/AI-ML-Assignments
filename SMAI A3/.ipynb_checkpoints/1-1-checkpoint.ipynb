{
 "cells": [
  {
   "cell_type": "code",
   "execution_count": 1,
   "metadata": {},
   "outputs": [],
   "source": [
    "import pandas as pd\n",
    "import numpy as np\n",
    "import math"
   ]
  },
  {
   "cell_type": "code",
   "execution_count": 2,
   "metadata": {},
   "outputs": [],
   "source": [
    "data = pd.read_csv(\"data.csv\")"
   ]
  },
  {
   "cell_type": "code",
   "execution_count": 3,
   "metadata": {},
   "outputs": [
    {
     "name": "stdout",
     "output_type": "stream",
     "text": [
      "0.09068097478520054\n"
     ]
    }
   ],
   "source": [
    "def mean_square_error(original,predicted):\n",
    "    return np.square(np.subtract(original,predicted)).mean()\n",
    "\n",
    "y_label = data['xAttack']\n",
    "data = data.drop(labels = 'xAttack',axis = 1)\n",
    "\n",
    "original_array = np.array(data)\n",
    "\n",
    "col_mean = np.mean(original_array,axis = 0)\n",
    "std_div = np.std(original_array,axis = 0)\n",
    "\n",
    "for i in range(original_array.shape[0]):\n",
    "    original_array[i] = (original_array[i] - col_mean)\n",
    "    original_array[i] = original_array[i]/std_div\n",
    "\n",
    "covariance = np.cov(original_array,rowvar= False)\n",
    "\n",
    "eigen_val,eigen_vec = np.linalg.eig(covariance)\n",
    "\n",
    "ids = eigen_val.argsort()[::-1] # sorting in descending order\n",
    "#print(ids)\n",
    "\n",
    "eigen_val = eigen_val[ids]\n",
    "eigen_vec = eigen_vec[:,ids]\n",
    "\n",
    "eigen_sum = sum(eigen_val)\n",
    "\n",
    "total_sum = 0\n",
    "# for i in range(len(ids)):\n",
    "#     projections = np.matmul(original_array,eigen_vec[:,:i])\n",
    "#     reconstructed_data = np.matmul(projections,eigen_vec[:,:i].T)\n",
    "#     mean_error = mean_square_error(original_array,reconstructed_data)\n",
    "#     print(mean_error)\n",
    "\n",
    "for i in range(15):\n",
    "    projections = np.matmul(original_array,eigen_vec[:,:i])\n",
    "    reconstructed_data = np.matmul(projections,eigen_vec[:,:i].T)\n",
    "    mean_error = mean_square_error(original_array,reconstructed_data)\n",
    "print(mean_error)"
   ]
  }
 ],
 "metadata": {
  "kernelspec": {
   "display_name": "Python 3",
   "language": "python",
   "name": "python3"
  },
  "language_info": {
   "codemirror_mode": {
    "name": "ipython",
    "version": 3
   },
   "file_extension": ".py",
   "mimetype": "text/x-python",
   "name": "python",
   "nbconvert_exporter": "python",
   "pygments_lexer": "ipython3",
   "version": "3.6.7"
  }
 },
 "nbformat": 4,
 "nbformat_minor": 2
}
