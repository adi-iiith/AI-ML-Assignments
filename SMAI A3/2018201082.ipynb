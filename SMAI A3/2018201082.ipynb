{
 "cells": [
  {
   "cell_type": "code",
   "execution_count": 1,
   "metadata": {},
   "outputs": [],
   "source": [
    "import numpy as np\n",
    "import pandas as pd\n",
    "import matplotlib.pyplot as plt\n",
    "import random\n",
    "from pprint import pprint\n",
    "from collections import OrderedDict\n",
    "from sklearn.mixture import GaussianMixture\n",
    "from sklearn.cluster import AgglomerativeClustering\n",
    "from sklearn import metrics\n",
    "import copy\n",
    "import operator"
   ]
  },
  {
   "cell_type": "markdown",
   "metadata": {},
   "source": [
    "------------------------------------------------------------------\n",
    "<h1>Question 1"
   ]
  },
  {
   "cell_type": "code",
   "execution_count": 2,
   "metadata": {},
   "outputs": [],
   "source": [
    "def MSE(actual,predicted):\n",
    "    return np.square(np.subtract(actual,predicted)).mean()"
   ]
  },
  {
   "cell_type": "markdown",
   "metadata": {},
   "source": [
    "<h3>Part 1.1"
   ]
  },
  {
   "cell_type": "code",
   "execution_count": 3,
   "metadata": {},
   "outputs": [
    {
     "name": "stdout",
     "output_type": "stream",
     "text": [
      "1 ::  100.0 %\n",
      "2 ::  76.76672220547519 %\n",
      "3 ::  59.99517510806409 %\n",
      "4 ::  50.98504093854256 %\n",
      "5 ::  44.474093839914914 %\n",
      "6 ::  39.39708648573979 %\n",
      "7 ::  34.76122058459069 %\n",
      "8 ::  30.841143469384786 %\n",
      "9 ::  27.199936821762527 %\n",
      "10 ::  23.730903552856553 %\n",
      "11 ::  20.290534211189975 %\n",
      "12 ::  16.970374872200818 %\n",
      "13 ::  13.801426909829404 %\n",
      "14 ::  11.329120901311313 %\n",
      "15 ::  9.068097478520054 %\n",
      "16 ::  7.354866419947663 %\n",
      "17 ::  5.81171899390736 %\n",
      "18 ::  4.390673014870629 %\n",
      "19 ::  3.0041291304537503 %\n",
      "20 ::  1.8137639048019623 %\n",
      "21 ::  1.0889505035469333 %\n",
      "22 ::  0.7541702094107017 %\n",
      "23 ::  0.5249284692074797 %\n",
      "24 ::  0.3449784126071123 %\n",
      "25 ::  0.20827390054840786 %\n",
      "26 ::  0.10861387389182868 %\n",
      "27 ::  0.05216870771929662 %\n",
      "28 ::  0.019443228374515287 %\n",
      "29 ::  0.003462196948982658 %\n"
     ]
    }
   ],
   "source": [
    "df = pd.read_csv(\"Datasets/data.csv\")\n",
    "\n",
    "actual = df['xAttack']\n",
    "df = df.drop(labels = 'xAttack',axis = 1)\n",
    "\n",
    "actual_arr = np.array(df)\n",
    "\n",
    "std_div = np.std(actual_arr,axis = 0)\n",
    "col_mean = np.mean(actual_arr,axis = 0)\n",
    "\n",
    "for i in range(actual_arr.shape[0]):\n",
    "    actual_arr[i] = (actual_arr[i] - col_mean)/std_div\n",
    "\n",
    "covar = np.cov(actual_arr,rowvar= False)\n",
    "eigen_val,eigen_vec = np.linalg.eig(covar)\n",
    "\n",
    "ids = eigen_val.argsort()[::-1] # sorting in descending order\n",
    "\n",
    "#print(ids)\n",
    "eigen_val = eigen_val[ids]\n",
    "eigen_vec = eigen_vec[:,ids]\n",
    "\n",
    "eigen_sum = sum(eigen_val)\n",
    "\n",
    "for i in range(29):\n",
    "    projections = np.matmul(actual_arr,eigen_vec[:,:i])\n",
    "    reconstructed_data = np.matmul(projections,eigen_vec[:,:i].T)\n",
    "    mean_error = MSE(actual_arr,reconstructed_data)\n",
    "    print((i+1),\":: \",mean_error*100,\"%\")"
   ]
  },
  {
   "cell_type": "markdown",
   "metadata": {},
   "source": [
    "------------------------------------------------------------\n",
    "<h3>Part1.2"
   ]
  },
  {
   "cell_type": "code",
   "execution_count": 10,
   "metadata": {},
   "outputs": [
    {
     "name": "stdout",
     "output_type": "stream",
     "text": [
      "Total Iterations :  16\n",
      "Purity of cluster  1 :  0.5348232848232848\n"
     ]
    },
    {
     "ename": "TypeError",
     "evalue": "'builtin_function_or_method' object is not iterable",
     "output_type": "error",
     "traceback": [
      "\u001b[0;31m---------------------------------------------------------------------------\u001b[0m",
      "\u001b[0;31mTypeError\u001b[0m                                 Traceback (most recent call last)",
      "\u001b[0;32m<ipython-input-10-b8b13132f528>\u001b[0m in \u001b[0;36m<module>\u001b[0;34m\u001b[0m\n\u001b[1;32m     84\u001b[0m     \u001b[0mmax_value\u001b[0m \u001b[0;34m=\u001b[0m \u001b[0mmax\u001b[0m\u001b[0;34m(\u001b[0m\u001b[0mfinal_l\u001b[0m\u001b[0;34m[\u001b[0m\u001b[0mi\u001b[0m\u001b[0;34m]\u001b[0m\u001b[0;34m)\u001b[0m\u001b[0;34m\u001b[0m\u001b[0m\n\u001b[1;32m     85\u001b[0m     \u001b[0mprint\u001b[0m\u001b[0;34m(\u001b[0m\u001b[0;34m\"Purity of cluster \"\u001b[0m\u001b[0;34m,\u001b[0m\u001b[0;34m(\u001b[0m\u001b[0mi\u001b[0m\u001b[0;34m+\u001b[0m\u001b[0;36m1\u001b[0m\u001b[0;34m)\u001b[0m\u001b[0;34m,\u001b[0m\u001b[0;34m': '\u001b[0m\u001b[0;34m,\u001b[0m\u001b[0;34m(\u001b[0m\u001b[0mmax_value\u001b[0m\u001b[0;34m/\u001b[0m\u001b[0mtotal\u001b[0m\u001b[0;34m)\u001b[0m\u001b[0;34m)\u001b[0m\u001b[0;34m\u001b[0m\u001b[0m\n\u001b[0;32m---> 86\u001b[0;31m     \u001b[0mprint\u001b[0m\u001b[0;34m(\u001b[0m\u001b[0;34m\"Cluster : \"\u001b[0m\u001b[0;34m,\u001b[0m\u001b[0mmax\u001b[0m\u001b[0;34m(\u001b[0m\u001b[0mfinal_l\u001b[0m\u001b[0;34m[\u001b[0m\u001b[0;36m0\u001b[0m\u001b[0;34m]\u001b[0m\u001b[0;34m.\u001b[0m\u001b[0mindex\u001b[0m\u001b[0;34m)\u001b[0m\u001b[0;34m)\u001b[0m\u001b[0;34m\u001b[0m\u001b[0m\n\u001b[0m\u001b[1;32m     87\u001b[0m \u001b[0;32mfor\u001b[0m \u001b[0mi\u001b[0m \u001b[0;32min\u001b[0m \u001b[0mrange\u001b[0m\u001b[0;34m(\u001b[0m\u001b[0mk_cluster\u001b[0m\u001b[0;34m)\u001b[0m\u001b[0;34m:\u001b[0m\u001b[0;34m\u001b[0m\u001b[0m\n\u001b[1;32m     88\u001b[0m     \u001b[0mtotal\u001b[0m \u001b[0;34m=\u001b[0m \u001b[0mnp\u001b[0m\u001b[0;34m.\u001b[0m\u001b[0msum\u001b[0m\u001b[0;34m(\u001b[0m\u001b[0mfinal_l\u001b[0m\u001b[0;34m[\u001b[0m\u001b[0mi\u001b[0m\u001b[0;34m]\u001b[0m\u001b[0;34m)\u001b[0m\u001b[0;34m\u001b[0m\u001b[0m\n",
      "\u001b[0;31mTypeError\u001b[0m: 'builtin_function_or_method' object is not iterable"
     ]
    }
   ],
   "source": [
    "df = pd.read_csv(\"Datasets/data.csv\")\n",
    "\n",
    "actual = df['xAttack']\n",
    "data = copy.deepcopy(df)\n",
    "df = df.drop(labels = 'xAttack',axis = 1)\n",
    "\n",
    "actual_arr = np.array(df)\n",
    "\n",
    "std_div = np.std(actual_arr,axis = 0)\n",
    "col_mean = np.mean(actual_arr,axis = 0)\n",
    "\n",
    "for i in range(actual_arr.shape[0]):\n",
    "    actual_arr[i] = (actual_arr[i] - col_mean)/std_div\n",
    "\n",
    "covar = np.cov(actual_arr,rowvar= False)\n",
    "eigen_val,eigen_vec = np.linalg.eig(covar)\n",
    "\n",
    "ids = eigen_val.argsort()[::-1] # sorting in descending order\n",
    "\n",
    "#print(ids)\n",
    "eigen_val = eigen_val[ids]\n",
    "eigen_vec = eigen_vec[:,ids]\n",
    "\n",
    "eigen_sum = sum(eigen_val)\n",
    "projections = np.matmul(actual_arr,eigen_vec[:,:14])\n",
    "\n",
    "k_cluster = 5\n",
    "th_count = 999\n",
    "\n",
    "output = actual.unique()\n",
    "\n",
    "label = {}\n",
    "centroids = {}\n",
    "final_l = {}\n",
    "\n",
    "for i in range(5):\n",
    "    label[output[i]] = i\n",
    "\n",
    "centroids[0] = projections[0]\n",
    "centroids[1] = projections[100]\n",
    "centroids[2] = projections[200]\n",
    "centroids[3] = projections[300]\n",
    "centroids[4] = projections[400]\n",
    "\n",
    "for i in range(th_count):\n",
    "    cluster = {}\n",
    "    final_l.clear()\n",
    "    \n",
    "    for j in range(k_cluster):\n",
    "        cluster[j] = []\n",
    "        final_l[j] = []\n",
    "        \n",
    "        for k in range(k_cluster):\n",
    "            final_l[j].append(0)\n",
    "        \n",
    "    for j,l in zip(projections,range(projections.shape[0])):\n",
    "        dist = []\n",
    "        for k in centroids:\n",
    "            dist.append(np.linalg.norm(j - centroids[k]))\n",
    "        classify = dist.index(min(dist))\n",
    "        cluster[classify].append(j)\n",
    "        final_l[classify][label[actual[l]]]+= 1\n",
    "        \n",
    "    previous_value = {}\n",
    "        \n",
    "    for j in range(k_cluster):\n",
    "        previous_value[j] = centroids[j]\n",
    "        average = np.mean(cluster[j],axis = 0)\n",
    "        centroids[j] = average\n",
    "        \n",
    "    convergence = True\n",
    "        \n",
    "    for j in range(k_cluster):\n",
    "        if np.sum(abs(previous_value[j] - centroids[j])/abs(centroids[j]) * 100) > 0.001:\n",
    "            convergence = False\n",
    "            break\n",
    "    if convergence == True:\n",
    "        break\n",
    "        \n",
    "print('Total Iterations : ',(i+1))\n",
    "purity = 0.0\n",
    "for i in range(k_cluster):\n",
    "    total = np.sum(final_l[i])\n",
    "    max_value = max(final_l[i])\n",
    "    print(\"Purity of cluster \",(i+1),': ',(max_value/total))\n",
    "    print(\"Cluster : \",max(final_l[0].index))\n",
    "for i in range(k_cluster):\n",
    "    total = np.sum(final_l[i])\n",
    "    max_value = max(final_l[i])\n",
    "    ppurity = max_value/total\n",
    "    percent = (total*ppurity)/float(len(data))\n",
    "    purity += percent  \n",
    "print(\"Average Purity of Cluster : \",purity)"
   ]
  },
  {
   "cell_type": "code",
   "execution_count": 9,
   "metadata": {},
   "outputs": [
    {
     "data": {
      "text/plain": [
       "{0: [1029, 24, 820, 51, 0],\n",
       " 1: [23, 1364, 716, 0, 0],\n",
       " 2: [11736, 919, 358, 136, 10],\n",
       " 3: [35, 6807, 76, 0, 0],\n",
       " 4: [541, 0, 343, 10, 0]}"
      ]
     },
     "execution_count": 9,
     "metadata": {},
     "output_type": "execute_result"
    }
   ],
   "source": [
    "final_l"
   ]
  },
  {
   "cell_type": "markdown",
   "metadata": {},
   "source": [
    "<h3>Part 3 : GMM"
   ]
  },
  {
   "cell_type": "code",
   "execution_count": 6,
   "metadata": {},
   "outputs": [
    {
     "name": "stdout",
     "output_type": "stream",
     "text": [
      "Clusters with label  normal purity_percent ::  0.4834193072955048\n",
      "Clusters with label  dos purity_percent ::  1.0\n",
      "Clusters with label  normal purity_percent ::  0.49483985765124555\n",
      "Clusters with label  normal purity_percent ::  0.8628218510786361\n",
      "Clusters with label  normal purity_percent ::  1.0\n",
      "Average purity_percent is ::  0.7953036242899432\n"
     ]
    }
   ],
   "source": [
    "dict_max = {}\n",
    "GMM = GaussianMixture(n_components=5)\n",
    "clusters_gmm = GMM.fit_predict(projections)\n",
    "data['clusters_gmm'] = clusters_gmm\n",
    "avg_purity = 0.0\n",
    "for i in range(5):\n",
    "    t = data[data['clusters_gmm'] == i]\n",
    "    dict_max[i] = t.groupby('xAttack')['clusters_gmm'].count().idxmax()\n",
    "    purity_percent = len(t[t['xAttack'] == dict_max[i]])/float(len(t))\n",
    "    avg_purity = avg_purity + (purity_percent * len(t))/len(data)\n",
    "    \n",
    "    print(\"Clusters with label \",dict_max[i] + \" purity_percent :: \",str(purity_percent))\n",
    "\n",
    "print(\"Average purity_percent is :: \",avg_purity)"
   ]
  },
  {
   "cell_type": "markdown",
   "metadata": {},
   "source": [
    "<h3>Part 4 : Agglomerative Clustering"
   ]
  },
  {
   "cell_type": "code",
   "execution_count": 60,
   "metadata": {},
   "outputs": [
    {
     "name": "stdout",
     "output_type": "stream",
     "text": [
      "Cluster with label normal purity percentage ::  0.5346352395053824\n",
      "Cluster with label probe purity percentage ::  1.0\n",
      "Cluster with label r2l purity percentage ::  0.6666666666666666\n",
      "Cluster with label normal purity percentage ::  1.0\n",
      "Cluster with label normal purity percentage ::  1.0\n",
      "Average Purity is ::  53.47227778222256\n"
     ]
    }
   ],
   "source": [
    "dict_max = {}\n",
    "\n",
    "clustering = AgglomerativeClustering(n_clusters=5,linkage='single')\n",
    "clusters = clustering.fit_predict(projections)\n",
    "data['clusters'] = clusters\n",
    "average_agg = 0.0\n",
    "for i in range(5):\n",
    "    t = data[data['clusters'] == i]\n",
    "    dict_max[i] = t.groupby('xAttack')['clusters'].count().idxmax()\n",
    "    percent = len(t[t['xAttack'] == dict_max[i]])/float(len(t))\n",
    "    average_agg += (percent * len(t))/len(data)\n",
    "    \n",
    "    print(\"Cluster with label\",dict_max[i] + \" purity percentage :: \",str(percent))\n",
    "\n",
    "print(\"Average Purity is :: \",average_agg*100)"
   ]
  },
  {
   "cell_type": "code",
   "execution_count": 61,
   "metadata": {},
   "outputs": [
    {
     "data": {
      "image/png": "[encoded data removed]",
      "text/plain": [
       "<Figure size 720x720 with 1 Axes>"
      ]
     },
     "metadata": {},
     "output_type": "display_data"
    }
   ],
   "source": [
    "labels = 'K-Means Clustering', 'GMM', 'Agglomerative Clustering'\n",
    "input_list = [purity,avg_purity,average_agg]\n",
    "colors = ['red','blue','green']\n",
    "explode = (0.05, 0.05, 0.05)\n",
    " \n",
    "plt.figure(figsize=(10,10))\n",
    "plt.pie(input_list, explode=explode, labels=labels, colors=colors,\n",
    "autopct='%f%%', shadow=True, startangle=180)\n",
    " \n",
    "plt.axis('equal')\n",
    "plt.show()\n"
   ]
  },
  {
   "cell_type": "markdown",
   "metadata": {},
   "source": [
    "<h3>Part 5 : Pie Chart"
   ]
  },
  {
   "cell_type": "markdown",
   "metadata": {},
   "source": [
    "<b>\n",
    "    Typically without any preprocessing we cannot use PCA on Categorical data.\n",
    "    PC analysis is really analysis of eigenvectors of covariance matrix. So the problem is how to calculate the \"correct\" covariance matrix.PCA is desinged for continuous variables. It tries to minimize variance (=squared deviations). The concept of squared deviations breaks down when you have binary variables.\n",
    "\n"
   ]
  },
  {
   "cell_type": "markdown",
   "metadata": {},
   "source": [
    "---------------------------------------------------------------------------------\n",
    "<h1>Question 2"
   ]
  },
  {
   "cell_type": "code",
   "execution_count": 6,
   "metadata": {},
   "outputs": [],
   "source": [
    "df = pd.read_csv(\"Datasets/data_admission.csv\")\n",
    "train_df=df.sample(frac=0.8,random_state=200)\n",
    "validate_df=df.drop(train_df.index)\n",
    "\n",
    "validate_label = validate_df['Chance of Admit ']\n",
    "validate_df = validate_df.drop('Chance of Admit ',axis = 1)\n",
    "\n",
    "train_df = train_df.drop('Serial No.',axis = 1)\n",
    "validate_df = validate_df.drop('Serial No.',axis = 1)\n",
    "\n",
    "train_label = train_df['Chance of Admit ']\n",
    "train_df = train_df.drop('Chance of Admit ',axis = 1)\n",
    "\n",
    "train_df = (train_df - train_df.mean())/train_df.std()\n",
    "validate_df = (validate_df - validate_df.mean())/validate_df.std()\n",
    "\n",
    "train_label[train_label >= 0.5] = 1\n",
    "train_label[train_label < 0.5] = 0\n",
    "validate_label[validate_label >= 0.5] = 1\n",
    "validate_label[validate_label < 0.5] = 0\n",
    "\n",
    "# Convert into numpy array's\n",
    "\n",
    "train_label = [train_label]\n",
    "train_label = np.array(train_label)\n",
    "train_label = train_label.T\n",
    "\n",
    "# Appending 1 to training and testing data frame\n",
    "one = []\n",
    "for i in range(len(train_df)):\n",
    "    one.append(1)\n",
    "train_df.insert(0,'Ones',one,allow_duplicates=False)\n",
    "one = []\n",
    "for i in range(len(validate_df)):\n",
    "    one.append(1)\n",
    "validate_df.insert(0,'Ones',one,allow_duplicates=False)\n",
    "\n",
    "train_df = train_df.values\n",
    "\n"
   ]
  },
  {
   "cell_type": "code",
   "execution_count": 7,
   "metadata": {},
   "outputs": [],
   "source": [
    "def sigmoid(z):\n",
    "    return (1/(1 + np.exp(-z)))\n",
    "\n",
    "def dot_product(x,B):\n",
    "    return np.dot(x,B)\n",
    "\n",
    "def theta(B,x,y):\n",
    "    m = x.shape[0]\n",
    "    return np.dot(x.T,sigmoid((dot_product(x,B))) - y)\n",
    "def helper(B,x,y):\n",
    "    m = x.shape[0]\n",
    "    return np.dot(x.T,sigmoid((dot_product(x,B))) - y)\n",
    "\n",
    "\n",
    "def gradient_descent(B,x,learing_rate,threshold,iteration,y):\n",
    "    m = y.shape[0]\n",
    "    for i in range(iteration):\n",
    "        B_temp = copy.deepcopy(B)\n",
    "        temp = helper(B,x,y)\n",
    "        B = B - (learing_rate * temp / m)\n",
    "#         convergence= True\n",
    "#         for j in range(len(B)):\n",
    "#             if abs(B_temp[j][0] - B[j][0] > threshold):\n",
    "#                 convergence_test = False\n",
    "#         if convergence:\n",
    "#             break\n",
    "    return B\n",
    "\n",
    "      \n"
   ]
  },
  {
   "cell_type": "code",
   "execution_count": 8,
   "metadata": {},
   "outputs": [
    {
     "name": "stdout",
     "output_type": "stream",
     "text": [
      "Accuracy :  97.77777777777777 %\n"
     ]
    }
   ],
   "source": [
    "B = np.zeros((train_df.shape[1],1))\n",
    "B = gradient_descent(B,train_df,0.01,0.0001,500,train_label)\n",
    "\n",
    "test_array = dot_product(validate_df,B)\n",
    "test_array = np.array(test_array)\n",
    "\n",
    "predicted = sigmoid(test_array)\n",
    "predicted[predicted >= 0.5] = 1\n",
    "predicted[predicted < 0.5] = 0\n",
    "\n",
    "validate_label = np.array(validate_label).T\n",
    "accuracy = len([1 for x in range(len(validate_label)) if validate_label[x] == predicted[x]])/len(validate_label)\n",
    "print(\"Accuracy : \",accuracy*100,'%')"
   ]
  },
  {
   "cell_type": "markdown",
   "metadata": {},
   "source": [
    "<h3>Part 2.2"
   ]
  },
  {
   "cell_type": "code",
   "execution_count": 9,
   "metadata": {},
   "outputs": [
    {
     "name": "stdout",
     "output_type": "stream",
     "text": [
      "accuracy:: 95.55555555555556  %\n",
      "\n",
      "precision:: 73.83720930232558  %\n",
      "\n",
      "recall:: 73.83720930232558  %\n",
      "\n",
      "f1_score:: 73.83720930232558  %\n",
      "\n"
     ]
    }
   ],
   "source": [
    "def KNN(k, p):\n",
    "    predictions = []\n",
    "\n",
    "    for i in validate_df_updated.values:\n",
    "        dist = []\n",
    "        itr = 0\n",
    "        for j in train_df_updated.values:\n",
    "            euc_distance_list = (abs(i - j)) ** p\n",
    "            actual_distance = 0\n",
    "            for z in range(0, len(euc_distance_list)):\n",
    "                actual_distance += euc_distance_list[z]\n",
    "            actual_distance = actual_distance ** (1/p)\n",
    "            dist.append([actual_distance, itr])\n",
    "            itr += 1\n",
    "        dist.sort()\n",
    "        counts_store = []\n",
    "        for j in range(k):\n",
    "            counts_store.append(train.values[dist[j][1]][-1])\n",
    "        labels, label_counts = np.unique(counts_store, return_counts=True)\n",
    "        predictions.append(labels[np.argmax(label_counts)])\n",
    "\n",
    "    pred_label, pred_label_counts = np.unique(predictions, return_counts=True)\n",
    "    tp_counts = [0] * len(pred_label)\n",
    "    test_label, test_label_counts = np.unique(validate['label'], return_counts=True)\n",
    "    for i in range(len(predictions)):\n",
    "        if predictions[i] == validate.values[i][-1]:\n",
    "            tp_counts[pred_label.tolist().index(predictions[i])] += 1    \n",
    "    \n",
    "    prediction_list = OrderedDict()\n",
    "    \n",
    "    accuracy = sum(tp_counts) / len(predictions)\n",
    "    temp = 0\n",
    "    for i in range(len(pred_label)):\n",
    "        temp += tp_counts[i] / pred_label_counts[i]\n",
    "    precision = temp / len(pred_label)\n",
    "    temp = 0\n",
    "    for i in range(len(pred_label)):\n",
    "        temp += tp_counts[i] / test_label_counts[i]\n",
    "    recall = temp / len(test_label)\n",
    "    f1 = 2 / ((1 / recall) + (1 / precision))\n",
    "    prediction_list['accuracy'] = accuracy\n",
    "    prediction_list['precision'] = precision\n",
    "    prediction_list['recall'] = recall\n",
    "    prediction_list['f1_score'] = f1\n",
    "    \n",
    "    return prediction_list\n",
    "   \n",
    "df = pd.read_csv(\"Datasets/data_admission.csv\")\n",
    "df.loc[df['Chance of Admit '] >= 0.5, 'Chance of Admit '] = 1\n",
    "df.loc[df['Chance of Admit '] < 0.5, 'Chance of Admit '] = 0\n",
    "df['label'] = df['Chance of Admit ']\n",
    "df = df.drop(['Chance of Admit '],axis=1)\n",
    "df = df.drop(['Serial No.'],axis=1)\n",
    "train = df.sample(frac=0.8, random_state=200)\n",
    "validate = df.drop(train.index)\n",
    "# train = train.drop('Serial No.',axis = 1)\n",
    "train_df_updated = train.drop(['label'],axis=1)\n",
    "validate_df_updated = validate.drop(['label'], axis=1)\n",
    "\n",
    "prediction_list = KNN(5,2)\n",
    "for i, (key, value) in enumerate(prediction_list.items()):\n",
    "    print(key + \"::\", value*100,' %')\n",
    "    print(\"\")"
   ]
  },
  {
   "cell_type": "markdown",
   "metadata": {},
   "source": [
    "<h3>Part 3 : Changing Thresholds"
   ]
  },
  {
   "cell_type": "code",
   "execution_count": 10,
   "metadata": {},
   "outputs": [],
   "source": [
    "def General(threshold):\n",
    "    df = pd.read_csv(\"Datasets/data_admission.csv\")\n",
    "    train_df=df.sample(frac=0.8,random_state=200)\n",
    "    validate_df=df.drop(train_df.index)\n",
    "\n",
    "    validate_label = validate_df['Chance of Admit ']\n",
    "    validate_df = validate_df.drop('Chance of Admit ',axis = 1)\n",
    "\n",
    "    train_df = train_df.drop('Serial No.',axis = 1)\n",
    "    validate_df = validate_df.drop('Serial No.',axis = 1)\n",
    "\n",
    "    train_label = train_df['Chance of Admit ']\n",
    "    train_df = train_df.drop('Chance of Admit ',axis = 1)\n",
    "\n",
    "    train_df = (train_df - train_df.mean())/train_df.std()\n",
    "    validate_df = (validate_df - validate_df.mean())/validate_df.std()\n",
    "\n",
    "    train_label[train_label >= threshold] = 1\n",
    "    train_label[train_label < threshold] = 0\n",
    "    validate_label[validate_label >= threshold] = 1\n",
    "    validate_label[validate_label < threshold] = 0\n",
    "\n",
    "    # Convert into numpy array's\n",
    "\n",
    "    train_label = [train_label]\n",
    "    train_label = np.array(train_label)\n",
    "    train_label = train_label.T\n",
    "\n",
    "    # Appending 1 to training and testing data frame\n",
    "    one = []\n",
    "    for i in range(len(train_df)):\n",
    "        one.append(1)\n",
    "    train_df.insert(0,'Ones',one,allow_duplicates=False)\n",
    "    one = []\n",
    "    for i in range(len(validate_df)):\n",
    "        one.append(1)\n",
    "    validate_df.insert(0,'Ones',one,allow_duplicates=False)\n",
    "\n",
    "    train_df = train_df.values\n",
    "    return train_df,validate_df,train_label,validate_label\n",
    "    \n",
    "threshold = []\n",
    "recall = []\n",
    "precision = []\n",
    "accuracy = []\n",
    "\n",
    "for i in range(2,9):\n",
    "    i*=0.1\n",
    "    train_df,validate_df,train_label,test_label = General(i)\n",
    "    B = np.zeros((train_df.shape[1],1))\n",
    "    B = gradient_descent(B,train_df,0.01,0.0001,500,train_label)\n",
    "\n",
    "    test_array = dot_product(validate_df,B)\n",
    "    test_array = np.array(test_array)\n",
    "\n",
    "    predicted = sigmoid(test_array)\n",
    "    for y in range(len(predicted)):\n",
    "        if predicted[y] >= i:\n",
    "            predicted[y] = 1\n",
    "        else:\n",
    "            predicted[y] = 0\n",
    "    threshold.append(i)\n",
    "    validate_label = np.array(validate_label).T\n",
    "    accuracy.append(metrics.accuracy_score(validate_label,predicted))\n",
    "    precision.append(metrics.precision_score(validate_label,predicted))\n",
    "    recall.append(metrics.recall_score(validate_label,predicted))\n"
   ]
  },
  {
   "cell_type": "code",
   "execution_count": 67,
   "metadata": {},
   "outputs": [
    {
     "data": {
      "image/png": "[encoded data removed]",
      "text/plain": [
       "<Figure size 432x288 with 1 Axes>"
      ]
     },
     "metadata": {
      "needs_background": "light"
     },
     "output_type": "display_data"
    }
   ],
   "source": [
    "plt.plot(threshold, recall)\n",
    "# plt.plot(threshold,precision)\n",
    "# plt.xlabel('Thresold')\n",
    "plt.ylabel('Recall')\n",
    "plt.title('Q_2.3')\n",
    "# plt.legend(['Recall', 'Precision'], loc='upper left')\n",
    "plt.grid(True)\n",
    "\n",
    "plt.show()"
   ]
  },
  {
   "cell_type": "code",
   "execution_count": 68,
   "metadata": {},
   "outputs": [
    {
     "data": {
      "image/png": "[encoded data removed]",
      "text/plain": [
       "<Figure size 432x288 with 1 Axes>"
      ]
     },
     "metadata": {
      "needs_background": "light"
     },
     "output_type": "display_data"
    }
   ],
   "source": [
    "# plt.plot(threshold, recall)\n",
    "plt.plot(threshold,precision)\n",
    "plt.xlabel('Thresold')\n",
    "# plt.ylabel('Recall')\n",
    "plt.title('Q_2.3')\n",
    "# plt.legend(['Recall', 'Precision'], loc='upper left')\n",
    "plt.grid(True)\n",
    "\n",
    "plt.show()"
   ]
  },
  {
   "cell_type": "markdown",
   "metadata": {},
   "source": [
    "---------------------------------------------------------------------------\n",
    "<h1>Question 3"
   ]
  },
  {
   "cell_type": "markdown",
   "metadata": {},
   "source": [
    "<h2>One vs All"
   ]
  },
  {
   "cell_type": "code",
   "execution_count": 13,
   "metadata": {},
   "outputs": [
    {
     "name": "stdout",
     "output_type": "stream",
     "text": [
      "Accuracy ::  46.59863945578231 %\n"
     ]
    }
   ],
   "source": [
    "df = pd.read_csv(\"Datasets/data_wine.csv\")\n",
    "\n",
    "train = df.sample(frac = 0.8, random_state = 200)\n",
    "validate = df.drop(train.index)\n",
    "\n",
    "te = train['quality']\n",
    "train = train.drop(labels = 'quality', axis = 1)\n",
    "train = (train - train.mean())/train.std()\n",
    "train.insert(0, 'quality', te, allow_duplicates = False)\n",
    "\n",
    "te = validate['quality']\n",
    "validate = validate.drop(labels = 'quality', axis = 1)\n",
    "validate = (validate - validate.mean())/validate.std()\n",
    "validate.insert(0, 'quality', te, allow_duplicates = False)\n",
    "\n",
    "classification_list = train['quality'].unique()\n",
    "ctheta = []\n",
    "\n",
    "def out_t(temp,val) :\n",
    "    li = []\n",
    "    for i in temp :\n",
    "        if(i == val) :\n",
    "            li.append(1)\n",
    "        else :\n",
    "            li.append(0)\n",
    "\n",
    "    return li\n",
    "\n",
    "for i in classification_list:\n",
    "    y_train_act = train['quality']\n",
    "    train_df = train.drop('quality', axis = 1)\n",
    "    mytemp = y_train_act.tolist()\n",
    "    y_train_act = np.array(out_t(mytemp,i))\n",
    "    li = []\n",
    "    for p in range(len(train.index)) :\n",
    "        li.append(1)\n",
    "    train_df.insert(0, 'new_column', li, allow_duplicates = False)\n",
    "    train_df = train_df.values\n",
    "    theta = np.zeros((train_df.shape[1],1))\n",
    "    y_train_act = [y_train_act]\n",
    "    y_train_act = np.array(y_train_act)\n",
    "    y_train_act = y_train_act.T\n",
    "    theta = gradient_descent(theta,train_df,0.00001,0.01,1000,y_train_act)\n",
    "    theta.tolist()\n",
    "    ctheta.append(theta)\n",
    "\n",
    "ctheta = np.array(ctheta)\n",
    "\n",
    "ctheta = ctheta[:,:,0]\n",
    "\n",
    "\n",
    "\n",
    "li = []\n",
    "for x in range(len(validate.index)) :\n",
    "    li.append(1)\n",
    "y_test_act = validate['quality']\n",
    "validate.insert(0, 'new_column', li, allow_duplicates = False)\n",
    "validate = validate.drop('quality', axis = 1)\n",
    "\n",
    "y_pred = []\n",
    "for i, rows in validate.iterrows() :\n",
    "    templi = []\n",
    "    for j in range(ctheta.shape[0]) :\n",
    "        rows = np.array(rows)\n",
    "        t = np.matmul(ctheta[j],rows)\n",
    "        t = sigmoid(t)\n",
    "        templi.append(t)\n",
    "\n",
    "\n",
    "    index, value = max(enumerate(templi), key=operator.itemgetter(1))\n",
    "    y_pred.append(classification_list[index])\n",
    "print(\"Accuracy :: \"   , metrics.accuracy_score(y_pred,y_test_act)*100,'%')"
   ]
  },
  {
   "cell_type": "markdown",
   "metadata": {},
   "source": [
    "<h3>One vs One"
   ]
  },
  {
   "cell_type": "code",
   "execution_count": 14,
   "metadata": {},
   "outputs": [
    {
     "name": "stdout",
     "output_type": "stream",
     "text": [
      "Accuracy ::  46.59863945578231 %\n"
     ]
    }
   ],
   "source": [
    "df = pd.read_csv(\"Datasets/data_wine.csv\")\n",
    "\n",
    "train = df.sample(frac = 0.8, random_state = 200)\n",
    "validate = df.drop(train.index)\n",
    "\n",
    "te = train['quality']\n",
    "train = train.drop(labels = 'quality', axis = 1)\n",
    "train = (train - train.mean())/train.std()\n",
    "train.insert(0, 'quality', te, allow_duplicates = False)\n",
    "\n",
    "te = validate['quality']\n",
    "validate = validate.drop(labels = 'quality', axis = 1)\n",
    "validate = (validate - validate.mean())/validate.std()\n",
    "validate.insert(0, 'quality', te, allow_duplicates = False)\n",
    "\n",
    "ulist = train['quality'].unique()\n",
    "ctheta = []\n",
    "classification_list = []\n",
    "for i in range(len(ulist)-1):\n",
    "    for j in range(i+1,len(ulist)) :\n",
    "        classification_list.append((ulist[i],ulist[j]))\n",
    "\n",
    "for i in classification_list:\n",
    "    temp1 = train[train['quality'] == i[0]]\n",
    "    temp2 = train[train['quality'] == i[1]]\n",
    "    frames = [temp1,temp2]\n",
    "    train_df = pd.concat(frames)\n",
    "    y_train_act = train_df['quality']\n",
    "    train_df = train_df.drop('quality', axis = 1)\n",
    "    y_train_act[y_train_act == i[0]] = 1\n",
    "    y_train_act[y_train_act == i[1]] = 0\n",
    "    li = []\n",
    "    for y in range(len(train_df.index)) :\n",
    "        li.append(1)\n",
    "\n",
    "    train_df.insert(0, 'new_column', li, allow_duplicates = False)\n",
    "\n",
    "    train_df = train_df.values\n",
    "    theta = np.zeros((train_df.shape[1],1))\n",
    "    y_train_act = [y_train_act]\n",
    "    y_train_act = np.array(y_train_act)\n",
    "    y_train_act = y_train_act.T\n",
    "    theta = gradient_descent(theta,train_df,0.00001,0.01,1000,y_train_act)\n",
    "    theta.tolist()\n",
    "    ctheta.append(theta)\n",
    "    \n",
    "ctheta = np.array(ctheta)\n",
    "ctheta = ctheta[:,:,0]\n",
    "\n",
    "li = []\n",
    "for y in range(len(validate.index)) :\n",
    "    li.append(1)\n",
    "y_test_act = validate['quality']\n",
    "validate.insert(0, 'new_column', li, allow_duplicates = False)\n",
    "validate = validate.drop('quality', axis = 1)\n",
    "\n",
    "y_pred = []\n",
    "for i, rows in validate.iterrows() :\n",
    "    templi = []\n",
    "    for j in range(ctheta.shape[0]) :\n",
    "        rows = np.array(rows)\n",
    "        t = np.matmul(ctheta[j],rows)\n",
    "        t = sigmoid(t)\n",
    "        if(t >= 0.5) :\n",
    "\n",
    "            templi.append(classification_list[j][0])\n",
    "\n",
    "        else :\n",
    "            templi.append(classification_list[j][1])\n",
    "\n",
    "    value = max(set(templi), key=templi.count)\n",
    "    y_pred.append(value)\n",
    "print(\"Accuracy :: \"   , metrics.accuracy_score(y_pred,y_test_act)*100,'%')\n"
   ]
  },
  {
   "cell_type": "code",
   "execution_count": null,
   "metadata": {},
   "outputs": [],
   "source": []
  }
 ],
 "metadata": {
  "kernelspec": {
   "display_name": "Python 3",
   "language": "python",
   "name": "python3"
  },
  "language_info": {
   "codemirror_mode": {
    "name": "ipython",
    "version": 3
   },
   "file_extension": ".py",
   "mimetype": "text/x-python",
   "name": "python",
   "nbconvert_exporter": "python",
   "pygments_lexer": "ipython3",
   "version": "3.6.5"
  }
 },
 "nbformat": 4,
 "nbformat_minor": 2
}
