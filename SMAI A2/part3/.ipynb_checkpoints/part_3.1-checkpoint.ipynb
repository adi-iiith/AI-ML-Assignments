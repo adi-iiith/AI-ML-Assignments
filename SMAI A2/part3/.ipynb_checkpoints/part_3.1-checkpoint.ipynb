{
 "cells": [
  {
   "cell_type": "code",
   "execution_count": 8,
   "metadata": {},
   "outputs": [],
   "source": [
    "import pandas as pd\n",
    "import numpy as np\n",
    "import math"
   ]
  },
  {
   "cell_type": "code",
   "execution_count": 9,
   "metadata": {},
   "outputs": [],
   "source": [
    "fname = 'data.csv'\n",
    "df = pd.read_csv(fname)\n",
    "df = df.drop('Serial No.',axis=1)\n",
    "train = df.sample(frac=0.8,random_state=200)\n",
    "validate = df.drop(train.index)\n",
    "\n",
    "# print(df)\n",
    "\n",
    "y = train['Chance of Admit ']\n",
    "train = train.drop('Chance of Admit ',axis=1)\n",
    "\n",
    "actual = validate['Chance of Admit ']\n",
    "validate = validate.drop('Chance of Admit ',axis=1)\n",
    "\n",
    "\n",
    "# adding 1's\n",
    "one = []\n",
    "for i in range(len(train.index)) :\n",
    "    one.append(1)\n",
    "train.insert(0, 'ones', one, allow_duplicates = False)\n",
    "# Dataframe to Matrix\n",
    "\n",
    "# Validation data handling\n",
    "one_validate = []\n",
    "for i in range(len(validate.index)) :\n",
    "    one_validate.append(1)\n",
    "validate.insert(0, 'ones', one_validate, allow_duplicates = False)\n",
    "\n",
    "X = train.values\n",
    "Y = y.values\n",
    "\n",
    "\n",
    "Xt = X.transpose()\n",
    "XXt = np.matmul(Xt,X)\n",
    "X_inv = np.linalg.inv(XXt)\n",
    "\n",
    "\n",
    "B = np.matmul((np.matmul(X_inv,Xt)),Y)\n",
    "\n",
    "X_validate = validate.values\n",
    "\n",
    "prediction = np.matmul(X_validate,B)\n",
    "prediction = prediction.tolist()\n",
    "\n",
    "\n",
    "\n",
    "actual = actual.tolist()\n",
    "\n",
    "error_count = 0\n",
    "\n",
    "for i in range(len(actual)) :\n",
    "    error_count = error_count + (pow((actual[i] - prediction[i]),2) * 0.5)\n",
    "print(error_count)\n",
    "\n",
    "\n",
    "MAE = 0\n",
    "for i in range(len(actual)) :\n",
    "    MAE = MAE + (abs((actual[i] - prediction[i])))\n",
    "MAE = MAE/len(actual)\n",
    "print(MAE)\n",
    "\n",
    "\n",
    "MAPE = 0\n",
    "for i in range(len(actual)) :\n",
    "    MAPE = MAPE + (abs((actual[i] - prediction[i])/actual[i]))\n",
    "MAPE = 100 * MAPE/len(actual)\n",
    "print(MAPE,\"%\")\n"
   ]
  },
  {
   "cell_type": "code",
   "execution_count": null,
   "metadata": {},
   "outputs": [],
   "source": []
  }
 ],
 "metadata": {
  "kernelspec": {
   "display_name": "Python 3",
   "language": "python",
   "name": "python3"
  },
  "language_info": {
   "codemirror_mode": {
    "name": "ipython",
    "version": 3
   },
   "file_extension": ".py",
   "mimetype": "text/x-python",
   "name": "python",
   "nbconvert_exporter": "python",
   "pygments_lexer": "ipython3",
   "version": "3.6.7"
  }
 },
 "nbformat": 4,
 "nbformat_minor": 2
}
