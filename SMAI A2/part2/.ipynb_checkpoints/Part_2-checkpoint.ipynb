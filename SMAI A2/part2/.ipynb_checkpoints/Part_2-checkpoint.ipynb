{
 "cells": [
  {
   "cell_type": "code",
   "execution_count": 2,
   "metadata": {},
   "outputs": [],
   "source": [
    "import numpy as np\n",
    "import pandas as pd\n",
    "import math"
   ]
  },
  {
   "cell_type": "code",
   "execution_count": 35,
   "metadata": {},
   "outputs": [
    {
     "name": "stdout",
     "output_type": "stream",
     "text": [
      "Int64Index([], dtype='int64')\n"
     ]
    },
    {
     "data": {
      "text/plain": [
       "['Security', 'Family_size', 'Education', 'Ccard', 'CD_account', 'Net_Banking']"
      ]
     },
     "execution_count": 35,
     "metadata": {},
     "output_type": "execute_result"
    }
   ],
   "source": [
    "fname = 'data.csv'\n",
    "alist = ['ID','Age','Experience','Annual_Income','Zipcode','Family_size',\n",
    "         'Monthly_spend','Education','Mortgage','target','Security','CD_account','Net_Banking','Ccard']\n",
    "df = pd.read_csv(fname,names = alist)\n",
    "df = df.iloc[1:]\n",
    "ndata = ['Age','Experience','Annual_Income','Monthly_spend','Mortgage']\n",
    "cdata = list(set(alist)-set(ndata))\n",
    "cdata.remove('target')\n",
    "cdata.remove('ID')\n",
    "cdata.remove('Zipcode')\n",
    "\n",
    "# df = df[df.Experience != -1]\n",
    "# a=df.loc[df['Experience']==-1].index\n",
    "\n",
    "print(a)\n",
    "cdata"
   ]
  },
  {
   "cell_type": "code",
   "execution_count": 36,
   "metadata": {},
   "outputs": [],
   "source": [
    "train = df.sample(frac=0.8,random_state=200)\n",
    "validate = df.drop(train.index)"
   ]
  },
  {
   "cell_type": "code",
   "execution_count": 37,
   "metadata": {},
   "outputs": [],
   "source": [
    "# computation for numeric data\n",
    "mean = {}\n",
    "deviation = {}\n",
    "label = ['Yes' , 'No']\n",
    "for i in ndata:\n",
    "    mean[i] = {}\n",
    "    deviation[i] = {}\n",
    "#     x = train[train['target']==1][i].sum()\n",
    "#     len = train[train['target']==1][i].count()\n",
    "    mean[i][label[0]] = train[train['target']==1][i].mean()\n",
    "    mean[i][label[1]] = train[train['target']==0][i].std()\n",
    "    deviation[i][label[0]] = train[train['target']==1][i].mean()\n",
    "    deviation[i][label[1]] = train[train['target']==0][i].std()"
   ]
  },
  {
   "cell_type": "code",
   "execution_count": 38,
   "metadata": {},
   "outputs": [],
   "source": [
    "# computation for categorical data\n",
    "category = {}\n",
    "for i in cdata:\n",
    "    category[i] = {}\n",
    "    uni = train[i].unique()\n",
    "    for val in uni:\n",
    "        category[i][val] = {}\n",
    "        x = train[train[i] == val]\n",
    "        category[i][val][label[1]] = x[x['target']==1][i].count() / train[train['target']==1][i].count()\n",
    "        category[i][val][label[0]] = x[x['target']==0][i].count() / train[train['target']==0][i].count()"
   ]
  },
  {
   "cell_type": "code",
   "execution_count": 39,
   "metadata": {},
   "outputs": [],
   "source": [
    "def normal(mean,variance,w):\n",
    "    return -1 * (pow(((w-mean)/variance),2)) / (math.sqrt(2 * math.pi)*variance)\n",
    "    "
   ]
  },
  {
   "cell_type": "code",
   "execution_count": 40,
   "metadata": {},
   "outputs": [],
   "source": [
    "# Prediction\n",
    "\n",
    "y = train[train['target']==1]['Age'].count()\n",
    "n = train[train['target']==0]['Age'].count()\n",
    "p_yes = y/(y+n)\n",
    "p_no = n/(y+n)\n",
    "\n",
    "prediction = []\n",
    "\n",
    "for i,row in validate.iterrows():\n",
    "    yes , no = 1,1\n",
    "    for j in ndata:\n",
    "        yes *= normal(mean[j]['Yes'],deviation[j]['Yes'],row[j])\n",
    "        no *= normal(mean[j]['No'],deviation[j]['No'],row[j])\n",
    "    for j in cdata:\n",
    "        yes = yes * category[j][row[j]]['Yes']\n",
    "        no = category[j][row[j]]['No']\n",
    "    \n",
    "    yes *= p_yes\n",
    "    no *= p_no\n",
    "    if(yes >= no):\n",
    "        prediction.append(1)\n",
    "    else:\n",
    "        prediction.append(0)"
   ]
  },
  {
   "cell_type": "code",
   "execution_count": 41,
   "metadata": {},
   "outputs": [
    {
     "name": "stdout",
     "output_type": "stream",
     "text": [
      "0.9077777777777778\n"
     ]
    }
   ],
   "source": [
    "# accuracy\n",
    "\n",
    "accuracy = 0 \n",
    "actual = validate['target'].tolist()\n",
    "for i in range(len(actual)):\n",
    "    if(actual[i] == prediction[i]):\n",
    "        accuracy += 1\n",
    "\n",
    "accuracy = accuracy/len(actual)\n",
    "print(accuracy)"
   ]
  }
 ],
 "metadata": {
  "kernelspec": {
   "display_name": "Python 3",
   "language": "python",
   "name": "python3"
  },
  "language_info": {
   "codemirror_mode": {
    "name": "ipython",
    "version": 3
   },
   "file_extension": ".py",
   "mimetype": "text/x-python",
   "name": "python",
   "nbconvert_exporter": "python",
   "pygments_lexer": "ipython3",
   "version": "3.6.7"
  }
 },
 "nbformat": 4,
 "nbformat_minor": 2
}
