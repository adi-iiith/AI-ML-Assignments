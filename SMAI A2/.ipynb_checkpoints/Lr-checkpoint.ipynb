{
 "cells": [
  {
   "cell_type": "code",
   "execution_count": 80,
   "metadata": {
    "collapsed": true
   },
   "outputs": [],
   "source": [
    "import numpy as np\n",
    "import pandas as pd\n",
    "import math"
   ]
  },
  {
   "cell_type": "code",
   "execution_count": 85,
   "metadata": {},
   "outputs": [
    {
     "name": "stdout",
     "output_type": "stream",
     "text": [
      "0.15294737210444703\n"
     ]
    }
   ],
   "source": [
    "data = pd.read_csv('data.csv')\n",
    "train = data.sample(frac=0.8,random_state=200)\n",
    "test = data.drop(train.index)\n",
    "\n",
    "y_act = train['Chance of Admit ']\n",
    "y_act_test = test['Chance of Admit ']\n",
    "train = train.drop('Serial No.', axis = 1)\n",
    "test = test.drop('Serial No.', axis = 1)\n",
    "train = train.drop('Chance of Admit ', axis = 1)\n",
    "test = test.drop('Chance of Admit ', axis = 1)\n",
    "li = []\n",
    "for i in range(len(train.index)) :\n",
    "    li.append(1)\n",
    "    \n",
    "train.insert(0, 'new_column', li, allow_duplicates = False)\n",
    "li_test = []\n",
    "for i in range(len(test.index)) :\n",
    "    li_test.append(1)\n",
    "test.insert(0, 'new_column', li_test, allow_duplicates = False)\n",
    "\n",
    "X = train.as_matrix()\n",
    "Y = y_act.as_matrix()\n",
    "\n",
    "X_d = X.transpose()\n",
    "mul = np.matmul(X_d,X)\n",
    "inv = np.linalg.inv(mul)\n",
    "\n",
    "Beta = np.matmul((np.matmul(inv,X_d)),Y)\n",
    "\n",
    "X_test = test.as_matrix()\n",
    "\n",
    "y_test_pred = np.matmul(X_test,Beta)\n",
    "\n",
    "y_test_pred = y_test_pred.tolist()\n",
    "\n",
    "err = 0\n",
    "y_act_test = y_act_test.tolist()\n",
    "for i in range(len(y_test_pred)) :\n",
    "    err = err + (pow((y_act_test[i] - y_test_pred[i]),2) * 0.5)\n",
    "print(err)"
   ]
  },
  {
   "cell_type": "code",
   "execution_count": null,
   "metadata": {
    "collapsed": true
   },
   "outputs": [],
   "source": []
  }
 ],
 "metadata": {
  "kernelspec": {
   "display_name": "Python 3",
   "language": "python",
   "name": "python3"
  },
  "language_info": {
   "codemirror_mode": {
    "name": "ipython",
    "version": 3
   },
   "file_extension": ".py",
   "mimetype": "text/x-python",
   "name": "python",
   "nbconvert_exporter": "python",
   "pygments_lexer": "ipython3",
   "version": "3.6.7"
  }
 },
 "nbformat": 4,
 "nbformat_minor": 2
}
