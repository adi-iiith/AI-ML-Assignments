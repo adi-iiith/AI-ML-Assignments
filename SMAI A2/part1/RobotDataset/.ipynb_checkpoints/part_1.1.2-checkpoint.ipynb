{
 "cells": [
  {
   "cell_type": "code",
   "execution_count": 2,
   "metadata": {},
   "outputs": [],
   "source": [
    "import pandas as pd\n",
    "import numpy as np\n",
    "import math"
   ]
  },
  {
   "cell_type": "code",
   "execution_count": 5,
   "metadata": {},
   "outputs": [],
   "source": [
    "alist = [1,2,3,4,5,6,7,8,9]\n",
    "file = 'Robot2'\n",
    "df = pd.read_csv(file,sep=\" \",names=alist)\n",
    "df = df[[2,3,4,5,6,7,8,9]]\n",
    "train = df.sample(frac=0.8,random_state=200)\n",
    "validate = df.drop(train.index)\n",
    "alist.remove(1)\n",
    "alist.remove(2)\n",
    "alist.remove(9)\n",
    "# df.info()\n",
    "# print(df)"
   ]
  },
  {
   "cell_type": "code",
   "execution_count": 6,
   "metadata": {},
   "outputs": [
    {
     "data": {
      "text/plain": [
       "[1, 0]"
      ]
     },
     "execution_count": 6,
     "metadata": {},
     "output_type": "execute_result"
    }
   ],
   "source": [
    "label = df[2].unique().tolist()\n",
    "label"
   ]
  },
  {
   "cell_type": "code",
   "execution_count": 7,
   "metadata": {},
   "outputs": [],
   "source": [
    "def eucledian_distance(x,y):\n",
    "    distance = 0\n",
    "    for i in alist:\n",
    "        distance += pow((x[i]-y[i]),2)\n",
    "    return math.sqrt(distance)"
   ]
  },
  {
   "cell_type": "code",
   "execution_count": 8,
   "metadata": {},
   "outputs": [],
   "source": [
    "def neighbours(df,instance,k):\n",
    "    distance = []\n",
    "    for i,row in train.iterrows():\n",
    "        x = eucledian_distance(row,instance)\n",
    "        temp = (x,row[2])\n",
    "        distance.append(temp)\n",
    "    first_k = sorted(distance,key = lambda t:t[0])\n",
    "    return first_k[:k]"
   ]
  },
  {
   "cell_type": "code",
   "execution_count": 9,
   "metadata": {},
   "outputs": [],
   "source": [
    "def response(train,test,k):\n",
    "    distance = []\n",
    "    for i,row in test.iterrows():\n",
    "        distance.append(neighbours(train,row,k))\n",
    "    return distance"
   ]
  },
  {
   "cell_type": "code",
   "execution_count": 10,
   "metadata": {},
   "outputs": [],
   "source": [
    "k_distance = response(train,validate,1)\n",
    "\n",
    "prediction = []\n",
    "for i in k_distance:\n",
    "    iris_count = [0,0]\n",
    "    for x in i:\n",
    "        if x[1] == label[0]:\n",
    "            iris_count[0]+=1\n",
    "        elif x[1] == label[1]:\n",
    "            iris_count[1]+=1\n",
    "\n",
    "    temp = iris_count.index(max(iris_count))\n",
    "    prediction.append(label[temp])"
   ]
  },
  {
   "cell_type": "code",
   "execution_count": 11,
   "metadata": {},
   "outputs": [
    {
     "name": "stdout",
     "output_type": "stream",
     "text": [
      "0.9583333333333334\n"
     ]
    }
   ],
   "source": [
    "actual = validate[2].tolist()\n",
    "accuracy = 0\n",
    "for i in range(len(actual)):\n",
    "    if(prediction[i]==actual[i]):\n",
    "        accuracy+=1\n",
    "print(accuracy/len(actual))"
   ]
  },
  {
   "cell_type": "code",
   "execution_count": 12,
   "metadata": {},
   "outputs": [],
   "source": [
    "def predict(k_distance):\n",
    "    prediction = []\n",
    "    for i in k_distance:\n",
    "        iris_count = [0,0,0]\n",
    "    #     ['Iris-setosa', 'Iris-virginica', 'Iris-versicolor']\n",
    "        for x in i:\n",
    "            if x[1] == label[0]:\n",
    "                iris_count[0]+=1\n",
    "            elif x[1] == label[1]:\n",
    "                iris_count[1]+=1\n",
    "            else:\n",
    "                iris_count[2]+=1\n",
    "\n",
    "        temp = iris_count.index(max(iris_count))\n",
    "        prediction.append(label[temp])\n",
    "    return prediction"
   ]
  },
  {
   "cell_type": "code",
   "execution_count": 13,
   "metadata": {},
   "outputs": [],
   "source": [
    "def find_accuracy(k):\n",
    "    k_distance = response(train,validate,k)\n",
    "    prediction = predict(k_distance)\n",
    "    actual = validate[2].tolist()\n",
    "    accuracy = 0\n",
    "    for i in range(len(actual)):\n",
    "        if(prediction[i]==actual[i]):\n",
    "            accuracy+=1\n",
    "    print(accuracy/len(actual))"
   ]
  },
  {
   "cell_type": "code",
   "execution_count": 14,
   "metadata": {},
   "outputs": [
    {
     "name": "stdout",
     "output_type": "stream",
     "text": [
      "0.4583333333333333\n",
      "0.9583333333333334\n",
      "0.9583333333333334\n",
      "1.0\n",
      "0.9166666666666666\n",
      "0.9583333333333334\n",
      "1.0\n",
      "0.9166666666666666\n",
      "0.9583333333333334\n",
      "0.9166666666666666\n",
      "0.9166666666666666\n",
      "0.9583333333333334\n",
      "0.9166666666666666\n",
      "0.9166666666666666\n",
      "0.9166666666666666\n"
     ]
    }
   ],
   "source": [
    "for i in range(15):\n",
    "    find_accuracy(i)"
   ]
  }
 ],
 "metadata": {
  "kernelspec": {
   "display_name": "Python 3",
   "language": "python",
   "name": "python3"
  },
  "language_info": {
   "codemirror_mode": {
    "name": "ipython",
    "version": 3
   },
   "file_extension": ".py",
   "mimetype": "text/x-python",
   "name": "python",
   "nbconvert_exporter": "python",
   "pygments_lexer": "ipython3",
   "version": "3.6.7"
  }
 },
 "nbformat": 4,
 "nbformat_minor": 2
}
