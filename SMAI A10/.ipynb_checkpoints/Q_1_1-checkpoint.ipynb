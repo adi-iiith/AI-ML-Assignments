{
 "cells": [
  {
   "cell_type": "code",
   "execution_count": 1,
   "metadata": {},
   "outputs": [
    {
     "name": "stderr",
     "output_type": "stream",
     "text": [
      "Using TensorFlow backend.\n"
     ]
    }
   ],
   "source": [
    "import numpy as np\n",
    "import matplotlib.pyplot as plt\n",
    "import pandas as pd\n",
    "from sklearn.preprocessing import MinMaxScaler\n",
    "from keras.models import Sequential\n",
    "from keras.layers import Dense\n",
    "from keras.layers import LSTM\n",
    "from keras.layers import Dropout\n",
    "from sklearn.model_selection import train_test_split\n",
    "import math\n",
    "from sklearn.metrics import mean_squared_error"
   ]
  },
  {
   "cell_type": "code",
   "execution_count": 2,
   "metadata": {},
   "outputs": [
    {
     "name": "stdout",
     "output_type": "stream",
     "text": [
      "      volume         Avg     open\n",
      "1  1894639.0  1189.77500  1198.53\n",
      "2  1493841.0  1196.71875  1196.93\n",
      "3  1668910.0  1216.41250  1226.32\n",
      "4  1195899.0  1222.47000  1216.00\n",
      "5  2089367.0  1211.65500  1197.35\n",
      "(604, 2)\n",
      "(604, 1)\n",
      "(151, 2)\n"
     ]
    }
   ],
   "source": [
    "dataset = pd.read_csv('GoogleStocks.csv')\n",
    "dataset = dataset.iloc[1:]\n",
    "p = ['close', 'volume', 'open', 'high', 'low']\n",
    "for i in p:\n",
    "        dataset[i] = dataset[i].replace(',','', regex=True).astype(float)\n",
    "\n",
    "dataset['Avg'] = (dataset['high']+dataset['low'])/2\n",
    "dataset['date']= pd.to_datetime(dataset['date'])\n",
    "dataset = dataset[['date','volume','Avg','open']]\n",
    "print(dataset.head())\n",
    "# dataset_train,dataset_test = train_test_split(dataset, shuffle=False,test_size=0.2)\n",
    "dataset_train = dataset[100:]\n",
    "dataset_test = dataset[:100]\n",
    "\n",
    "trainset = dataset_train.iloc[:,0:2].values\n",
    "trainset = trainset.sort_values(by='date')\n",
    "Y = dataset_train.iloc[:,2:3].values\n",
    "testset = dataset_test.iloc[:,0:2].values\n",
    "testset = dataset_test.trainset = trainset.sort_values(by='date')\n",
    "sc = MinMaxScaler(feature_range = (0,1))\n",
    "training_set = sc.fit_transform(trainset)\n",
    "test = sc.fit_transform(testset)\n",
    "Y = sc.fit_transform(Y)\n",
    "\n",
    "print(training_set.shape)\n",
    "print(Y.shape)\n",
    "\n",
    "# test = dataset_test.iloc[:,0:2].values\n",
    "# #     dataset_total = pd.concat((dataset_train['open'],dataset_test['open']),axis = 0)\n",
    "# #     inputs = dataset_total[len(dataset_total) - len(dataset_test)-timestep:].values\n",
    "# #     inputs = inputs.reshape(-1,1)\n",
    "# inputs = sc.transform(test)\n",
    "# Yt = sc.transform(real_stock_price)\n",
    "# inputs.shape\n",
    "print(test.shape)"
   ]
  },
  {
   "cell_type": "markdown",
   "metadata": {},
   "source": [
    "<h1>Two Hidden Layers : </h1>\n",
    "\n",
    "--------------------------------------------------------------------------------------"
   ]
  },
  {
   "cell_type": "code",
   "execution_count": 3,
   "metadata": {},
   "outputs": [],
   "source": [
    "def No_sense_making_us_do_the_same_thing(timestep,hidden1,hidden2):\n",
    "    X_train = []\n",
    "    y_train = []\n",
    "    for i in range(timestep, training_set.shape[0]):\n",
    "        X_train.append(training_set[i-timestep:i])\n",
    "        y_train.append(Y[i])\n",
    "    X_train, y_train = np.array(X_train), np.array(y_train)\n",
    "    X_train = np.reshape(X_train,(X_train.shape[0],X_train.shape[1], 2))\n",
    "    print(X_train.shape)\n",
    "    print(test.shape)\n",
    "    # MODEL ------------------------------------------------------------------\n",
    "\n",
    "    regressor = Sequential()\n",
    "    regressor.add(LSTM(units = hidden1, return_sequences=True, input_shape = (X_train.shape[1], 2))) \n",
    "    regressor.add(Dropout(0.2))\n",
    "#     regressor.add(LSTM(units = hidden2, return_sequences=True, input_shape = (X_train.shape[1], 1))) \n",
    "#     regressor.add(Dropout(0.2))\n",
    "    regressor.add(LSTM(units = hidden2)) \n",
    "    regressor.add(Dropout(0.2))\n",
    "    regressor.add(Dense(units=16,activation='relu'))\n",
    "    regressor.add(Dropout(0.2))\n",
    "    regressor.add(Dense(units=1,activation='relu'))    \n",
    "\n",
    "    # -------------------------------------------------------------------------\n",
    "    regressor.compile(optimizer='adam', loss = 'mean_squared_error')   \n",
    "    regressor.fit(X_train, y_train, epochs = 100, batch_size = 32)\n",
    "    \n",
    "    Yt = dataset_test.iloc[timestep:,2:3].values\n",
    "    real_stock_price = Yt\n",
    "    Yt = sc.fit_transform(Yt)\n",
    "    x_test = []\n",
    "#     y_test = []\n",
    "    for i in range(timestep,test.shape[0]):\n",
    "        x_test.append(test[i-timestep:i])\n",
    "#         y_test.append(Yt[i])\n",
    "    x_test = np.array(x_test)\n",
    "    print(x_test.shape)\n",
    "    y_test = Yt\n",
    "#     print(x_test.shape)\n",
    "    x_test = np.reshape(x_test, (x_test.shape[0],x_test.shape[1],2))\n",
    "    print(x_test.shape)\n",
    "    predicted_price = regressor.predict(x_test)\n",
    "    predicted_price = sc.inverse_transform(predicted_price)\n",
    "#     real_stock_price = real_stock_price.astype(np.float64, copy=False)\n",
    "    predicted_price = predicted_price.astype(np.float64,copy=False)\n",
    "    print(predicted_price.shape)\n",
    "    return real_stock_price,predicted_price\n",
    "\n",
    "# print(math.sqrt(mean_squared_error(real_stock_price, predicted_price)))"
   ]
  },
  {
   "cell_type": "code",
   "execution_count": null,
   "metadata": {},
   "outputs": [
    {
     "name": "stdout",
     "output_type": "stream",
     "text": [
      "(529, 75, 2)\n",
      "(151, 2)\n",
      "WARNING:tensorflow:From /home/adi/.local/lib/python3.6/site-packages/tensorflow/python/framework/op_def_library.py:263: colocate_with (from tensorflow.python.framework.ops) is deprecated and will be removed in a future version.\n",
      "Instructions for updating:\n",
      "Colocations handled automatically by placer.\n",
      "WARNING:tensorflow:From /home/adi/.local/lib/python3.6/site-packages/keras/backend/tensorflow_backend.py:3445: calling dropout (from tensorflow.python.ops.nn_ops) with keep_prob is deprecated and will be removed in a future version.\n",
      "Instructions for updating:\n",
      "Please use `rate` instead of `keep_prob`. Rate should be set to `rate = 1 - keep_prob`.\n",
      "WARNING:tensorflow:From /home/adi/.local/lib/python3.6/site-packages/tensorflow/python/ops/math_ops.py:3066: to_int32 (from tensorflow.python.ops.math_ops) is deprecated and will be removed in a future version.\n",
      "Instructions for updating:\n",
      "Use tf.cast instead.\n",
      "Epoch 1/100\n",
      "529/529 [==============================] - 2s 5ms/step - loss: 0.0793\n",
      "Epoch 2/100\n",
      "529/529 [==============================] - 1s 2ms/step - loss: 0.0261\n",
      "Epoch 3/100\n",
      "529/529 [==============================] - 1s 2ms/step - loss: 0.0214\n",
      "Epoch 4/100\n",
      "529/529 [==============================] - 1s 2ms/step - loss: 0.0189\n",
      "Epoch 5/100\n",
      "529/529 [==============================] - 1s 3ms/step - loss: 0.0183\n",
      "Epoch 6/100\n",
      "529/529 [==============================] - 2s 3ms/step - loss: 0.0178\n",
      "Epoch 7/100\n",
      "529/529 [==============================] - 2s 3ms/step - loss: 0.0160\n",
      "Epoch 8/100\n",
      "529/529 [==============================] - 2s 4ms/step - loss: 0.0143\n",
      "Epoch 9/100\n",
      "529/529 [==============================] - 2s 4ms/step - loss: 0.0144\n",
      "Epoch 10/100\n",
      "529/529 [==============================] - 2s 4ms/step - loss: 0.0139\n",
      "Epoch 11/100\n",
      "529/529 [==============================] - 2s 3ms/step - loss: 0.0146\n",
      "Epoch 12/100\n",
      "529/529 [==============================] - 2s 3ms/step - loss: 0.0124\n",
      "Epoch 13/100\n",
      "529/529 [==============================] - 2s 3ms/step - loss: 0.0132\n",
      "Epoch 14/100\n",
      "529/529 [==============================] - 2s 3ms/step - loss: 0.0123\n",
      "Epoch 15/100\n",
      "529/529 [==============================] - 1s 3ms/step - loss: 0.0116\n",
      "Epoch 16/100\n",
      "529/529 [==============================] - 1s 3ms/step - loss: 0.0107\n",
      "Epoch 17/100\n",
      "529/529 [==============================] - 2s 3ms/step - loss: 0.0131\n",
      "Epoch 18/100\n",
      "529/529 [==============================] - 2s 3ms/step - loss: 0.0140\n",
      "Epoch 19/100\n",
      "529/529 [==============================] - 2s 3ms/step - loss: 0.0095\n",
      "Epoch 20/100\n",
      "529/529 [==============================] - 1s 3ms/step - loss: 0.0112\n",
      "Epoch 21/100\n",
      "529/529 [==============================] - 1s 3ms/step - loss: 0.0113\n",
      "Epoch 22/100\n",
      "529/529 [==============================] - 2s 3ms/step - loss: 0.0103\n",
      "Epoch 23/100\n",
      "529/529 [==============================] - 2s 3ms/step - loss: 0.0106\n",
      "Epoch 24/100\n",
      "529/529 [==============================] - 2s 3ms/step - loss: 0.0123\n",
      "Epoch 25/100\n",
      "529/529 [==============================] - 1s 3ms/step - loss: 0.0112\n",
      "Epoch 26/100\n",
      "529/529 [==============================] - 1s 3ms/step - loss: 0.0101\n",
      "Epoch 27/100\n",
      "529/529 [==============================] - 1s 3ms/step - loss: 0.0097\n",
      "Epoch 28/100\n",
      "529/529 [==============================] - 2s 3ms/step - loss: 0.0105\n",
      "Epoch 29/100\n",
      "529/529 [==============================] - 2s 3ms/step - loss: 0.0097\n",
      "Epoch 30/100\n",
      "529/529 [==============================] - 1s 3ms/step - loss: 0.0087\n",
      "Epoch 31/100\n",
      "529/529 [==============================] - 1s 3ms/step - loss: 0.0090\n",
      "Epoch 32/100\n",
      "529/529 [==============================] - 1s 3ms/step - loss: 0.0083\n",
      "Epoch 33/100\n",
      "529/529 [==============================] - 2s 3ms/step - loss: 0.0094\n",
      "Epoch 34/100\n",
      "529/529 [==============================] - 2s 3ms/step - loss: 0.0088\n",
      "Epoch 35/100\n",
      "529/529 [==============================] - 2s 4ms/step - loss: 0.0077\n",
      "Epoch 36/100\n",
      "529/529 [==============================] - 2s 4ms/step - loss: 0.0089\n",
      "Epoch 37/100\n",
      "529/529 [==============================] - 2s 3ms/step - loss: 0.0081\n",
      "Epoch 38/100\n",
      "529/529 [==============================] - 2s 3ms/step - loss: 0.0083\n",
      "Epoch 39/100\n",
      "529/529 [==============================] - 2s 3ms/step - loss: 0.0094\n",
      "Epoch 40/100\n",
      "529/529 [==============================] - 2s 3ms/step - loss: 0.0084\n",
      "Epoch 41/100\n",
      "529/529 [==============================] - 2s 3ms/step - loss: 0.0086\n",
      "Epoch 42/100\n",
      "529/529 [==============================] - 1s 3ms/step - loss: 0.0080\n",
      "Epoch 43/100\n",
      "529/529 [==============================] - 1s 3ms/step - loss: 0.0063\n",
      "Epoch 44/100\n",
      "529/529 [==============================] - 2s 3ms/step - loss: 0.0076\n",
      "Epoch 45/100\n",
      "529/529 [==============================] - 2s 3ms/step - loss: 0.0066\n",
      "Epoch 46/100\n",
      "529/529 [==============================] - 2s 4ms/step - loss: 0.0064\n",
      "Epoch 47/100\n",
      "529/529 [==============================] - 2s 4ms/step - loss: 0.0075\n",
      "Epoch 48/100\n",
      "529/529 [==============================] - 2s 4ms/step - loss: 0.0066\n",
      "Epoch 49/100\n",
      "529/529 [==============================] - 2s 3ms/step - loss: 0.0069\n",
      "Epoch 50/100\n",
      "529/529 [==============================] - 2s 3ms/step - loss: 0.0065\n",
      "Epoch 51/100\n",
      "529/529 [==============================] - 2s 3ms/step - loss: 0.0067\n",
      "Epoch 52/100\n",
      "529/529 [==============================] - 2s 3ms/step - loss: 0.0071\n",
      "Epoch 53/100\n",
      "529/529 [==============================] - 2s 3ms/step - loss: 0.0068\n",
      "Epoch 54/100\n",
      "529/529 [==============================] - 2s 4ms/step - loss: 0.0061\n",
      "Epoch 55/100\n",
      "529/529 [==============================] - 2s 4ms/step - loss: 0.0073\n",
      "Epoch 56/100\n",
      "529/529 [==============================] - 2s 4ms/step - loss: 0.0065\n",
      "Epoch 57/100\n",
      "529/529 [==============================] - 2s 3ms/step - loss: 0.0063\n",
      "Epoch 58/100\n",
      "529/529 [==============================] - 2s 3ms/step - loss: 0.0061\n",
      "Epoch 59/100\n",
      "529/529 [==============================] - 2s 3ms/step - loss: 0.0057\n",
      "Epoch 60/100\n",
      "529/529 [==============================] - 2s 4ms/step - loss: 0.0053\n",
      "Epoch 61/100\n",
      "529/529 [==============================] - 2s 3ms/step - loss: 0.0060\n",
      "Epoch 62/100\n",
      "529/529 [==============================] - 2s 3ms/step - loss: 0.0055\n",
      "Epoch 63/100\n",
      "529/529 [==============================] - 2s 4ms/step - loss: 0.0058\n",
      "Epoch 64/100\n",
      "529/529 [==============================] - 2s 5ms/step - loss: 0.0056\n",
      "Epoch 65/100\n",
      "529/529 [==============================] - 3s 5ms/step - loss: 0.0060\n",
      "Epoch 66/100\n",
      "529/529 [==============================] - 3s 6ms/step - loss: 0.0063\n",
      "Epoch 67/100\n",
      "529/529 [==============================] - 3s 5ms/step - loss: 0.0058\n",
      "Epoch 68/100\n",
      "529/529 [==============================] - 3s 5ms/step - loss: 0.0053\n",
      "Epoch 69/100\n",
      "529/529 [==============================] - 2s 4ms/step - loss: 0.0059\n",
      "Epoch 70/100\n",
      "529/529 [==============================] - 2s 4ms/step - loss: 0.0055\n",
      "Epoch 71/100\n",
      "529/529 [==============================] - 2s 4ms/step - loss: 0.0051\n",
      "Epoch 72/100\n",
      "529/529 [==============================] - 2s 4ms/step - loss: 0.0046\n",
      "Epoch 73/100\n",
      "529/529 [==============================] - 2s 5ms/step - loss: 0.0046\n",
      "Epoch 74/100\n",
      "529/529 [==============================] - 3s 5ms/step - loss: 0.0054\n",
      "Epoch 75/100\n",
      "529/529 [==============================] - 3s 5ms/step - loss: 0.0057\n",
      "Epoch 76/100\n",
      "529/529 [==============================] - 3s 5ms/step - loss: 0.0055\n",
      "Epoch 77/100\n",
      "529/529 [==============================] - 3s 5ms/step - loss: 0.0049\n",
      "Epoch 78/100\n",
      "529/529 [==============================] - 2s 4ms/step - loss: 0.0052\n",
      "Epoch 79/100\n",
      "529/529 [==============================] - 2s 4ms/step - loss: 0.0050\n",
      "Epoch 80/100\n",
      "529/529 [==============================] - 2s 4ms/step - loss: 0.0049\n",
      "Epoch 81/100\n",
      "529/529 [==============================] - 2s 4ms/step - loss: 0.0050\n",
      "Epoch 82/100\n",
      "529/529 [==============================] - 2s 4ms/step - loss: 0.0048\n",
      "Epoch 83/100\n",
      "529/529 [==============================] - 2s 4ms/step - loss: 0.0054\n",
      "Epoch 84/100\n",
      "529/529 [==============================] - 2s 4ms/step - loss: 0.0053\n",
      "Epoch 85/100\n",
      "529/529 [==============================] - 2s 4ms/step - loss: 0.0046\n",
      "Epoch 86/100\n",
      "529/529 [==============================] - 2s 5ms/step - loss: 0.0043\n",
      "Epoch 87/100\n",
      "192/529 [=========>....................] - ETA: 1s - loss: 0.0044"
     ]
    }
   ],
   "source": [
    "timestep,hidden1,hidden2 = (75,80,80)\n",
    "real_stock_price,predicted_price = No_sense_making_us_do_the_same_thing(timestep,hidden1,hidden2)"
   ]
  },
  {
   "cell_type": "code",
   "execution_count": null,
   "metadata": {},
   "outputs": [],
   "source": [
    "\n",
    "print(\"Layer = 2 :: Timestep = \",timestep,\" :: Hidden_1 = \",hidden1,\" :: Hidden_2 = \",hidden2)\n",
    "plt.plot(real_stock_price,color = 'red', label = 'Real Price')\n",
    "plt.plot(predicted_price, color = 'blue', label = 'Predicted Price')\n",
    "plt.title('Google Stock Price Prediction')\n",
    "plt.xlabel('Time')\n",
    "plt.ylabel('Google Stock Price')\n",
    "plt.legend()\n",
    "plt.show()\n",
    "# print(math.sqrt(mean_squared_error(real_stock_price, predicted_price)))"
   ]
  },
  {
   "cell_type": "code",
   "execution_count": null,
   "metadata": {},
   "outputs": [],
   "source": [
    "timestep,hidden1,hidden2 = (20,30,30)\n",
    "real_stock_price,predicted_price = No_sense_making_us_do_the_same_thing(timestep,hidden1,hidden2)"
   ]
  },
  {
   "cell_type": "code",
   "execution_count": null,
   "metadata": {},
   "outputs": [],
   "source": [
    "print(\"Layer = 2 :: Timestep = \",timestep,\" :: Hidden_1 = \",hidden1,\" :: Hidden_2 = \",hidden2)\n",
    "plt.plot(real_stock_price,color = 'red', label = 'Real Price')\n",
    "plt.plot(predicted_price, color = 'blue', label = 'Predicted Price')\n",
    "plt.title('Google Stock Price Prediction')\n",
    "plt.xlabel('Time')\n",
    "plt.ylabel('Google Stock Price')\n",
    "plt.legend()\n",
    "plt.show()\n",
    "\n",
    "# print(math.sqrt(mean_squared_error(real_stock_price, predicted_price)))"
   ]
  },
  {
   "cell_type": "code",
   "execution_count": null,
   "metadata": {},
   "outputs": [],
   "source": [
    "timestep,hidden1,hidden2 = (50,30,30)\n",
    "real_stock_price,predicted_price = No_sense_making_us_do_the_same_thing(timestep,hidden1,hidden2)"
   ]
  },
  {
   "cell_type": "code",
   "execution_count": null,
   "metadata": {},
   "outputs": [],
   "source": [
    "print(\"Layer = 2 :: Timestep = \",timestep,\" :: Hidden_1 = \",hidden1,\" :: Hidden_2 = \",hidden2)\n",
    "plt.plot(real_stock_price,color = 'red', label = 'Real Price')\n",
    "plt.plot(predicted_price, color = 'blue', label = 'Predicted Price')\n",
    "plt.title('Google Stock Price Prediction')\n",
    "plt.xlabel('Time')\n",
    "plt.ylabel('Google Stock Price')\n",
    "plt.legend()\n",
    "plt.show()\n",
    "# print(math.sqrt(mean_squared_error(real_stock_price, predicted_price)))"
   ]
  },
  {
   "cell_type": "code",
   "execution_count": null,
   "metadata": {},
   "outputs": [],
   "source": [
    "timestep,hidden1,hidden2 = (75,30,30)\n",
    "real_stock_price,predicted_price = No_sense_making_us_do_the_same_thing(timestep,hidden1,hidden2)"
   ]
  },
  {
   "cell_type": "code",
   "execution_count": null,
   "metadata": {},
   "outputs": [],
   "source": [
    "print(\"Layer = 2 :: Timestep = \",timestep,\" :: Hidden_1 = \",hidden1,\" :: Hidden_2 = \",hidden2)\n",
    "plt.plot(real_stock_price,color = 'red', label = 'Real Price')\n",
    "plt.plot(predicted_price, color = 'blue', label = 'Predicted Price')\n",
    "plt.title('Google Stock Price Prediction')\n",
    "plt.xlabel('Time')\n",
    "plt.ylabel('Google Stock Price')\n",
    "plt.legend()\n",
    "plt.show()\n",
    "# print(math.sqrt(mean_squared_error(real_stock_price, predicted_price)))"
   ]
  },
  {
   "cell_type": "code",
   "execution_count": null,
   "metadata": {},
   "outputs": [],
   "source": [
    "timestep,hidden1,hidden2 = (20,50,50)\n",
    "real_stock_price,predicted_price = No_sense_making_us_do_the_same_thing(timestep,hidden1,hidden2)"
   ]
  },
  {
   "cell_type": "code",
   "execution_count": null,
   "metadata": {},
   "outputs": [],
   "source": [
    "print(\"Layer = 2 :: Timestep = \",timestep,\" :: Hidden_1 = \",hidden1,\" :: Hidden_2 = \",hidden2)\n",
    "plt.plot(real_stock_price,color = 'red', label = 'Real Price')\n",
    "plt.plot(predicted_price, color = 'blue', label = 'Predicted Price')\n",
    "plt.title('Google Stock Price Prediction')\n",
    "plt.xlabel('Time')\n",
    "plt.ylabel('Google Stock Price')\n",
    "plt.legend()\n",
    "plt.show()\n",
    "# print(math.sqrt(mean_squared_error(real_stock_price, predicted_price)))"
   ]
  },
  {
   "cell_type": "code",
   "execution_count": null,
   "metadata": {},
   "outputs": [],
   "source": [
    "timestep,hidden1,hidden2 = (50,50,50)\n",
    "real_stock_price,predicted_price = No_sense_making_us_do_the_same_thing(timestep,hidden1,hidden2)"
   ]
  },
  {
   "cell_type": "code",
   "execution_count": null,
   "metadata": {},
   "outputs": [],
   "source": [
    "print(\"Layer = 2 :: Timestep = \",timestep,\" :: Hidden_1 = \",hidden1,\" :: Hidden_2 = \",hidden2)\n",
    "plt.plot(real_stock_price,color = 'red', label = 'Real Price')\n",
    "plt.plot(predicted_price, color = 'blue', label = 'Predicted Price')\n",
    "plt.title('Google Stock Price Prediction')\n",
    "plt.xlabel('Time')\n",
    "plt.ylabel('Google Stock Price')\n",
    "plt.legend()\n",
    "plt.show()\n",
    "# print(math.sqrt(mean_squared_error(real_stock_price, predicted_price)))"
   ]
  },
  {
   "cell_type": "code",
   "execution_count": null,
   "metadata": {},
   "outputs": [],
   "source": [
    "timestep,hidden1,hidden2 = (75,50,50)\n",
    "real_stock_price,predicted_price = No_sense_making_us_do_the_same_thing(timestep,hidden1,hidden2)"
   ]
  },
  {
   "cell_type": "code",
   "execution_count": null,
   "metadata": {},
   "outputs": [],
   "source": [
    "print(\"Layer = 2 :: Timestep = \",timestep,\" :: Hidden_1 = \",hidden1,\" :: Hidden_2 = \",hidden2)\n",
    "plt.plot(real_stock_price,color = 'red', label = 'Real Price')\n",
    "plt.plot(predicted_price, color = 'blue', label = 'Predicted Price')\n",
    "plt.title('Google Stock Price Prediction')\n",
    "plt.xlabel('Time')\n",
    "plt.ylabel('Google Stock Price')\n",
    "plt.legend()\n",
    "plt.show()\n",
    "# print(math.sqrt(mean_squared_error(real_stock_price, predicted_price)))"
   ]
  },
  {
   "cell_type": "code",
   "execution_count": null,
   "metadata": {},
   "outputs": [],
   "source": [
    "timestep,hidden1,hidden2 = (20,80,80)\n",
    "real_stock_price,predicted_price = No_sense_making_us_do_the_same_thing(timestep,hidden1,hidden2)"
   ]
  },
  {
   "cell_type": "code",
   "execution_count": null,
   "metadata": {},
   "outputs": [],
   "source": [
    "print(\"Layer = 2 :: Timestep = \",timestep,\" :: Hidden_1 = \",hidden1,\" :: Hidden_2 = \",hidden2)\n",
    "plt.plot(real_stock_price,color = 'red', label = 'Real Price')\n",
    "plt.plot(predicted_price, color = 'blue', label = 'Predicted Price')\n",
    "plt.title('Google Stock Price Prediction')\n",
    "plt.xlabel('Time')\n",
    "plt.ylabel('Google Stock Price')\n",
    "plt.legend()\n",
    "plt.show()\n",
    "# print(math.sqrt(mean_squared_error(real_stock_price, predicted_price)))"
   ]
  },
  {
   "cell_type": "code",
   "execution_count": null,
   "metadata": {},
   "outputs": [],
   "source": [
    "timestep,hidden1,hidden2 = (50,80,80)\n",
    "real_stock_price,predicted_price = No_sense_making_us_do_the_same_thing(timestep,hidden1,hidden2)"
   ]
  },
  {
   "cell_type": "code",
   "execution_count": null,
   "metadata": {},
   "outputs": [],
   "source": [
    "print(\"Layer = 2 :: Timestep = \",timestep,\" :: Hidden_1 = \",hidden1,\" :: Hidden_2 = \",hidden2)\n",
    "plt.plot(real_stock_price,color = 'red', label = 'Real Price')\n",
    "plt.plot(predicted_price, color = 'blue', label = 'Predicted Price')\n",
    "plt.title('Google Stock Price Prediction')\n",
    "plt.xlabel('Time')\n",
    "plt.ylabel('Google Stock Price')\n",
    "plt.legend()\n",
    "plt.show()\n",
    "# print(math.sqrt(mean_squared_error(real_stock_price, predicted_price)))"
   ]
  },
  {
   "cell_type": "code",
   "execution_count": null,
   "metadata": {},
   "outputs": [],
   "source": [
    "timestep,hidden1,hidden2 = (75,80,80)\n",
    "real_stock_price,predicted_price = No_sense_making_us_do_the_same_thing(timestep,hidden1,hidden2)"
   ]
  },
  {
   "cell_type": "code",
   "execution_count": null,
   "metadata": {},
   "outputs": [],
   "source": [
    "print(\"Layer = 2 :: Timestep = \",timestep,\" :: Hidden_1 = \",hidden1,\" :: Hidden_2 = \",hidden2)\n",
    "plt.plot(real_stock_price,color = 'red', label = 'Real Price')\n",
    "plt.plot(predicted_price, color = 'blue', label = 'Predicted Price')\n",
    "plt.title('Google Stock Price Prediction')\n",
    "plt.xlabel('Time')\n",
    "plt.ylabel('Google Stock Price')\n",
    "plt.legend()\n",
    "plt.show()\n",
    "# print(math.sqrt(mean_squared_error(real_stock_price, predicted_price)))"
   ]
  },
  {
   "cell_type": "markdown",
   "metadata": {},
   "source": [
    "<h1>Three Hidden Layers </h1>\n",
    "\n",
    "------------------------------------------------------------------------------------------------------------"
   ]
  },
  {
   "cell_type": "code",
   "execution_count": null,
   "metadata": {},
   "outputs": [],
   "source": [
    "def No_sense_making_us_do_the_same_thing_3(timestep,hidden1,hidden2):\n",
    "    X_train = []\n",
    "    y_train = []\n",
    "    for i in range(timestep, training_set.shape[0]):\n",
    "        X_train.append(training_set[i-timestep:i])\n",
    "        y_train.append(Y[i])\n",
    "    X_train, y_train = np.array(X_train), np.array(y_train)\n",
    "    X_train = np.reshape(X_train,(X_train.shape[0],X_train.shape[1], 2))\n",
    "    print(X_train.shape)\n",
    "    print(test.shape)\n",
    "    # MODEL ------------------------------------------------------------------\n",
    "\n",
    "    regressor = Sequential()\n",
    "    regressor.add(LSTM(units = hidden1, return_sequences=True, input_shape = (X_train.shape[1], 2))) \n",
    "    regressor.add(Dropout(0.2))\n",
    "    regressor.add(LSTM(units = hidden2, return_sequences=True, input_shape = (X_train.shape[1], 1))) \n",
    "    regressor.add(Dropout(0.2))\n",
    "    regressor.add(LSTM(units = hidden2)) \n",
    "    regressor.add(Dropout(0.2))\n",
    "    regressor.add(Dense(units=16,activation='relu'))\n",
    "    regressor.add(Dropout(0.2))\n",
    "    regressor.add(Dense(units=1,activation='linear'))    \n",
    "\n",
    "    # -------------------------------------------------------------------------\n",
    "    regressor.compile(optimizer='adam', loss = 'mean_squared_error')   \n",
    "    regressor.fit(X_train, y_train, epochs = 100, batch_size = 32)\n",
    "    \n",
    "    Yt = dataset_test.iloc[timestep:,2:3].values\n",
    "    real_stock_price = Yt\n",
    "    Yt = sc.fit_transform(Yt)\n",
    "    x_test = []\n",
    "#     y_test = []\n",
    "    for i in range(timestep,test.shape[0]):\n",
    "        x_test.append(test[i-timestep:i])\n",
    "#         y_test.append(Yt[i])\n",
    "    x_test = np.array(x_test)\n",
    "    print(x_test.shape)\n",
    "    y_test = Yt\n",
    "#     print(x_test.shape)\n",
    "    x_test = np.reshape(x_test, (x_test.shape[0],x_test.shape[1],2))\n",
    "    print(x_test.shape)\n",
    "    predicted_price = regressor.predict(x_test)\n",
    "    predicted_price = sc.inverse_transform(predicted_price)\n",
    "#     real_stock_price = real_stock_price.astype(np.float64, copy=False)\n",
    "    predicted_price = predicted_price.astype(np.float64,copy=False)\n",
    "    print(predicted_price.shape)\n",
    "    return real_stock_price,predicted_price\n"
   ]
  },
  {
   "cell_type": "code",
   "execution_count": null,
   "metadata": {},
   "outputs": [],
   "source": [
    "timestep,hidden1,hidden2 = (75,80,80)\n",
    "real_stock_price,predicted_price = No_sense_making_us_do_the_same_thing_3(timestep,hidden1,hidden2)"
   ]
  },
  {
   "cell_type": "code",
   "execution_count": null,
   "metadata": {},
   "outputs": [],
   "source": [
    "print(\"Layer = 2 :: Timestep = \",timestep,\" :: Hidden_1 = \",hidden1,\" :: Hidden_2 = \",hidden2)\n",
    "plt.plot(real_stock_price,color = 'red', label = 'Real Price')\n",
    "plt.plot(predicted_price, color = 'blue', label = 'Predicted Price')\n",
    "plt.title('Google Stock Price Prediction')\n",
    "plt.xlabel('Time')\n",
    "plt.ylabel('Google Stock Price')\n",
    "plt.legend()\n",
    "plt.show()\n",
    "# print(math.sqrt(mean_squared_error(real_stock_price, predicted_price)))"
   ]
  },
  {
   "cell_type": "code",
   "execution_count": null,
   "metadata": {},
   "outputs": [],
   "source": [
    "timestep,hidden1,hidden2 = (20,30,30)\n",
    "real_stock_price,predicted_price = No_sense_making_us_do_the_same_thing_3(timestep,hidden1,hidden2)"
   ]
  },
  {
   "cell_type": "code",
   "execution_count": null,
   "metadata": {},
   "outputs": [],
   "source": [
    "predicted_price_price_price"
   ]
  },
  {
   "cell_type": "code",
   "execution_count": null,
   "metadata": {},
   "outputs": [],
   "source": [
    "print(\"Layer = 2 :: Timestep = \",timestep,\" :: Hidden_1 = \",hidden1,\" :: Hidden_2 = \",hidden2)\n",
    "plt.plot(real_stock_price,color = 'red', label = 'Real Price')\n",
    "plt.plot(predicted_price, color = 'blue', label = 'Predicted Price')\n",
    "plt.title('Google Stock Price Prediction')\n",
    "plt.xlabel('Time')\n",
    "plt.ylabel('Google Stock Price')\n",
    "plt.legend()\n",
    "plt.show()\n",
    "# print(math.sqrt(mean_squared_error(real_stock_price, predicted_price)))"
   ]
  },
  {
   "cell_type": "code",
   "execution_count": null,
   "metadata": {},
   "outputs": [],
   "source": [
    "timestep,hidden1,hidden2 = (50,30,30)\n",
    "real_stock_price,predicted_price = No_sense_making_us_do_the_same_thing_3(timestep,hidden1,hidden2)"
   ]
  },
  {
   "cell_type": "code",
   "execution_count": null,
   "metadata": {},
   "outputs": [],
   "source": [
    "print(\"Layer = 2 :: Timestep = \",timestep,\" :: Hidden_1 = \",hidden1,\" :: Hidden_2 = \",hidden2)\n",
    "plt.plot(real_stock_price,color = 'red', label = 'Real Price')\n",
    "plt.plot(predicted_price, color = 'blue', label = 'Predicted Price')\n",
    "plt.title('Google Stock Price Prediction')\n",
    "plt.xlabel('Time')\n",
    "plt.ylabel('Google Stock Price')\n",
    "plt.legend()\n",
    "plt.show()\n",
    "# print(math.sqrt(mean_squared_error(real_stock_price, predicted_price)))"
   ]
  },
  {
   "cell_type": "code",
   "execution_count": null,
   "metadata": {},
   "outputs": [],
   "source": [
    "timestep,hidden1,hidden2 = (75,30,30)\n",
    "real_stock_price,predicted_price = No_sense_making_us_do_the_same_thing_3(timestep,hidden1,hidden2)"
   ]
  },
  {
   "cell_type": "code",
   "execution_count": null,
   "metadata": {},
   "outputs": [],
   "source": [
    "print(\"Layer = 2 :: Timestep = \",timestep,\" :: Hidden_1 = \",hidden1,\" :: Hidden_2 = \",hidden2)\n",
    "plt.plot(real_stock_price,color = 'red', label = 'Real Price')\n",
    "plt.plot(predicted_price, color = 'blue', label = 'Predicted Price')\n",
    "plt.title('Google Stock Price Prediction')\n",
    "plt.xlabel('Time')\n",
    "plt.ylabel('Google Stock Price')\n",
    "plt.legend()\n",
    "plt.show()\n",
    "# print(math.sqrt(mean_squared_error(real_stock_price, predicted_price)))"
   ]
  },
  {
   "cell_type": "code",
   "execution_count": null,
   "metadata": {},
   "outputs": [],
   "source": [
    "timestep,hidden1,hidden2 = (20,50,50)\n",
    "real_stock_price,predicted_price = No_sense_making_us_do_the_same_thing_3(timestep,hidden1,hidden2)"
   ]
  },
  {
   "cell_type": "code",
   "execution_count": null,
   "metadata": {},
   "outputs": [],
   "source": [
    "print(\"Layer = 2 :: Timestep = \",timestep,\" :: Hidden_1 = \",hidden1,\" :: Hidden_2 = \",hidden2)\n",
    "plt.plot(real_stock_price,color = 'red', label = 'Real Price')\n",
    "plt.plot(predicted_price, color = 'blue', label = 'Predicted Price')\n",
    "plt.title('Google Stock Price Prediction')\n",
    "plt.xlabel('Time')\n",
    "plt.ylabel('Google Stock Price')\n",
    "plt.legend()\n",
    "plt.show()\n",
    "# print(math.sqrt(mean_squared_error(real_stock_price, predicted_price)))"
   ]
  },
  {
   "cell_type": "code",
   "execution_count": null,
   "metadata": {},
   "outputs": [],
   "source": [
    "timestep,hidden1,hidden2 = (50,50,50)\n",
    "real_stock_price,predicted_price = No_sense_making_us_do_the_same_thing_3(timestep,hidden1,hidden2)"
   ]
  },
  {
   "cell_type": "code",
   "execution_count": null,
   "metadata": {},
   "outputs": [],
   "source": [
    "print(\"Layer = 2 :: Timestep = \",timestep,\" :: Hidden_1 = \",hidden1,\" :: Hidden_2 = \",hidden2)\n",
    "plt.plot(real_stock_price,color = 'red', label = 'Real Price')\n",
    "plt.plot(predicted_price, color = 'blue', label = 'Predicted Price')\n",
    "plt.title('Google Stock Price Prediction')\n",
    "plt.xlabel('Time')\n",
    "plt.ylabel('Google Stock Price')\n",
    "plt.legend()\n",
    "plt.show()\n",
    "# print(math.sqrt(mean_squared_error(real_stock_price, predicted_price)))"
   ]
  },
  {
   "cell_type": "code",
   "execution_count": null,
   "metadata": {},
   "outputs": [],
   "source": [
    "timestep,hidden1,hidden2 = (75,50,50)\n",
    "real_stock_price,predicted_price = No_sense_making_us_do_the_same_thing_3(timestep,hidden1,hidden2)"
   ]
  },
  {
   "cell_type": "code",
   "execution_count": null,
   "metadata": {},
   "outputs": [],
   "source": [
    "print(\"Layer = 2 :: Timestep = \",timestep,\" :: Hidden_1 = \",hidden1,\" :: Hidden_2 = \",hidden2)\n",
    "plt.plot(real_stock_price,color = 'red', label = 'Real Price')\n",
    "plt.plot(predicted_price, color = 'blue', label = 'Predicted Price')\n",
    "plt.title('Google Stock Price Prediction')\n",
    "plt.xlabel('Time')\n",
    "plt.ylabel('Google Stock Price')\n",
    "plt.legend()\n",
    "plt.show()\n",
    "# print(math.sqrt(mean_squared_error(real_stock_price, predicted_price)))"
   ]
  },
  {
   "cell_type": "code",
   "execution_count": null,
   "metadata": {},
   "outputs": [],
   "source": [
    "timestep,hidden1,hidden2 = (20,80,80)\n",
    "real_stock_price,predicted_price = No_sense_making_us_do_the_same_thing_3(timestep,hidden1,hidden2)"
   ]
  },
  {
   "cell_type": "code",
   "execution_count": null,
   "metadata": {},
   "outputs": [],
   "source": [
    "print(\"Layer = 2 :: Timestep = \",timestep,\" :: Hidden_1 = \",hidden1,\" :: Hidden_2 = \",hidden2)\n",
    "plt.plot(real_stock_price,color = 'red', label = 'Real Price')\n",
    "plt.plot(predicted_price, color = 'blue', label = 'Predicted Price')\n",
    "plt.title('Google Stock Price Prediction')\n",
    "plt.xlabel('Time')\n",
    "plt.ylabel('Google Stock Price')\n",
    "plt.legend()\n",
    "plt.show()\n",
    "# print(math.sqrt(mean_squared_error(real_stock_price, predicted_price)))"
   ]
  },
  {
   "cell_type": "code",
   "execution_count": null,
   "metadata": {},
   "outputs": [],
   "source": [
    "timestep,hidden1,hidden2 = (50,80,80)\n",
    "real_stock_price,predicted_price = No_sense_making_us_do_the_same_thing_3(timestep,hidden1,hidden2)"
   ]
  },
  {
   "cell_type": "code",
   "execution_count": null,
   "metadata": {},
   "outputs": [],
   "source": [
    "print(\"Layer = 2 :: Timestep = \",timestep,\" :: Hidden_1 = \",hidden1,\" :: Hidden_2 = \",hidden2)\n",
    "plt.plot(real_stock_price,color = 'red', label = 'Real Price')\n",
    "plt.plot(predicted_price, color = 'blue', label = 'Predicted Price')\n",
    "plt.title('Google Stock Price Prediction')\n",
    "plt.xlabel('Time')\n",
    "plt.ylabel('Google Stock Price')\n",
    "plt.legend()\n",
    "plt.show()\n",
    "# print(math.sqrt(mean_squared_error(real_stock_price, predicted_price)))"
   ]
  },
  {
   "cell_type": "code",
   "execution_count": null,
   "metadata": {},
   "outputs": [],
   "source": [
    "timestep,hidden1,hidden2 = (75,80,80)\n",
    "real_stock_price,predicted_price = No_sense_making_us_do_the_same_thing_3(timestep,hidden1,hidden2)"
   ]
  },
  {
   "cell_type": "code",
   "execution_count": null,
   "metadata": {},
   "outputs": [],
   "source": [
    "print(\"Layer = 2 :: Timestep = \",timestep,\" :: Hidden_1 = \",hidden1,\" :: Hidden_2 = \",hidden2)\n",
    "plt.plot(real_stock_price,color = 'red', label = 'Real Price')\n",
    "plt.plot(predicted_price, color = 'blue', label = 'Predicted Price')\n",
    "plt.title('Google Stock Price Prediction')\n",
    "plt.xlabel('Time')\n",
    "plt.ylabel('Google Stock Price')\n",
    "plt.legend()\n",
    "plt.show()\n",
    "# print(math.sqrt(mean_squared_error(real_stock_price, predicted_price)))"
   ]
  }
 ],
 "metadata": {
  "kernelspec": {
   "display_name": "Python 3",
   "language": "python",
   "name": "python3"
  },
  "language_info": {
   "codemirror_mode": {
    "name": "ipython",
    "version": 3
   },
   "file_extension": ".py",
   "mimetype": "text/x-python",
   "name": "python",
   "nbconvert_exporter": "python",
   "pygments_lexer": "ipython3",
   "version": "3.6.5"
  }
 },
 "nbformat": 4,
 "nbformat_minor": 2
}
