{
 "cells": [
  {
   "cell_type": "code",
   "execution_count": 1,
   "metadata": {
    "_cell_guid": "b1076dfc-b9ad-4769-8c92-a6c4dae69d19",
    "_uuid": "8f2839f25d086af736a60e9eeb907d3b93b6e0e5"
   },
   "outputs": [],
   "source": [
    "# This Python 3 environment comes with many helpful analytics libraries installed\n",
    "# It is defined by the kaggle/python docker image: https://github.com/kaggle/docker-python\n",
    "# For example, here's several helpful packages to load in \n",
    "\n",
    "import numpy as np # linear algebra\n",
    "import pandas as pd # data processing, CSV file I/O (e.g. pd.read_csv)\n",
    "import matplotlib.pyplot as plt\n",
    "\n",
    "# Input data files are available in the \"../input/\" directory.\n",
    "# For example, running this (by clicking run or pressing Shift+Enter) will list the files in the input directory\n",
    "\n",
    "# import os\n",
    "# print(os.listdir(\"../input\"))\n",
    "\n",
    "# Any results you write to the current directory are saved as output."
   ]
  },
  {
   "cell_type": "code",
   "execution_count": 3,
   "metadata": {
    "_cell_guid": "79c7e3d0-c299-4dcb-8224-4455121ee9b0",
    "_uuid": "d629ff2d2480ee46fbb7e2d37f6b5fab8052498a"
   },
   "outputs": [],
   "source": [
    "dataset_train = pd.read_csv(\"trainset.csv\")"
   ]
  },
  {
   "cell_type": "code",
   "execution_count": 5,
   "metadata": {
    "_uuid": "9de88d689da1a279477470f6cef999c0a45bf98a"
   },
   "outputs": [
    {
     "data": {
      "text/plain": [
       "<bound method NDFrame.head of             Date         Open         High          Low        Close  \\\n",
       "0     2013-01-02   357.385559   361.151062   355.959839   359.288177   \n",
       "1     2013-01-03   360.122742   363.600128   358.031342   359.496826   \n",
       "2     2013-01-04   362.313507   368.339294   361.488861   366.600616   \n",
       "3     2013-01-07   365.348755   367.301056   362.929504   365.001007   \n",
       "4     2013-01-08   365.393463   365.771027   359.874359   364.280701   \n",
       "5     2013-01-09   363.769043   366.789398   361.945892   366.675140   \n",
       "6     2013-01-10   369.014923   370.092896   364.380066   368.344269   \n",
       "7     2013-01-11   368.602600   368.816193   365.771027   367.604095   \n",
       "8     2013-01-14   366.118744   368.701935   358.841095   359.288177   \n",
       "9     2013-01-15   357.340851   365.125214   353.749207   360.122742   \n",
       "10    2013-01-16   358.865936   359.829651   354.529144   355.284210   \n",
       "11    2013-01-17   356.536072   357.494843   353.212677   353.361725   \n",
       "12    2013-01-18   352.884827   354.082031   348.398987   349.978729   \n",
       "13    2013-01-22   350.053253   350.391052   345.512787   349.164032   \n",
       "14    2013-01-23   365.617004   372.079987   365.517670   368.354218   \n",
       "15    2013-01-24   368.225037   375.969666   367.862396   374.668152   \n",
       "16    2013-01-25   372.959259   376.789337   372.700928   374.399902   \n",
       "17    2013-01-28   373.451050   375.358643   371.528564   372.939392   \n",
       "18    2013-01-29   370.962250   376.029297   370.857941   374.404846   \n",
       "19    2013-01-30   374.434662   378.016357   374.022339   374.479370   \n",
       "20    2013-01-31   372.830109   376.362122   372.700928   375.403351   \n",
       "21    2013-02-01   376.650238   385.790802   376.600586   385.294037   \n",
       "22    2013-02-04   381.364594   382.745605   376.685028   377.057617   \n",
       "23    2013-02-05   378.105774   383.063538   377.281158   380.395905   \n",
       "24    2013-02-06   377.082428   383.982574   376.799286   382.596588   \n",
       "25    2013-02-07   382.363098   386.888672   380.276672   384.474365   \n",
       "26    2013-02-08   387.544403   390.793274   387.261230   390.147461   \n",
       "27    2013-02-11   386.684998   388.970123   384.375000   388.682007   \n",
       "28    2013-02-12   388.349152   391.404297   387.166840   387.827545   \n",
       "29    2013-02-13   387.544403   390.137543   387.464905   388.900574   \n",
       "...          ...          ...          ...          ...          ...   \n",
       "1229  2017-11-16  1022.520020  1035.920044  1022.520020  1032.500000   \n",
       "1230  2017-11-17  1034.010010  1034.420044  1017.750000  1019.090027   \n",
       "1231  2017-11-20  1020.260010  1022.609985  1017.500000  1018.380005   \n",
       "1232  2017-11-21  1023.309998  1035.109985  1022.655029  1034.489990   \n",
       "1233  2017-11-22  1035.000000  1039.706055  1031.430054  1035.959961   \n",
       "1234  2017-11-24  1035.869995  1043.177979  1035.000000  1040.609985   \n",
       "1235  2017-11-27  1040.000000  1055.459961  1038.439941  1054.209961   \n",
       "1236  2017-11-28  1055.089966  1062.375000  1040.000000  1047.410034   \n",
       "1237  2017-11-29  1042.680054  1044.079956  1015.650024  1021.659973   \n",
       "1238  2017-11-30  1022.369995  1028.489990  1015.000000  1021.409973   \n",
       "1239  2017-12-01  1015.799988  1022.489990  1002.020020  1010.169983   \n",
       "1240  2017-12-04  1012.659973  1016.099976   995.570007   998.679993   \n",
       "1241  2017-12-05   995.940002  1020.609985   988.280029  1005.150024   \n",
       "1242  2017-12-06  1001.500000  1024.969971  1001.140015  1018.380005   \n",
       "1243  2017-12-07  1020.429993  1034.239990  1018.070984  1030.930054   \n",
       "1244  2017-12-08  1037.489990  1042.050049  1032.521973  1037.050049   \n",
       "1245  2017-12-11  1035.500000  1043.800049  1032.050049  1041.099976   \n",
       "1246  2017-12-12  1039.630005  1050.310059  1033.689941  1040.479980   \n",
       "1247  2017-12-13  1046.119995  1046.665039  1038.380005  1040.609985   \n",
       "1248  2017-12-14  1045.000000  1058.500000  1043.109985  1049.150024   \n",
       "1249  2017-12-15  1054.609985  1067.619995  1049.500000  1064.189941   \n",
       "1250  2017-12-18  1066.079956  1078.489990  1062.000000  1077.140015   \n",
       "1251  2017-12-19  1075.199951  1076.839966  1063.550049  1070.680054   \n",
       "1252  2017-12-20  1071.780029  1073.380005  1061.520020  1064.949951   \n",
       "1253  2017-12-21  1064.949951  1069.329956  1061.793945  1063.630005   \n",
       "1254  2017-12-22  1061.109985  1064.199951  1059.439941  1060.119995   \n",
       "1255  2017-12-26  1058.069946  1060.119995  1050.199951  1056.739990   \n",
       "1256  2017-12-27  1057.390015  1058.369995  1048.050049  1049.369995   \n",
       "1257  2017-12-28  1051.599976  1054.750000  1044.770020  1048.140015   \n",
       "1258  2017-12-29  1046.719971  1049.699951  1044.900024  1046.400024   \n",
       "\n",
       "        Adj Close    Volume  \n",
       "0      359.288177   5115500  \n",
       "1      359.496826   4666500  \n",
       "2      366.600616   5562800  \n",
       "3      365.001007   3332900  \n",
       "4      364.280701   3373900  \n",
       "5      366.675140   4075700  \n",
       "6      368.344269   3695100  \n",
       "7      367.604095   2587000  \n",
       "8      359.288177   5765000  \n",
       "9      360.122742   7906300  \n",
       "10     355.284210   4073100  \n",
       "11     353.361725   4451700  \n",
       "12     349.978729   6495500  \n",
       "13     349.164032   7634000  \n",
       "14     368.354218  11895000  \n",
       "15     374.668152   6809200  \n",
       "16     374.399902   4480700  \n",
       "17     372.939392   3275300  \n",
       "18     374.404846   3516800  \n",
       "19     374.479370   3488500  \n",
       "20     375.403351   3289500  \n",
       "21     385.294037   7540700  \n",
       "22     377.057617   6120500  \n",
       "23     380.395905   3765600  \n",
       "24     382.596588   4183200  \n",
       "25     384.474365   5717300  \n",
       "26     390.147461   6079300  \n",
       "27     388.682007   4363700  \n",
       "28     387.827545   3742100  \n",
       "29     388.900574   2411800  \n",
       "...           ...       ...  \n",
       "1229  1032.500000   1129700  \n",
       "1230  1019.090027   1397100  \n",
       "1231  1018.380005    953500  \n",
       "1232  1034.489990   1097000  \n",
       "1233  1035.959961    746300  \n",
       "1234  1040.609985    537000  \n",
       "1235  1054.209961   1307900  \n",
       "1236  1047.410034   1424400  \n",
       "1237  1021.659973   2459400  \n",
       "1238  1021.409973   1724000  \n",
       "1239  1010.169983   1909600  \n",
       "1240   998.679993   1906400  \n",
       "1241  1005.150024   2067300  \n",
       "1242  1018.380005   1272000  \n",
       "1243  1030.930054   1458200  \n",
       "1244  1037.050049   1290800  \n",
       "1245  1041.099976   1192800  \n",
       "1246  1040.479980   1279500  \n",
       "1247  1040.609985   1282700  \n",
       "1248  1049.150024   1558700  \n",
       "1249  1064.189941   3275900  \n",
       "1250  1077.140015   1554600  \n",
       "1251  1070.680054   1338700  \n",
       "1252  1064.949951   1268600  \n",
       "1253  1063.630005    995700  \n",
       "1254  1060.119995    755100  \n",
       "1255  1056.739990    760600  \n",
       "1256  1049.369995   1271900  \n",
       "1257  1048.140015    837100  \n",
       "1258  1046.400024    887500  \n",
       "\n",
       "[1259 rows x 7 columns]>"
      ]
     },
     "execution_count": 5,
     "metadata": {},
     "output_type": "execute_result"
    }
   ],
   "source": [
    "dataset_train.head"
   ]
  },
  {
   "cell_type": "code",
   "execution_count": 6,
   "metadata": {
    "_uuid": "99cca4c05240bd82c4492c6c3c200925c5c096e5"
   },
   "outputs": [],
   "source": [
    "trainset = dataset_train.iloc[:,1:2].values"
   ]
  },
  {
   "cell_type": "code",
   "execution_count": 7,
   "metadata": {
    "_uuid": "1f00141023a0cc15593c8ef1351883177ca3ba21"
   },
   "outputs": [
    {
     "data": {
      "text/plain": [
       "(1259, 1)"
      ]
     },
     "execution_count": 7,
     "metadata": {},
     "output_type": "execute_result"
    }
   ],
   "source": [
    "trainset.shape"
   ]
  },
  {
   "cell_type": "code",
   "execution_count": 8,
   "metadata": {
    "_uuid": "1abc6fe47fb5c4443767a2e2053cf9999c8a9a5c"
   },
   "outputs": [],
   "source": [
    "from sklearn.preprocessing import MinMaxScaler\n",
    "sc = MinMaxScaler(feature_range = (0,1))\n",
    "training_scaled = sc.fit_transform(trainset)"
   ]
  },
  {
   "cell_type": "code",
   "execution_count": 9,
   "metadata": {
    "_uuid": "15362ed79df83c13fbddff1889a71f21e968fbc2"
   },
   "outputs": [
    {
     "data": {
      "text/plain": [
       "(1259, 1)"
      ]
     },
     "execution_count": 9,
     "metadata": {},
     "output_type": "execute_result"
    }
   ],
   "source": [
    "training_scaled.shape"
   ]
  },
  {
   "cell_type": "code",
   "execution_count": null,
   "metadata": {
    "_uuid": "d0d549e9a4af9ab516c3304fb44d650a815dcedc"
   },
   "outputs": [],
   "source": [
    "x_train = []\n",
    "y_train = []"
   ]
  },
  {
   "cell_type": "code",
   "execution_count": null,
   "metadata": {
    "_uuid": "4c4f8ba0c635e7da0ba1bc52abf0a42068acdc89"
   },
   "outputs": [],
   "source": [
    "for i in range(60,1259):\n",
    "    x_train.append(training_scaled[i-60:i, 0])\n",
    "    y_train.append(training_scaled[i,0])\n",
    "x_train,y_train = np.array(x_train),np.array(y_train)"
   ]
  },
  {
   "cell_type": "code",
   "execution_count": null,
   "metadata": {
    "_uuid": "360eb79902c77fbba3f16ab47a5ff7593a177478"
   },
   "outputs": [],
   "source": [
    "x_train.shape"
   ]
  },
  {
   "cell_type": "code",
   "execution_count": null,
   "metadata": {
    "_uuid": "316c5775b5c0a984b432f138792d2c0e9a484491"
   },
   "outputs": [],
   "source": [
    "x_train = np.reshape(x_train, (x_train.shape[0],x_train.shape[1],1))"
   ]
  },
  {
   "cell_type": "code",
   "execution_count": null,
   "metadata": {
    "_uuid": "28f5242c6f1961914d1f568e70228fd30c1cb7fa"
   },
   "outputs": [],
   "source": [
    "from keras.models import Sequential\n",
    "from keras.layers import Dense\n",
    "from keras.layers import LSTM\n",
    "from keras.layers import Dropout"
   ]
  },
  {
   "cell_type": "code",
   "execution_count": null,
   "metadata": {
    "_uuid": "ed24d733423254641f134c0e84f44a8ce175589f"
   },
   "outputs": [],
   "source": [
    "regressor = Sequential()\n",
    "regressor.add(LSTM(units = 50,return_sequences = True,input_shape = (x_train.shape[1],1)))"
   ]
  },
  {
   "cell_type": "code",
   "execution_count": null,
   "metadata": {
    "_uuid": "e7b3dd133e58cb2acc860a8cfcd1483ba70e6b1b"
   },
   "outputs": [],
   "source": [
    "regressor.add(Dropout(0.2))"
   ]
  },
  {
   "cell_type": "code",
   "execution_count": null,
   "metadata": {
    "_uuid": "6b746176cb04357ac1e4c3e4c91ecd70717fed47"
   },
   "outputs": [],
   "source": [
    "regressor.add(LSTM(units = 50,return_sequences = True))\n",
    "regressor.add(Dropout(0.2))"
   ]
  },
  {
   "cell_type": "code",
   "execution_count": null,
   "metadata": {
    "_uuid": "73fe0b95d62b599e8aae4e2a53a10bc7165f464c"
   },
   "outputs": [],
   "source": [
    "regressor.add(LSTM(units = 50,return_sequences = True))\n",
    "regressor.add(Dropout(0.2))"
   ]
  },
  {
   "cell_type": "code",
   "execution_count": null,
   "metadata": {
    "_uuid": "8c81a80d2ea3cdf653675def0bbba5f9572e8770"
   },
   "outputs": [],
   "source": [
    "regressor.add(LSTM(units = 50))\n",
    "regressor.add(Dropout(0.2))"
   ]
  },
  {
   "cell_type": "code",
   "execution_count": null,
   "metadata": {
    "_uuid": "2edc2684995e0033ae8a4997b61b92a66c5bceee"
   },
   "outputs": [],
   "source": [
    "regressor.add(Dense(units = 1))"
   ]
  },
  {
   "cell_type": "code",
   "execution_count": null,
   "metadata": {
    "_uuid": "6681ff55d9a29b1ad0f37cdc82318fb2c8fbc0bd"
   },
   "outputs": [],
   "source": [
    "regressor.compile(optimizer = 'adam',loss = 'mean_squared_error')"
   ]
  },
  {
   "cell_type": "code",
   "execution_count": null,
   "metadata": {
    "_uuid": "b0287226b32109016b659a8ba484b5eb51e0d61a"
   },
   "outputs": [],
   "source": [
    "regressor.fit(x_train,y_train,epochs = 100, batch_size = 32)"
   ]
  },
  {
   "cell_type": "code",
   "execution_count": null,
   "metadata": {
    "_uuid": "16e063f81273faee696d9db103673ad2b88fda50"
   },
   "outputs": [],
   "source": [
    "dataset_test =pd.read_csv(\"../input/testset.csv\")"
   ]
  },
  {
   "cell_type": "code",
   "execution_count": null,
   "metadata": {
    "_uuid": "6acd6a66dc0f9c013ea008c0d99734697757cae6"
   },
   "outputs": [],
   "source": [
    "real_stock_price = dataset_test.iloc[:,1:2].values"
   ]
  },
  {
   "cell_type": "code",
   "execution_count": null,
   "metadata": {
    "_uuid": "b65a0a5b78f98a5ac13dee98e9738fd61426bfd0"
   },
   "outputs": [],
   "source": [
    "dataset_total = pd.concat((dataset_train['Open'],dataset_test['Open']),axis = 0)\n",
    "dataset_total"
   ]
  },
  {
   "cell_type": "code",
   "execution_count": null,
   "metadata": {
    "_uuid": "31aa33ed70b08e71d0e8bfe4c1abae7901ab947d"
   },
   "outputs": [],
   "source": [
    "inputs = dataset_total[len(dataset_total) - len(dataset_test)-60:].values\n",
    "inputs"
   ]
  },
  {
   "cell_type": "code",
   "execution_count": null,
   "metadata": {
    "_uuid": "7d74568c439acc8dda77dc4365d4b413095508e1"
   },
   "outputs": [],
   "source": [
    "inputs = inputs.reshape(-1,1)"
   ]
  },
  {
   "cell_type": "code",
   "execution_count": null,
   "metadata": {
    "_uuid": "17b170e861d1353ece8aec66f700886106da4aef"
   },
   "outputs": [],
   "source": [
    "inputs"
   ]
  },
  {
   "cell_type": "code",
   "execution_count": null,
   "metadata": {
    "_uuid": "b4003370fb6454d0493ef80b1b50ea34061de7bc"
   },
   "outputs": [],
   "source": [
    "inputs = sc.transform(inputs)\n",
    "inputs.shape"
   ]
  },
  {
   "cell_type": "code",
   "execution_count": null,
   "metadata": {
    "_uuid": "ef076f0fdbe6ec72d85e7326c3e8aa73fcbad667"
   },
   "outputs": [],
   "source": [
    "x_test = []\n",
    "for i in range(60,185):\n",
    "    x_test.append(inputs[i-60:i,0])"
   ]
  },
  {
   "cell_type": "code",
   "execution_count": null,
   "metadata": {
    "_uuid": "1fa15b6bb87ff2da8a730a6e1de20d5e5baf1571"
   },
   "outputs": [],
   "source": [
    "x_test = np.array(x_test)\n",
    "x_test.shape"
   ]
  },
  {
   "cell_type": "code",
   "execution_count": null,
   "metadata": {
    "_uuid": "b244d0115671f29d46d2cb290f92e6a0fe38bc1d"
   },
   "outputs": [],
   "source": [
    "x_test = np.reshape(x_test, (x_test.shape[0],x_test.shape[1],1))\n",
    "x_test.shape"
   ]
  },
  {
   "cell_type": "code",
   "execution_count": null,
   "metadata": {
    "_uuid": "24730042bdad3a140e033a78ae9b170304f8cefb"
   },
   "outputs": [],
   "source": [
    "predicted_price = regressor.predict(x_test)"
   ]
  },
  {
   "cell_type": "code",
   "execution_count": null,
   "metadata": {
    "_uuid": "4b06462fa06e7399373d8a552cd159176fbeef33"
   },
   "outputs": [],
   "source": [
    "predicted_price = sc.inverse_transform(predicted_price)\n",
    "predicted_price"
   ]
  },
  {
   "cell_type": "code",
   "execution_count": null,
   "metadata": {
    "_uuid": "e8b30d578fafb1564da4448efb1f994537f6f588"
   },
   "outputs": [],
   "source": [
    "plt.plot(real_stock_price,color = 'red', label = 'Real Price')\n",
    "plt.plot(predicted_price, color = 'blue', label = 'Predicted Price')\n",
    "plt.title('Google Stock Price Prediction')\n",
    "plt.xlabel('Time')\n",
    "plt.ylabel('Google Stock Price')\n",
    "plt.legend()\n",
    "plt.show()"
   ]
  }
 ],
 "metadata": {
  "kernelspec": {
   "display_name": "Python 3",
   "language": "python",
   "name": "python3"
  },
  "language_info": {
   "codemirror_mode": {
    "name": "ipython",
    "version": 3
   },
   "file_extension": ".py",
   "mimetype": "text/x-python",
   "name": "python",
   "nbconvert_exporter": "python",
   "pygments_lexer": "ipython3",
   "version": "3.6.5"
  }
 },
 "nbformat": 4,
 "nbformat_minor": 1
}
