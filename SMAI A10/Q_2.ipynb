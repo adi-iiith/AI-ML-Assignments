{
 "cells": [
  {
   "cell_type": "code",
   "execution_count": 12,
   "metadata": {},
   "outputs": [
    {
     "name": "stdout",
     "output_type": "stream",
     "text": [
      "-41.32503820168037\n"
     ]
    }
   ],
   "source": [
    "import numpy as np \n",
    "\n",
    "def DNA(dna,state):\n",
    "    res_prob = {}\n",
    "    trans_prob = {}\n",
    "\n",
    "    lis = ['E','5','I']\n",
    "    li = ['A','C','G','T']\n",
    "\n",
    "    res_prob['E']={}\n",
    "    res_prob['5']={}\n",
    "    res_prob['I']={}\n",
    "    res_prob['E']['C']=0.25\n",
    "    res_prob['E']['A']=0.25\n",
    "    res_prob['E']['G']=0.25\n",
    "    res_prob['E']['T']=0.25\n",
    "\n",
    "    res_prob['5']['C']=0\n",
    "    res_prob['5']['A']=0.05\n",
    "    res_prob['5']['G']=0.95\n",
    "    res_prob['5']['T']=0\n",
    "\n",
    "    res_prob['I']['C']=0.1\n",
    "    res_prob['I']['A']=0.4\n",
    "    res_prob['I']['G']=0.1\n",
    "    res_prob['I']['T']=0.4\n",
    "\n",
    "    trans_prob['EE'] = 0.9 \n",
    "    trans_prob['E5'] = 0.1\n",
    "    trans_prob['II'] = 0.9\n",
    "\n",
    "    ans = 0\n",
    "    br = 0\n",
    "    count_5 = 0\n",
    "    for i in range(1,len(dna)):\n",
    "        if state[i] == 'E':\n",
    "            if state[i-1] == 'E':\n",
    "                if br == 0:\n",
    "                    ans+=np.log(res_prob['E'][dna[i-1]])+np.log(trans_prob['EE'])\n",
    "        if state[i] == '5':\n",
    "            if state[i-1]=='E':\n",
    "                ans+=np.log(res_prob['E'][dna[i-1]])+np.log(trans_prob['E5'])\n",
    "                br = 1\n",
    "        if state[i] == 'I':\n",
    "            if state[i-1] == '5':\n",
    "                ans += np.log(res_prob['5'][dna[i-1]])\n",
    "        if state[i] == 'I':\n",
    "            if state[i-1] == 'I':\n",
    "                if br == 1:\n",
    "                    ans+= np.log(res_prob['I'][dna[i-1]])+np.log(trans_prob['II'])\n",
    "\n",
    "\n",
    "\n",
    "    ans+= np.log(res_prob['I'][dna[len(dna)-1]])\n",
    "    ans+= np.log(trans_prob['II'])\n",
    "    ans+= np.log(0.1)\n",
    "    print(ans)\n",
    "    \n",
    "# dna = input()\n",
    "# state = input()\n",
    "dna = \"CTTCATGTGAAAGCAGACGTAAGTCA\"\n",
    "state = \"EEEEEEEEEEEEEEEEEE5IIIIIII\"\n",
    "DNA(dna,state)"
   ]
  }
 ],
 "metadata": {
  "kernelspec": {
   "display_name": "Python 3",
   "language": "python",
   "name": "python3"
  },
  "language_info": {
   "codemirror_mode": {
    "name": "ipython",
    "version": 3
   },
   "file_extension": ".py",
   "mimetype": "text/x-python",
   "name": "python",
   "nbconvert_exporter": "python",
   "pygments_lexer": "ipython3",
   "version": "3.6.5"
  }
 },
 "nbformat": 4,
 "nbformat_minor": 2
}
