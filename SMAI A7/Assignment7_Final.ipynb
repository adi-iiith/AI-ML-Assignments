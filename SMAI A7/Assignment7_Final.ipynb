{
 "cells": [
  {
   "cell_type": "code",
   "execution_count": 11,
   "metadata": {},
   "outputs": [],
   "source": [
    "import numpy as np\n",
    "import pandas as pd\n",
    "import random\n",
    "import math\n",
    "import matplotlib.pyplot as plt\n",
    "%matplotlib inline\n",
    "from collections import OrderedDict\n",
    "import sklearn\n",
    "from sklearn.model_selection import train_test_split\n",
    "from sklearn.metrics import precision_recall_fscore_support as score\n",
    "from sklearn.model_selection import KFold"
   ]
  },
  {
   "cell_type": "markdown",
   "metadata": {},
   "source": [
    "<h1>Question 1"
   ]
  },
  {
   "cell_type": "markdown",
   "metadata": {},
   "source": [
    "# Regularization in Linear Regression\n",
    "\n",
    "## Introduction \n",
    "Linear regression is very popular statistical model that is used to represent the relationship between some outcome variable $y_i$ and covariates (also known as features, explanatory variables, and independent variables) $x = (x_{1i}, x_{2i}, \\ldots, x_{ki})$ using linear weights $\\hat{\\beta} = (\\hat{\\beta_{0}}, \\hat{\\beta_{1}}, \\ldots, \\hat{\\beta_{k}}).$ The weights are choosen in a way such that the function $$f(x_{i};\\hat{\\beta}) = \\hat{\\beta_{0}} + \\hat{\\beta_{1}}x_{1i} + \\ldots + \\hat{\\beta_{k}}x_{ki},$$ for $i = 1, \\ldots, n$ best fits the data. Note that $\\beta$ is a unknown regression parameter, and $\\hat{\\beta}$ is its estimate from a learning algorithm. That is the model $f(x_{i};\\hat{\\beta})$ is estimating the following assumed true linear relationsthip between $y_{i}$ and $x_{i},$\n",
    "$$y_{i} = \\beta_{0} + \\beta_{1}x_{1i} + \\ldots + \\beta_{k}x_{ki} + \\epsilon_{i},$$ where $\\epsilon_{i}$ is a mean zero stochastic error term. The \"linear\" in linear regression means that the model is linear in the parameters, so $y_{i} = \\beta_{0} + \\beta_{1}x_{i}^2$ is a linear model, but $y_{i} = \\beta_{0}x_{i}^{\\beta_{1}}$ is nonlinear in parameters. \n",
    "\n",
    "\n",
    "This function can be used to predict outcome $y_{i}$ given any covariates $x_{1i}, \\ldots, x_{ki}.$ However a caveat for using linear regression with many covariates for prediction is that the model may \"overfit\" the data and may not be generalizable. Overfitting occurs when the model captures too much of the noise in the data which cannot generalize outside of sample. We will discuss a popular remedy to the overfitting problem, regularization. Intuitively speaking, regularlization is a method of changing the standard definition of a model \"best fitting\" the data in a way that its predictions are more generalizable to new data sets. \n",
    "\n",
    "## Overfitting in linear regression\n",
    "\n",
    "Overfitting is often a result of the model having too many parameters relative to the training data. "
   ]
  },
  {
   "cell_type": "markdown",
   "metadata": {},
   "source": [
    "## L1 and L2 Regularization methods\n",
    "\n",
    "Suppose we are trying to model the relationship between $y_{i}$ and $x_{i}$ using a high degree polynomial (10 degrees for example). If we minimize $Error(\\beta)$ above (square loss) to estimate our model, then this model is prone to overfitting if the higher order terms are assigned large weights to caputure noise in the data. The simple idea behind regularization is that we add a penalty function to the standard square loss function so that learning algorithm doesn't easily assign large weights to the higher order covariates. The $L1$ regularized error function is $$Error_{L1}(\\beta) = \\frac{1}{2}\\sum_{i=1}^{n}(f(x_{i};\\beta)-y_{i})^2 + \\frac{\\lambda}{2} \\sum_{i=1}^{k}|\\beta_{i}|,$$ and the $L2$ regualirized error function is $$Error_{L2}(\\beta) = \\frac{1}{2}\\sum_{i=1}^{n}(f(x_{i};\\beta)-y_{i})^2 + \\frac{\\lambda}{2} \\sum_{i=1}^{k}\\beta_{i}^{2},$$ where $\\lambda$ is the regularization parameter. Note that using the $L1$ loss function is known as lasso regression, and using the $L2$ loss function is known as ridge regression. The regularized terms $\\frac{\\lambda}{2} \\sum_{i=1}^{k}|\\beta_{i}|,\\frac{\\lambda}{2} \\sum_{i=1}^{k}\\beta_{i}^{2}$ in the $L1$ and $L2$ loss functions respectively shrink the parameters $(\\beta_{1}, \\ldots, \\beta_{k})$ towards 0 (notice the intercept $\\beta_{0}$ is excluded from the regularized term). Suppose the true relationship between $y_{i}$ and $x_{i}$ is quadratic, then regularization should prevent our 10 degree polynomial from overfitting as now the higher degree terms will likely be assigned lower weight than if we had used the standard sqaure loss $Error(\\beta).$ The tuning parameter $\\lambda$ is usually determined by using a methadology known as cross validation. We will cover cross validation for a later part of the notebook, for now we will just set $\\lambda = (1,15) .$ in both cases to plot the relation between MSE and  $\\lambda "
   ]
  },
  {
   "cell_type": "markdown",
   "metadata": {},
   "source": [
    "## Estimating linear model parameters\n",
    "\n",
    "Optimization algorithms such as Gradient Descent can be used to minimize a given loss function and estimate the parameters in our linear model. However since the main purpose is to illustrate regularization methods, for code simplicity we will use well known closed form solutions to implement standard linear regression and $L2$ regularization. Using matrices, we can re-write the assumed true linear relationship between $y_{i}$ and $x_{i}$ as\n",
    "\n",
    "$$\\begin{bmatrix}\n",
    "    y_{1} \\\\\n",
    "    y_{2} \\\\\n",
    "    \\vdots \\\\\n",
    "    y_{n}\n",
    "\\end{bmatrix} \n",
    "=\n",
    "\\begin{bmatrix}\n",
    "    1 & x_{11} & \\ldots & x_{k1}\\\\\n",
    "    \\vdots & \\vdots & \\ldots & \\vdots \\\\\n",
    "    1 & x_{12} & \\ldots & x_{k2}\\\\\n",
    "    1 & x_{1n} & \\ldots & x_{kn}\n",
    "\\end{bmatrix} \n",
    "\\begin{bmatrix}\n",
    "    \\beta_{0} \\\\\n",
    "    \\beta_{1} \\\\\n",
    "    \\vdots \\\\\n",
    "    \\beta_{k}\n",
    "\\end{bmatrix} \n",
    "+\n",
    "\\begin{bmatrix}\n",
    "    \\epsilon_{1} \\\\\n",
    "    \\epsilon_{2} \\\\\n",
    "    \\vdots \\\\\n",
    "    \\epsilon_{n}\n",
    "\\end{bmatrix}.\n",
    "$$\n",
    "Using outcome vector $y$, coeffecient vector $\\beta$, error vector $\\epsilon$, and covariate matrix $X$ (also known as design matrix), we can re-write the above equation as $y = X\\beta + \\epsilon.$ For the standard square loss function, the closed form solution for the parameters is $\\hat{\\beta} = (X'X)^{-1}X'y,$ and for the $L2$ regularized loss function the closed form solution is $\\hat{\\beta} = (X'X + \\lambda I)^{-1}X'y,$ where I = \n",
    "$\n",
    "\\begin{bmatrix}\n",
    "    0 & 0 & \\ldots & 0\\\\\n",
    "    0 & 1 & \\ldots & 0\\\\\n",
    "    0 & 0 & 1 & 0 \\\\\n",
    "    \\vdots & \\vdots & \\ldots & \\vdots \\\\\n",
    "    0 & 0 & \\ldots & 1\n",
    "\\end{bmatrix}. \n",
    "$\n",
    "Note that the $L1$ regularized loss function doesn't have a closed form solution for the parameters so we have to use Gradient Descent to implement it. \n",
    "\n",
    "## Deriving the closed form solutions\n",
    "For ridge regression, the matrix representation of the $L2$ loss function is $$Error_{L2}(\\beta) = \\frac{1}{2}(f(x;\\beta) - y)'(f(x;\\beta) - y)+\\frac{\\lambda}{2}\\beta'\\beta,$$ where $y$ is outcome vector, $f(x,\\beta) = X\\beta$ is vector of linear model predictions, and $\\beta$ is parameter vector. To estimate $\\beta$, we minimize $Error_{L2}(\\beta)$ and hence compute $\\frac{d Error_{L2}(\\beta)}{d\\beta} = 0.$ After differentiation $Error_{L2}(\\beta)$ with respect to $\\beta$ we can obtain $$X'X\\beta-X'y+\\lambda I\\beta = 0,$$ and rearranging the above equation results in $\\hat{\\beta} = (X'X + \\lambda I)^{-1}X'y$, the closed form solution for ridge regression. "
   ]
  },
  {
   "cell_type": "markdown",
   "metadata": {},
   "source": [
    "<h2>Q_1_1 : Lasso Regression using GD"
   ]
  },
  {
   "cell_type": "code",
   "execution_count": 33,
   "metadata": {},
   "outputs": [
    {
     "data": {
      "text/plain": [
       "Text(0.5, 1.0, 'Lambda vs Error Values')"
      ]
     },
     "execution_count": 33,
     "metadata": {},
     "output_type": "execute_result"
    },
    {
     "data": {
      "image/png": "[encoded data removed]",
      "text/plain": [
       "<Figure size 432x288 with 1 Axes>"
      ]
     },
     "metadata": {
      "needs_background": "light"
     },
     "output_type": "display_data"
    }
   ],
   "source": [
    "def ols(X, y, theta):\n",
    "    inner = np.power(((X * theta.T) - y), 2)\n",
    "    return np.sum(inner) / (2 * len(X))\n",
    "\n",
    "def gradientDescent(X,L1):\n",
    "    X = np.insert(X,0,1,axis=1)\n",
    "    Y = np.array(train['Chance of Admit '].values)\n",
    "    Y = np.asmatrix(Y).T\n",
    "    r,c = X.shape\n",
    "    theta = [0 for i in range(c)]\n",
    "    dtheta = np.array(theta).reshape(len(theta),1)\n",
    "    alpha = 0.01\n",
    "    iteration = 1000\n",
    "    for i in range(iteration):\n",
    "        t = np.matmul(X,dtheta)\n",
    "        value = np.subtract(t,Y)\n",
    "        value = np.matmul(X.T,value)\n",
    "        value = (alpha/r)*(value+L1*np.sign(dtheta))\n",
    "        dtheta = np.subtract(dtheta,value)\n",
    "    return dtheta\n",
    "\n",
    "Lamda = []\n",
    "mse = []\n",
    "\n",
    "data = pd.read_csv('Datasets/data.csv')\n",
    "data = data.drop('Serial No.',axis=1)\n",
    "data=(data-data.mean())/data.std()\n",
    "train = data.sample(frac=0.8, random_state=200) \n",
    "validation = data.drop(train.index)\n",
    "train_X = train.drop('Chance of Admit ',axis=1)\n",
    "train_X = train_X.values\n",
    "\n",
    "for i in range(0,15):\n",
    "        Lamda.append(i)\n",
    "        B = gradientDescent(train_X,i)\n",
    "        val = validation.drop('Chance of Admit ',axis=1)\n",
    "        val = val.values\n",
    "        val = np.insert(val,0,1,axis=1)\n",
    "        prediction = np.dot(val,B)\n",
    "        n = (np.array(prediction)).flatten()\n",
    "        actual = validation['Chance of Admit '].tolist()\n",
    "        e = 0\n",
    "        for i in range(len(n)):\n",
    "            e += pow(actual[i]-n[i],2)\n",
    "        e = e/len(n)\n",
    "        mse.append(e)\n",
    "        \n",
    "# print(Lamda)\n",
    "plt.plot(Lamda,mse)\n",
    "plt.xlabel('Lambda Values')\n",
    "plt.ylabel('Errors')\n",
    "plt.title(\"Lambda vs Error Values\")"
   ]
  },
  {
   "cell_type": "markdown",
   "metadata": {},
   "source": [
    "<h2>Q_1_2 : Ridge Regression using Closed Form"
   ]
  },
  {
   "cell_type": "code",
   "execution_count": 45,
   "metadata": {},
   "outputs": [
    {
     "data": {
      "text/plain": [
       "Text(0.5, 1.0, 'Lambda vs Error Values')"
      ]
     },
     "execution_count": 45,
     "metadata": {},
     "output_type": "execute_result"
    },
    {
     "data": {
      "image/png": "[encoded data removed]",
      "text/plain": [
       "<Figure size 432x288 with 1 Axes>"
      ]
     },
     "metadata": {
      "needs_background": "light"
     },
     "output_type": "display_data"
    }
   ],
   "source": [
    "def Q2(L2):\n",
    "    fname = 'Datasets/data.csv'\n",
    "    df = pd.read_csv(fname)\n",
    "    df = df.drop('Serial No.',axis=1)\n",
    "    df = (df - df.mean())/df.std()\n",
    "    train = df.sample(frac=0.8,random_state=200)\n",
    "    validate = df.drop(train.index)\n",
    "\n",
    "    # print(df)\n",
    "\n",
    "    y = train['Chance of Admit ']\n",
    "    train = train.drop('Chance of Admit ',axis=1)\n",
    "\n",
    "    actual = validate['Chance of Admit ']\n",
    "    validate = validate.drop('Chance of Admit ',axis=1)\n",
    "\n",
    "\n",
    "    # adding 1's\n",
    "    one = []\n",
    "    for i in range(len(train.index)) :\n",
    "        one.append(1)\n",
    "    train.insert(0, 'ones', one, allow_duplicates = False)\n",
    "    # Dataframe to Matrix\n",
    "\n",
    "    # Validation data handling\n",
    "    one_validate = []\n",
    "    for i in range(len(validate.index)) :\n",
    "        one_validate.append(1)\n",
    "    validate.insert(0, 'ones', one_validate, allow_duplicates = False)\n",
    "\n",
    "    X = train.values\n",
    "    Y = y.values\n",
    "\n",
    "    Xt = X.transpose()\n",
    "    XXt = np.matmul(Xt,X)\n",
    "    X_inv = np.linalg.inv(XXt+ L2*np.identity(8,dtype=float))\n",
    "\n",
    "\n",
    "    B = np.matmul((np.matmul(X_inv,Xt)),Y)\n",
    "\n",
    "    X_validate = validate.values\n",
    "#     print(X_validate.shape)\n",
    "    prediction = np.matmul(X_validate,B)\n",
    "    prediction = prediction.tolist()\n",
    "\n",
    "\n",
    "\n",
    "    actual = actual.tolist()\n",
    "\n",
    "    error_count = 0\n",
    "\n",
    "    for i in range(len(actual)) :\n",
    "        error_count = error_count + (pow((actual[i] - prediction[i]),2))\n",
    "    error_count = error_count/len(actual)\n",
    "#     print(\"MSE :: \",error_count)\n",
    "    return error_count\n",
    "L = []\n",
    "mse = []\n",
    "for i in range(15):\n",
    "    mse.append(Q2(i))\n",
    "    L.append(i)\n",
    "plt.plot(L,mse)\n",
    "plt.xlabel('Lambda Values')\n",
    "plt.ylabel('Errors')\n",
    "plt.title(\"Lambda vs Error Values\")\n"
   ]
  },
  {
   "cell_type": "markdown",
   "metadata": {},
   "source": [
    "<h2> Q_1_3 : Hyperparameter $\\lambda $ </h2>\n",
    "    \n",
    "The hyperparameter $\\lambda $ controls this tradeoff by adjusting the weight of the penalty term. If $\\lambda $ is increased, model complexity will have a greater contribution to the cost. As per our hypothesis we can say that higher $\\lambda $ will bias the selection toward models with lower complexity."
   ]
  },
  {
   "cell_type": "markdown",
   "metadata": {},
   "source": [
    "<h2> Q_1_4 : Lasso vs Ridge Regression"
   ]
  },
  {
   "cell_type": "markdown",
   "metadata": {},
   "source": [
    "Ridge regression can't zero out coefficients; thus, you either end up including all the coefficients in the model, or none of them. In contrast, the LASSO does both parameter shrinkage and variable selection automatically.\n",
    "Another popular model is Elastic Net, which is often used to squeeze the best out of both the techniques.\n",
    "\n",
    "More detailed theory on both is explained in Introductory part and for further mathematical derivation I have provided a reference link below.\n",
    "\n",
    "Reference : https://www.datasciencecentral.com/profiles/blogs/intuition-behind-bias-variance-trade-off-lasso-and-ridge"
   ]
  },
  {
   "cell_type": "markdown",
   "metadata": {},
   "source": [
    "---------------------------------------------------------------------------------------\n",
    "<h1> Question 1_5 : K-fold and LOOCV (implemented for Ridge Regression)"
   ]
  },
  {
   "cell_type": "code",
   "execution_count": 65,
   "metadata": {},
   "outputs": [
    {
     "data": {
      "text/plain": [
       "Text(0.5, 1.0, 'K vs Error Values')"
      ]
     },
     "execution_count": 65,
     "metadata": {},
     "output_type": "execute_result"
    },
    {
     "data": {
      "image/png": "[encoded data removed]",
      "text/plain": [
       "<Figure size 432x288 with 1 Axes>"
      ]
     },
     "metadata": {
      "needs_background": "light"
     },
     "output_type": "display_data"
    }
   ],
   "source": [
    "def Q2(train_a,validation,L2):\n",
    "    train = np.delete(train_a,7,1)\n",
    "    train = np.insert(train,0,1,axis=1)\n",
    "    train_Y = np.asmatrix(np.array(train_a[:,[7]]))\n",
    "    train_X_bar = train.transpose()\n",
    "    matrix_mul = np.dot(train_X_bar,train)\n",
    "    X_inverse = np.linalg.inv(matrix_mul + L2*np.identity(8,dtype=float))\n",
    "    inter_matrix = np.dot(X_inverse,train_X_bar)  \n",
    "    beta = np.dot(inter_matrix,train_Y)\n",
    "    validation_Y = np.delete(validation,7,1)\n",
    "    validation_Y = np.insert(validation_Y,0,1,axis=1)\n",
    "    actual = np.array(validation[:,[7]])\n",
    "    predicted_Y_bar = np.dot(validation_Y,beta)\n",
    "    mse = 0\n",
    "    for i in range(len(predicted_Y_bar)):\n",
    "        mse = mse + pow(actual[i] - predicted_Y_bar[i],2)\n",
    "    mse = mse/len(actual)\n",
    "    return mse\n",
    "    \n",
    "fname = 'Datasets/data.csv'\n",
    "df = pd.read_csv(fname)\n",
    "df = df.drop('Serial No.',axis=1)\n",
    "# print(df)\n",
    "df = (df - df.mean())/df.std()\n",
    "df = df.values\n",
    "split_points = []\n",
    "N = (len(df))\n",
    "for i in range(2,N):\n",
    "    if N % i == 0:\n",
    "        split_points.append(i);\n",
    "\n",
    "test_error = []\n",
    "\n",
    "for i in range(len(split_points)):\n",
    "    kf = KFold(n_splits=split_points[i])\n",
    "    per_loop_error = []\n",
    "    for train_index, test_index in kf.split(df):\n",
    "        X_train, X_test = df[train_index], df[test_index]\n",
    "        #Y_train, Y_test = data[train_index], data[test_index]\n",
    "        E = Q2(X_train,X_test,1)\n",
    "        per_loop_error.append(E)\n",
    "    test_error.append(np.mean(per_loop_error))\n",
    "\n",
    "# print(split_points)\n",
    "plt.plot(split_points,test_error)\n",
    "plt.xlabel('K value')\n",
    "plt.ylabel('Errors')\n",
    "plt.title(\"K vs Error Values\")"
   ]
  },
  {
   "cell_type": "code",
   "execution_count": null,
   "metadata": {},
   "outputs": [],
   "source": []
  }
 ],
 "metadata": {
  "kernelspec": {
   "display_name": "Python 3",
   "language": "python",
   "name": "python3"
  },
  "language_info": {
   "codemirror_mode": {
    "name": "ipython",
    "version": 3
   },
   "file_extension": ".py",
   "mimetype": "text/x-python",
   "name": "python",
   "nbconvert_exporter": "python",
   "pygments_lexer": "ipython3",
   "version": "3.6.5"
  }
 },
 "nbformat": 4,
 "nbformat_minor": 2
}
