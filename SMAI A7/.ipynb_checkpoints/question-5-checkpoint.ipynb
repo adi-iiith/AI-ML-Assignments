{
 "cells": [
  {
   "cell_type": "code",
   "execution_count": 1,
   "metadata": {},
   "outputs": [],
   "source": [
    "import pandas as pd\n",
    "import numpy as np\n",
    "import pprint\n",
    "import math\n",
    "from sklearn.metrics import r2_score\n",
    "import sys\n",
    "import matplotlib.pyplot as plt\n",
    "from sklearn.model_selection import KFold"
   ]
  },
  {
   "cell_type": "code",
   "execution_count": 2,
   "metadata": {},
   "outputs": [],
   "source": [
    "def model(X_train,lamb):\n",
    "    train_X = np.delete(X_train,7,1)  # removing chance of admit\n",
    "    #print(\"X_train shape :\",X_train.shape)\n",
    "    train_X = np.insert(train_X,0,1,axis=1) # inserting all 1's for bias\n",
    "    #print(\"X Shape : \",train_X.shape)\n",
    "    train_Y = np.asmatrix(np.array(X_train[:,[7]])) # obtaining the y 1d matrix\n",
    "    #print(\"Train_Y shape : \",train_Y.shape)\n",
    "    train_X_bar = train_X.transpose()\n",
    "    matrix_mul = np.dot(train_X_bar,train_X)  # XT.X\n",
    "    X_inverse = np.linalg.inv(matrix_mul + lamb*np.identity(8,dtype=float))  #(XT.X + lamb*I)Inverse\n",
    "    #print(\"Inverse Shape : \",X_inverse.shape)\n",
    "    inter_matrix = np.dot(X_inverse,train_X_bar)  \n",
    "    beta = np.dot(inter_matrix,train_Y)\n",
    "    #print(\"Beta Shape : \",beta.shape)\n",
    "    return beta"
   ]
  },
  {
   "cell_type": "code",
   "execution_count": 3,
   "metadata": {},
   "outputs": [],
   "source": [
    "def mse_calc(validation,beta):\n",
    "    validation_without_label = np.delete(validation,7,1)\n",
    "    validation_X = np.insert(validation_without_label,0,1,axis=1)\n",
    "    #print(\"test_input shape : \",validation_X.shape)\n",
    "    actual_Y = np.array(validation[:,[7]])\n",
    "    #print(\"actual_Y shape : \",actual_Y.shape)\n",
    "    predicted_Y_bar = np.dot(validation_X,beta)\n",
    "#     new_list = np.array(predicted_Y_bar)\n",
    "#     new_list = new_list.flatten()\n",
    "    #print(\"Predicted Y shape : \",predicted_Y_bar.shape)\n",
    "    mse = 0\n",
    "    for i in range(len(predicted_Y_bar)):\n",
    "        mse = mse + pow(actual_Y[i] - predicted_Y_bar[i],2)\n",
    "    mse = mse/len(actual_Y)\n",
    "    return mse"
   ]
  },
  {
   "cell_type": "code",
   "execution_count": 4,
   "metadata": {},
   "outputs": [
    {
     "name": "stdout",
     "output_type": "stream",
     "text": [
      "[0.1933890442936587, 0.19153197331298563, 0.1889321274432109, 0.18797543114493145, 0.18826395337639287, 0.1893072555950761, 0.18788468387419816, 0.1879455004300923, 0.18815409087342735, 0.18843156243406703, 0.1885032198418316, 0.1892326035422979, 0.1884132663654159, 0.1892083859690294, 0.18911471672069236]\n",
      "[2, 3, 5, 6, 9, 10, 15, 18, 25, 30, 45, 50, 75, 90, 150]\n"
     ]
    }
   ],
   "source": [
    "data = pd.read_csv('data.csv')\n",
    "data = data.drop('Serial No.',axis=1)\n",
    "#print(\"Data : \",data.shape)\n",
    "data=(data-data.mean())/data.std()\n",
    "data = data.values  # Returns numpy array\n",
    "length = len(data)\n",
    "split_points = []\n",
    "for i in range(2,200):\n",
    "    if length % i == 0:\n",
    "        split_points.append(i);\n",
    "    \n",
    "test_error = []\n",
    "for i in range(len(split_points)):\n",
    "    kf = KFold(n_splits=split_points[i])\n",
    "    per_loop_error = []\n",
    "    for train_index, test_index in kf.split(data):\n",
    "        X_train, X_test = data[train_index], data[test_index]\n",
    "        #Y_train, Y_test = data[train_index], data[test_index]\n",
    "        beta = model(X_train,5)\n",
    "        per_loop_error.append(mse_calc(X_test,beta))\n",
    "    \n",
    "    test_error.append(np.mean(per_loop_error))\n",
    "\n",
    "print(test_error)\n",
    "print(split_points)\n",
    "        "
   ]
  },
  {
   "cell_type": "code",
   "execution_count": 5,
   "metadata": {},
   "outputs": [
    {
     "data": {
      "text/plain": [
       "Text(0.5,1,'K vs Error Values')"
      ]
     },
     "execution_count": 5,
     "metadata": {},
     "output_type": "execute_result"
    },
    {
     "data": {
      "image/png": "[encoded data removed]",
      "text/plain": [
       "<Figure size 432x288 with 1 Axes>"
      ]
     },
     "metadata": {},
     "output_type": "display_data"
    }
   ],
   "source": [
    "plt.plot(split_points,test_error)\n",
    "plt.xlabel('K value')\n",
    "plt.ylabel('Errors')\n",
    "plt.title(\"K vs Error Values\")"
   ]
  },
  {
   "cell_type": "code",
   "execution_count": null,
   "metadata": {},
   "outputs": [],
   "source": []
  }
 ],
 "metadata": {
  "kernelspec": {
   "display_name": "Python 3",
   "language": "python",
   "name": "python3"
  },
  "language_info": {
   "codemirror_mode": {
    "name": "ipython",
    "version": 3
   },
   "file_extension": ".py",
   "mimetype": "text/x-python",
   "name": "python",
   "nbconvert_exporter": "python",
   "pygments_lexer": "ipython3",
   "version": "3.6.5"
  }
 },
 "nbformat": 4,
 "nbformat_minor": 2
}
