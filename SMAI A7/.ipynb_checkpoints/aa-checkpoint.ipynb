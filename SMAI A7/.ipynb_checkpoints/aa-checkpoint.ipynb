{
 "cells": [
  {
   "cell_type": "code",
   "execution_count": 1,
   "metadata": {},
   "outputs": [],
   "source": [
    "import pandas as pd\n",
    "import numpy as np\n",
    "import matplotlib.pyplot as mlt\n",
    "import csv\n",
    "import random\n",
    "import operator\n",
    "import math\n",
    "from sklearn.model_selection import train_test_split\n",
    "from sklearn.metrics import precision_recall_fscore_support as score"
   ]
  },
  {
   "cell_type": "code",
   "execution_count": 2,
   "metadata": {},
   "outputs": [
    {
     "name": "stdout",
     "output_type": "stream",
     "text": [
      "<class 'pandas.core.frame.DataFrame'>\n",
      "[0.65 0.71 0.8  0.91 0.74 0.65 0.78 0.78 0.75 0.49 0.8  0.92 0.65 0.79\n",
      " 0.96 0.74 0.9  0.78 0.52 0.51 0.54 0.64 0.53 0.68 0.84 0.52 0.52 0.71\n",
      " 0.94 0.92 0.77 0.61 0.67 0.79 0.82 0.39 0.6  0.64 0.7  0.64 0.76 0.93\n",
      " 0.5  0.71 0.64 0.34 0.97 0.79 0.71 0.76 0.64 0.63 0.95 0.71 0.79 0.56\n",
      " 0.56 0.64 0.72 0.9  0.71 0.91 0.7  0.87 0.71 0.89 0.78 0.93 0.58 0.79\n",
      " 0.82 0.93 0.77 0.56 0.72 0.91 0.69 0.7  0.84 0.69 0.93 0.74 0.64 0.76\n",
      " 0.97 0.89 0.64 0.54 0.78 0.8  0.85 0.9  0.64 0.79 0.94 0.97 0.92 0.86\n",
      " 0.77 0.44 0.81 0.96 0.78 0.44 0.38 0.93 0.46 0.72 0.87 0.64 0.82 0.89\n",
      " 0.59 0.66 0.63 0.58 0.75 0.42 0.64 0.91 0.89 0.61 0.63 0.92 0.7  0.84\n",
      " 0.9  0.62 0.67 0.7  0.49 0.56 0.57 0.49 0.88 0.88 0.64 0.47 0.78 0.61\n",
      " 0.82 0.73 0.72 0.61 0.68 0.71 0.76 0.43 0.86 0.62 0.67 0.54 0.74 0.62\n",
      " 0.79 0.54 0.65 0.72 0.93 0.71 0.74 0.91 0.58 0.87 0.74 0.81 0.89 0.71\n",
      " 0.7  0.85 0.79 0.46 0.67 0.74 0.66 0.58 0.57 0.62 0.69 0.57 0.48 0.81\n",
      " 0.86 0.68 0.89 0.77 0.61 0.79 0.52 0.57 0.82 0.87 0.62 0.79 0.76 0.7\n",
      " 0.77 0.63 0.79 0.74 0.53 0.94 0.73 0.8  0.71 0.79 0.52 0.62 0.53 0.89\n",
      " 0.75 0.72 0.69 0.56 0.73 0.46 0.75 0.81 0.46 0.91 0.84 0.81 0.76 0.8\n",
      " 0.96 0.87 0.93 0.55 0.76 0.72 0.69 0.8  0.93 0.59 0.82 0.66 0.45 0.42\n",
      " 0.91 0.48 0.85 0.66 0.93 0.78 0.73 0.79 0.73 0.71 0.84 0.75 0.61 0.95\n",
      " 0.79 0.76 0.68 0.8  0.86 0.54 0.58 0.96 0.67 0.94 0.71 0.65 0.77 0.5\n",
      " 0.45 0.72 0.84 0.89 0.83 0.76 0.64 0.85 0.84 0.96 0.74 0.64 0.44 0.69\n",
      " 0.57 0.67 0.94 0.68 0.6  0.76 0.65 0.89 0.62 0.63 0.73 0.96 0.66 0.86\n",
      " 0.47 0.73 0.91 0.47 0.68 0.62 0.72 0.59 0.68 0.69 0.58 0.37 0.73 0.66\n",
      " 0.67 0.92 0.7  0.87 0.73 0.97 0.77 0.64 0.86 0.8  0.72 0.73 0.8  0.81\n",
      " 0.38 0.58 0.8  0.96 0.54 0.62 0.82 0.51 0.78 0.63 0.73 0.52 0.73 0.8\n",
      " 0.64 0.94 0.65 0.92 0.85 0.95 0.86 0.64 0.94 0.61 0.72 0.92 0.68 0.73\n",
      " 0.84 0.71 0.72 0.65 0.89 0.42 0.72 0.68 0.52 0.71 0.48 0.47 0.53 0.7\n",
      " 0.78 0.61 0.74 0.71 0.93 0.61 0.53 0.71 0.8  0.9  0.96 0.74 0.94 0.69\n",
      " 0.82 0.46 0.91 0.65 0.71 0.42 0.79 0.91 0.87 0.73 0.78 0.81 0.57 0.69\n",
      " 0.87 0.56 0.88 0.81 0.73 0.56 0.68 0.81 0.85 0.76 0.62 0.57 0.83 0.93\n",
      " 0.68 0.78 0.88 0.93 0.64 0.73 0.57 0.45 0.59 0.76 0.9  0.49 0.47 0.77\n",
      " 0.95 0.73 0.55 0.76 0.78 0.77 0.68 0.49 0.9  0.62 0.75 0.7  0.72 0.7\n",
      " 0.67 0.71 0.94 0.72 0.86 0.73 0.34 0.78 0.66 0.54 0.86 0.65 0.71 0.61\n",
      " 0.92 0.67]\n"
     ]
    }
   ],
   "source": [
    "split = 0.2\n",
    "df=pd.read_csv('Datasets/data.csv')\n",
    "target_mean=df['Chance of Admit '].mean()\n",
    "target_min=df['Chance of Admit '].min()\n",
    "target_max=df['Chance of Admit '].max()\n",
    "#df=(df-df.mean())/(df.max()-df.min())\n",
    "## denormalize predicted value ----> (normalized)*(max(x)-min(x))+mean(x)\n",
    "Xdf=df[df.columns[[1,2,3,4,5,6,7]]]\n",
    "print(type(Xdf))\n",
    "ydf=df[df.columns[8]]\n",
    "X=Xdf.values\n",
    "X=(X-X.mean())/(X.max()-X.min())\n",
    "y=ydf.values\n",
    "#print(df.mean())\n",
    "#print(df.max())\n",
    "#print(df['CGPA'].mean())\n",
    "#X=np.array([X])\n",
    "#y=np.array([y])\n",
    "print(y)"
   ]
  },
  {
   "cell_type": "code",
   "execution_count": 3,
   "metadata": {},
   "outputs": [],
   "source": [
    "#train_df,validation_df = divide(df,validation_data_size=0.2)\n",
    "X_train,X_valid,y_train,y_valid=train_test_split(X,y,test_size=0.2,random_state=5)"
   ]
  },
  {
   "cell_type": "code",
   "execution_count": 4,
   "metadata": {},
   "outputs": [
    {
     "data": {
      "text/plain": [
       "0.65"
      ]
     },
     "execution_count": 4,
     "metadata": {},
     "output_type": "execute_result"
    }
   ],
   "source": [
    "y_valid[0]"
   ]
  },
  {
   "cell_type": "code",
   "execution_count": 5,
   "metadata": {},
   "outputs": [
    {
     "data": {
      "text/plain": [
       "(360, 7)"
      ]
     },
     "execution_count": 5,
     "metadata": {},
     "output_type": "execute_result"
    }
   ],
   "source": [
    "X_train.shape"
   ]
  },
  {
   "cell_type": "code",
   "execution_count": 6,
   "metadata": {},
   "outputs": [
    {
     "data": {
      "text/plain": [
       "7"
      ]
     },
     "execution_count": 6,
     "metadata": {},
     "output_type": "execute_result"
    }
   ],
   "source": [
    "X_train=X_train.T\n",
    "X_train.shape[0]"
   ]
  },
  {
   "cell_type": "code",
   "execution_count": 7,
   "metadata": {},
   "outputs": [
    {
     "data": {
      "text/plain": [
       "(360,)"
      ]
     },
     "execution_count": 7,
     "metadata": {},
     "output_type": "execute_result"
    }
   ],
   "source": [
    "y_train.shape"
   ]
  },
  {
   "cell_type": "code",
   "execution_count": 8,
   "metadata": {},
   "outputs": [
    {
     "data": {
      "text/plain": [
       "(1, 360)"
      ]
     },
     "execution_count": 8,
     "metadata": {},
     "output_type": "execute_result"
    }
   ],
   "source": [
    "y_train=np.array([y_train])\n",
    "y_train.shape"
   ]
  },
  {
   "cell_type": "code",
   "execution_count": 9,
   "metadata": {},
   "outputs": [
    {
     "data": {
      "text/plain": [
       "(7, 90)"
      ]
     },
     "execution_count": 9,
     "metadata": {},
     "output_type": "execute_result"
    }
   ],
   "source": [
    "X_valid=X_valid.T\n",
    "X_valid.shape"
   ]
  },
  {
   "cell_type": "code",
   "execution_count": 10,
   "metadata": {},
   "outputs": [
    {
     "data": {
      "text/plain": [
       "(1, 90)"
      ]
     },
     "execution_count": 10,
     "metadata": {},
     "output_type": "execute_result"
    }
   ],
   "source": [
    "y_valid=np.array([y_valid])\n",
    "y_valid.shape"
   ]
  },
  {
   "cell_type": "code",
   "execution_count": 11,
   "metadata": {},
   "outputs": [],
   "source": [
    "def init_parameters(lenw):\n",
    "    w=np.random.randn(1,lenw)\n",
    "    #w=np.zeros(1,lenw)\n",
    "    #print(\"shape of theta vector:\",w.shape)\n",
    "    b=0\n",
    "    return w,b\n",
    "    "
   ]
  },
  {
   "cell_type": "code",
   "execution_count": 12,
   "metadata": {},
   "outputs": [],
   "source": [
    "def get_prediction(X,w,b):\n",
    "    z=np.dot(w,X)+b # z-->1xm\n",
    "    return(z)"
   ]
  },
  {
   "cell_type": "code",
   "execution_count": 13,
   "metadata": {},
   "outputs": [],
   "source": [
    "def cost_function(z,y):\n",
    "    m= y.shape[1]\n",
    "    #print('m type:',type(m))\n",
    "    #print('m type:',type(z))\n",
    "    #print('m type:',type(y))\n",
    "    \n",
    "    #mean square error\n",
    "    J = (1/(2*m))*np.sum(np.square(z-y))\n",
    "    #mean absolute error\n",
    "    #J = (1/(2*m))*np.sum(np.absolute(z-y))\n",
    "    #mean absolute percentage error\n",
    "    #J = (100/(2*m))*np.sum(np.absolute((z-y)/z))\n",
    "    return J"
   ]
  },
  {
   "cell_type": "code",
   "execution_count": 14,
   "metadata": {},
   "outputs": [],
   "source": [
    "def get_partial_derivative_terms(X,y,z):\n",
    "    m=y.shape[1]\n",
    "    dz=(1/m)*(z-y)\n",
    "    dw=np.dot(dz,X.T)\n",
    "    db=np.sum(dz)\n",
    "    return dw,db"
   ]
  },
  {
   "cell_type": "code",
   "execution_count": 15,
   "metadata": {},
   "outputs": [],
   "source": [
    "def gradient_descent_update(w,b,dw,db,alpha):\n",
    "    w=w-alpha*dw\n",
    "    b=b-alpha*db\n",
    "    return w,b"
   ]
  },
  {
   "cell_type": "code",
   "execution_count": 18,
   "metadata": {},
   "outputs": [],
   "source": [
    "def linear_regression(X_train,y_train,alpha,iterations):\n",
    "    lenw=X_train.shape[0]\n",
    "    w,b=init_parameters(lenw)\n",
    "    m_train=y_train.shape[1]\n",
    "    m_valid=y_valid.shape[1]\n",
    "    costs_train=[]\n",
    "    for i in range(iterations+1):\n",
    "        z_train=get_prediction(X_train,w,b)\n",
    "        cost_train=cost_function(z_train,y_train)\n",
    "        dw,db=get_partial_derivative_terms(X_train,y_train,z_train)\n",
    "        w,b=gradient_descent_update(w,b,dw,db,alpha)\n",
    "#         print(w.shape)\n",
    "        \n",
    "        theta_vector=np.copy(w)\n",
    "        c_value=b\n",
    "        #store training_cost in list\n",
    "        if i%10==0:\n",
    "            costs_train.append(cost_train)\n",
    "        # Mean Absolute Error\n",
    "        mae_train=(1/m_train)*np.sum(np.abs(z_train-y_train))\n",
    "        \n",
    "        #cost_val ,mae_val on validation data\n",
    "        #z_valid=get_prediction(X_valid,w,b)\n",
    "        #cost_valid=cost_function(z_valid,y_valid)\n",
    "        #mae_valid=(1/m_valid)*np.sum(np.abs(z_valid-y_valid))\n",
    "#         print('Iteration:',i)\n",
    "#         print('Training cost:',cost_train)\n",
    "#         #print('validation cost:',cost_valid)\n",
    "#         print('Training MAE:',mae_train)\n",
    "        #print('Validation MAE:',mae_valid)\n",
    "#         print('------------------------------')\n",
    "    mlt.plot(costs_train)\n",
    "    mlt.xlabel('Iterations (In 10s)')\n",
    "    mlt.ylabel('Training cost')\n",
    "    mlt.title('Learning rate'+str(alpha))\n",
    "    mlt.show()\n",
    "    return w,b\n",
    "    "
   ]
  },
  {
   "cell_type": "code",
   "execution_count": 19,
   "metadata": {},
   "outputs": [
    {
     "data": {
      "image/png": "[encoded data removed]",
      "text/plain": [
       "<Figure size 432x288 with 1 Axes>"
      ]
     },
     "metadata": {
      "needs_background": "light"
     },
     "output_type": "display_data"
    }
   ],
   "source": [
    "theta_vector,c_value=linear_regression(X_train,y_train,0.04,1000)"
   ]
  },
  {
   "cell_type": "code",
   "execution_count": 20,
   "metadata": {},
   "outputs": [
    {
     "name": "stdout",
     "output_type": "stream",
     "text": [
      "[[ 0.87862273 -0.24696851  0.8411784  -1.86915301 -1.47658577 -0.53448055\n",
      "   1.45924867]]\n",
      "-0.15340828490014444\n"
     ]
    }
   ],
   "source": [
    "print(theta_vector)\n",
    "print(c_value)"
   ]
  },
  {
   "cell_type": "code",
   "execution_count": 21,
   "metadata": {},
   "outputs": [
    {
     "name": "stdout",
     "output_type": "stream",
     "text": [
      "0.008950123826973284\n"
     ]
    }
   ],
   "source": [
    "z_valid=get_prediction(X_valid,theta_vector,c_value)\n",
    "cost_valid=cost_function(z_valid,y_valid)\n",
    "print(cost_valid)\n",
    "#print(cost_valid)\n",
    "#print(df['Chance of Admit '].max())\n",
    "#print(df['Chance of Admit '].min())\n",
    "#print(df['Chance of Admit '].mean())\n",
    "# print(type(y_valid))\n",
    "# for i in range(len(z_valid[0])):\n",
    "#     print ('predicted',z_valid[0][i])\n",
    "#     print('actual',y_valid[0][i])\n",
    "#     print('-----------')\n",
    "\n",
    "    \n"
   ]
  },
  {
   "cell_type": "code",
   "execution_count": 40,
   "metadata": {},
   "outputs": [],
   "source": [
    "from sklearn import linear_model as lm"
   ]
  },
  {
   "cell_type": "code",
   "execution_count": 41,
   "metadata": {},
   "outputs": [
    {
     "name": "stdout",
     "output_type": "stream",
     "text": [
      "0.00548871503317814\n"
     ]
    }
   ],
   "source": [
    "lg=lm.LinearRegression()\n",
    "model=lg.fit(X_train.T,y_train.T)\n",
    "predictions=lg.predict(X_valid.T)\n",
    "mean_square_val_with_model=(1/y_valid.shape[1])*np.sum(np.square((predictions-y_valid.T)))\n",
    "print(mean_square_val_with_model)"
   ]
  },
  {
   "cell_type": "code",
   "execution_count": 42,
   "metadata": {},
   "outputs": [
    {
     "data": {
      "text/plain": [
       "array([[0.5931342 ],\n",
       "       [0.76636613],\n",
       "       [0.75665347],\n",
       "       [0.70854711],\n",
       "       [0.73320831],\n",
       "       [0.90966871],\n",
       "       [0.77147114],\n",
       "       [0.90452729],\n",
       "       [0.73967237],\n",
       "       [0.91421821],\n",
       "       [0.93367453],\n",
       "       [0.66122233],\n",
       "       [0.7461218 ],\n",
       "       [0.88887573],\n",
       "       [0.58593687],\n",
       "       [0.81037925],\n",
       "       [0.84776668],\n",
       "       [0.63594128],\n",
       "       [0.71126538],\n",
       "       [0.77620355],\n",
       "       [0.72199393],\n",
       "       [0.77119092],\n",
       "       [0.82474404],\n",
       "       [0.72522489],\n",
       "       [0.88906734],\n",
       "       [0.7620835 ],\n",
       "       [0.59648613],\n",
       "       [0.66019965],\n",
       "       [0.64683865],\n",
       "       [0.85791414],\n",
       "       [0.6542264 ],\n",
       "       [0.74331025],\n",
       "       [0.87992631],\n",
       "       [0.83260426],\n",
       "       [0.72121272],\n",
       "       [0.56279255],\n",
       "       [0.56039601],\n",
       "       [0.62992508],\n",
       "       [0.62700499],\n",
       "       [0.55009454],\n",
       "       [0.51831622],\n",
       "       [0.84974057],\n",
       "       [0.51637143],\n",
       "       [0.9618974 ],\n",
       "       [0.78392172],\n",
       "       [0.58615627],\n",
       "       [0.85434775],\n",
       "       [0.69424114],\n",
       "       [0.74168731],\n",
       "       [0.71261687],\n",
       "       [0.72809005],\n",
       "       [0.61887011],\n",
       "       [0.5180347 ],\n",
       "       [0.7605904 ],\n",
       "       [0.65243734],\n",
       "       [0.60265068],\n",
       "       [0.62929672],\n",
       "       [0.93052393],\n",
       "       [0.51099688],\n",
       "       [0.6614709 ],\n",
       "       [0.63663272],\n",
       "       [0.80958628],\n",
       "       [0.66788844],\n",
       "       [0.58937096],\n",
       "       [0.51876417],\n",
       "       [0.77213345],\n",
       "       [0.51882755],\n",
       "       [0.42692151],\n",
       "       [0.68390452],\n",
       "       [0.53266249],\n",
       "       [0.7983721 ],\n",
       "       [0.64291363],\n",
       "       [0.71820382],\n",
       "       [0.85443156],\n",
       "       [0.64056054],\n",
       "       [0.75709132],\n",
       "       [0.81005351],\n",
       "       [0.80363937],\n",
       "       [0.72290539],\n",
       "       [0.7766586 ],\n",
       "       [0.8601141 ],\n",
       "       [0.83397535],\n",
       "       [0.70234265],\n",
       "       [0.64114255],\n",
       "       [0.70154814],\n",
       "       [0.47927564],\n",
       "       [0.57206821],\n",
       "       [0.79103052],\n",
       "       [0.8640486 ],\n",
       "       [0.60878113]])"
      ]
     },
     "execution_count": 42,
     "metadata": {},
     "output_type": "execute_result"
    }
   ],
   "source": [
    "predictions"
   ]
  },
  {
   "cell_type": "code",
   "execution_count": 43,
   "metadata": {},
   "outputs": [],
   "source": [
    "mean_square_val_with_sklearn=(1/y_valid.shape[1])*np.sum(np.square((predictions-y_valid.T)))\n",
    "\n"
   ]
  },
  {
   "cell_type": "code",
   "execution_count": 44,
   "metadata": {},
   "outputs": [
    {
     "name": "stdout",
     "output_type": "stream",
     "text": [
      "0.00548871503317814\n"
     ]
    }
   ],
   "source": [
    "print(mean_square_val_with_sklearn)"
   ]
  },
  {
   "cell_type": "code",
   "execution_count": null,
   "metadata": {},
   "outputs": [],
   "source": []
  }
 ],
 "metadata": {
  "kernelspec": {
   "display_name": "Python 3",
   "language": "python",
   "name": "python3"
  },
  "language_info": {
   "codemirror_mode": {
    "name": "ipython",
    "version": 3
   },
   "file_extension": ".py",
   "mimetype": "text/x-python",
   "name": "python",
   "nbconvert_exporter": "python",
   "pygments_lexer": "ipython3",
   "version": "3.6.5"
  }
 },
 "nbformat": 4,
 "nbformat_minor": 2
}
