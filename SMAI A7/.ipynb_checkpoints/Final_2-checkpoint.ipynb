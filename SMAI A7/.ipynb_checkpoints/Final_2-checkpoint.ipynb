{
 "cells": [
  {
   "cell_type": "code",
   "execution_count": 67,
   "metadata": {},
   "outputs": [],
   "source": [
    "import numpy as np\n",
    "import pandas as pd\n",
    "import random\n",
    "import math\n",
    "import matplotlib.pyplot as plt\n",
    "%matplotlib inline\n",
    "from collections import OrderedDict\n",
    "import sklearn\n",
    "from sklearn.neighbors import KNeighborsClassifier\n"
   ]
  },
  {
   "cell_type": "markdown",
   "metadata": {},
   "source": [
    "<h2>Part 1.1.1 ( Robot 1 )</h2>"
   ]
  },
  {
   "cell_type": "markdown",
   "metadata": {},
   "source": [
    "<b>A commom function for KNN , input is k and P is for the distance measures, giving different values of P will take differnt distance  measures as asked.\n",
    "P = 1,2,3,4 ... {MINKOWISKI DISTANCE}\n",
    "For Robot1 and Robot2 and IRIS datasets , just initialize the \"train\",\"train_updated\",\"validate\",\"validate_updated\" k and p to the function.\n",
    "\n",
    "*_updated = remove the 'target' column from the input train and validate set...\n"
   ]
  },
  {
   "cell_type": "code",
   "execution_count": 68,
   "metadata": {},
   "outputs": [],
   "source": [
    "def KNN(k, p):\n",
    "    predictions = []\n",
    "\n",
    "    for i in validate_df_updated.values:\n",
    "        dist = []\n",
    "        itr = 0\n",
    "        for j in train_df_updated.values:\n",
    "            euc_distance_list = (abs(i - j)) ** p\n",
    "            actual_distance = 0\n",
    "            for z in range(0, len(euc_distance_list)):\n",
    "                actual_distance += euc_distance_list[z]\n",
    "            actual_distance = actual_distance ** (1/p)\n",
    "            dist.append([actual_distance, itr])\n",
    "            itr += 1\n",
    "        dist.sort()\n",
    "        counts_store = []\n",
    "        for j in range(k):\n",
    "            counts_store.append(train.values[dist[j][1]][-1])\n",
    "        labels, label_counts = np.unique(counts_store, return_counts=True)\n",
    "        predictions.append(labels[np.argmax(label_counts)])\n",
    "\n",
    "    pred_label, pred_label_counts = np.unique(predictions, return_counts=True)\n",
    "    tp_counts = [0] * len(pred_label)\n",
    "    test_label, test_label_counts = np.unique(validate['label'], return_counts=True)\n",
    "    for i in range(len(predictions)):\n",
    "        if predictions[i] == validate.values[i][-1]:\n",
    "            tp_counts[pred_label.tolist().index(predictions[i])] += 1    \n",
    "    \n",
    "    prediction_list = OrderedDict()\n",
    "    \n",
    "    accuracy = sum(tp_counts) / len(predictions)\n",
    "    temp = 0\n",
    "    for i in range(len(pred_label)):\n",
    "        temp += tp_counts[i] / pred_label_counts[i]\n",
    "    precision = temp / len(pred_label)\n",
    "    temp = 0\n",
    "    for i in range(len(pred_label)):\n",
    "        temp += tp_counts[i] / test_label_counts[i]\n",
    "    recall = temp / len(test_label)\n",
    "    f1 = 2 / ((1 / recall) + (1 / precision))\n",
    "    prediction_list['accuracy'] = accuracy\n",
    "    prediction_list['precision'] = precision\n",
    "    prediction_list['recall'] = recall\n",
    "    prediction_list['f1_score'] = f1\n",
    "    \n",
    "    return prediction_list\n"
   ]
  },
  {
   "cell_type": "markdown",
   "metadata": {},
   "source": [
    "<b>ROBOT1 dataset.  Calculate the Accuracy, Precision , Recall , F1 Score\n",
    "    \n",
    "    Change the variable FILE = \"...\" to give the datapath corresponding to the dataset"
   ]
  },
  {
   "cell_type": "code",
   "execution_count": 69,
   "metadata": {},
   "outputs": [],
   "source": [
    "def sk_knn():\n",
    "    \n",
    "    x_train = train_df_updated.values\n",
    "    y_train = train['label'].values\n",
    "    #print(x_train, y_train)\n",
    "    neigh = KNeighborsClassifier(n_neighbors=4)\n",
    "    neigh.fit(x_train, y_train)\n",
    "    x_test = validate_df_updated.values\n",
    "    y_test_actual = validate['label'].values\n",
    "    #print(x_test)\n",
    "    neigh.fit(x_train, y_train)\n",
    "    y_test_pred = neigh.predict(x_test)\n",
    "    tp, tn, fp, fn = 0,0,0,0\n",
    "    for i in range(len(y_test_actual)):\n",
    "        if y_test_actual[i] == y_test_pred[i] and y_test_pred[i] == 1:\n",
    "            tp += 1\n",
    "        if y_test_actual[i] == y_test_pred[i] and y_test_pred[i] == 0:\n",
    "            tn += 1\n",
    "        if not y_test_actual[i] == y_test_pred[i] and y_test_pred[i] == 1:\n",
    "            fp += 1\n",
    "        if not y_test_actual[i] == y_test_pred[i] and y_test_pred[i] == 1:\n",
    "            fn += 1\n",
    "       \n",
    "        \n",
    "    try:\n",
    "        print(\"accuracy = \", (tp + tn) / (tp + tn + fp + fn))\n",
    "        precision = tp / (tp + fp)\n",
    "\n",
    "        print(\"precision = \", tp / (tp + fp))\n",
    "        recall =  tp / (tp + fn)\n",
    "        print(\"recall = \", tp / (tp + fn))\n",
    "        print(\"f1 = \", 2 / ((1 / precision) + (1 / recall)))\n",
    "    except:\n",
    "        pass"
   ]
  },
  {
   "cell_type": "code",
   "execution_count": 70,
   "metadata": {},
   "outputs": [
    {
     "name": "stdout",
     "output_type": "stream",
     "text": [
      "For K=4 ---------------------------------------------- :\n",
      "\n",
      "accuracy:: 0.76\n",
      "\n",
      "precision:: 0.7573529411764706\n",
      "\n",
      "recall:: 0.7333333333333334\n",
      "\n",
      "f1_score:: 0.7451496218349227\n",
      "\n"
     ]
    }
   ],
   "source": [
    "alist = ['1','2','3','4','5','6','7','8']\n",
    "file = 'Datasets/Robot1'\n",
    "df = pd.read_csv(file,header=None,names=alist,delim_whitespace=True)\n",
    "df['label'] = df['1']\n",
    "df = df.drop(['1'], axis=1)\n",
    "df = df.drop(['8'], axis=1)\n",
    "\n",
    "train = df.sample(frac=0.8,random_state=200)\n",
    "validate = df.drop(train.index)\n",
    "train_df_updated = train.drop(['label'], axis=1)\n",
    "validate_df_updated = validate.drop(['label'], axis=1)\n",
    "print(\"For K=4 ---------------------------------------------- :\")\n",
    "print(\"\")\n",
    "prediction_list = KNN(4,2)\n",
    "for i, (key, value) in enumerate(prediction_list.items()):\n",
    "    print(key + \"::\", value)\n",
    "    print(\"\")"
   ]
  },
  {
   "cell_type": "code",
   "execution_count": 71,
   "metadata": {},
   "outputs": [
    {
     "name": "stdout",
     "output_type": "stream",
     "text": [
      "FOR K=4:\n",
      "\n",
      "accuracy =  0.8260869565217391\n",
      "precision =  0.75\n",
      "recall =  0.75\n",
      "f1 =  0.75\n"
     ]
    }
   ],
   "source": [
    "## COMPARE WITH SK_LEARN\n",
    "print(\"FOR K=4:\")\n",
    "print()\n",
    "sk_knn()"
   ]
  },
  {
   "cell_type": "markdown",
   "metadata": {},
   "source": [
    "<b>Graph Plot , p =1, p=2, p=3 and p=4 denotes the MINKOWISKI Coeff. for different distance measures...."
   ]
  },
  {
   "cell_type": "markdown",
   "metadata": {},
   "source": [
    "<h2>Part 1.1.2 ( Robot 1 )</h2>"
   ]
  },
  {
   "cell_type": "code",
   "execution_count": 72,
   "metadata": {},
   "outputs": [
    {
     "data": {
      "image/png": "[encoded data removed]",
      "text/plain": [
       "<Figure size 432x288 with 1 Axes>"
      ]
     },
     "metadata": {
      "needs_background": "light"
     },
     "output_type": "display_data"
    }
   ],
   "source": [
    "total_values = []\n",
    "total_prediction = []\n",
    "for j in range(1, 5):\n",
    "    x = []\n",
    "    preds = []\n",
    "    for i in range (1, 15):\n",
    "        a = KNN(i, j)\n",
    "        x.append(i)\n",
    "        preds.append(a['accuracy'])\n",
    "    \n",
    "    total_values.append(x)\n",
    "    total_prediction.append(preds)\n",
    "\n",
    "for i in range(4):\n",
    "    plt.plot(total_values[i], total_prediction[i], label= \"p = \" + str(i + 1))\n",
    "\n",
    "plt.xlabel('Value of K')\n",
    "plt.ylabel('ACCURACY')\n",
    "plt.legend()\n",
    "plt.show()\n",
    "    "
   ]
  },
  {
   "cell_type": "markdown",
   "metadata": {},
   "source": [
    "<b>ROBOT2 dataset.  Calculate the Accuracy, Precision , Recall , F1 Score\n",
    "    \n",
    "    Change the variable FILE = \"...\" to give the datapath corresponding to the dataset"
   ]
  },
  {
   "cell_type": "markdown",
   "metadata": {},
   "source": [
    "<h2>Part 1.1.1 ( Robot 2 )</h2>"
   ]
  },
  {
   "cell_type": "code",
   "execution_count": 73,
   "metadata": {},
   "outputs": [
    {
     "name": "stdout",
     "output_type": "stream",
     "text": [
      "For K=4 ---------------------------------------------- :\n",
      "\n",
      "accuracy:: 0.875\n",
      "\n",
      "precision:: 0.90625\n",
      "\n",
      "recall:: 0.8636363636363636\n",
      "\n",
      "f1_score:: 0.884430176565008\n",
      "\n"
     ]
    }
   ],
   "source": [
    "alist = ['1','2','3','4','5','6','7','8']\n",
    "file = 'Datasets/Robot2'\n",
    "df = pd.read_csv(file,header=None,names=alist,delim_whitespace=True)\n",
    "df['label'] = df['1']\n",
    "df = df.drop(['1'], axis=1)\n",
    "df = df.drop(['8'], axis=1)\n",
    "\n",
    "train = df.sample(frac=0.8,random_state=200)\n",
    "validate = df.drop(train.index)\n",
    "train_df_updated = train.drop(['label'], axis=1)\n",
    "validate_df_updated = validate.drop(['label'], axis=1)\n",
    "\n",
    "print(\"For K=4 ---------------------------------------------- :\")\n",
    "print(\"\")\n",
    "prediction_list = KNN(4,2)\n",
    "for i, (key, value) in enumerate(prediction_list.items()):\n",
    "    print(key + \"::\", value)\n",
    "    print(\"\")"
   ]
  },
  {
   "cell_type": "code",
   "execution_count": 74,
   "metadata": {},
   "outputs": [
    {
     "name": "stdout",
     "output_type": "stream",
     "text": [
      "FOR K=4:\n",
      "\n",
      "accuracy =  1.0\n",
      "precision =  1.0\n",
      "recall =  1.0\n",
      "f1 =  1.0\n"
     ]
    }
   ],
   "source": [
    "## COMPARE WITH SK_LEARN\n",
    "print(\"FOR K=4:\")\n",
    "print()\n",
    "sk_knn()"
   ]
  },
  {
   "cell_type": "markdown",
   "metadata": {},
   "source": [
    "<b>Graph Plot , p =1, p=2, p=3 and p=4 denotes the MINKOWISKI Coeff. for different distance measures...."
   ]
  },
  {
   "cell_type": "markdown",
   "metadata": {},
   "source": [
    "<h2>Part 1.1.2 ( Robot 2 )</h2>"
   ]
  },
  {
   "cell_type": "code",
   "execution_count": 75,
   "metadata": {},
   "outputs": [
    {
     "data": {
      "image/png": "[encoded data removed]",
      "text/plain": [
       "<Figure size 432x288 with 1 Axes>"
      ]
     },
     "metadata": {
      "needs_background": "light"
     },
     "output_type": "display_data"
    }
   ],
   "source": [
    "total_values = []\n",
    "total_prediction = []\n",
    "for j in range(1, 5):\n",
    "    x = []\n",
    "    preds = []\n",
    "    for i in range (1, 15):\n",
    "        a = KNN(i, j)\n",
    "        x.append(i)\n",
    "        preds.append(a['accuracy'])\n",
    "    \n",
    "    total_values.append(x)\n",
    "    total_prediction.append(preds)\n",
    "\n",
    "for i in range(4):\n",
    "    plt.plot(total_values[i], total_prediction[i], label= \"p = \" + str(i + 1))\n",
    "\n",
    "plt.xlabel('Value of K')\n",
    "plt.ylabel('ACCURACY')\n",
    "plt.legend()\n",
    "plt.show()\n",
    "    "
   ]
  },
  {
   "cell_type": "markdown",
   "metadata": {},
   "source": [
    "<b>Iris Dataset , Calculate the Accuracy, Precision , Recall , F1 Score\n",
    "    \n",
    "    Change the variable FILE = \"...\" to give the datapath corresponding to the dataset"
   ]
  },
  {
   "cell_type": "markdown",
   "metadata": {},
   "source": [
    "<h2>Part 1.2.1</h2> \n"
   ]
  },
  {
   "cell_type": "code",
   "execution_count": 76,
   "metadata": {},
   "outputs": [
    {
     "name": "stdout",
     "output_type": "stream",
     "text": [
      "For K=4 ---------------------------------------------- :\n",
      "\n",
      "accuracy:: 0.8888888888888888\n",
      "\n",
      "precision:: 0.923076923076923\n",
      "\n",
      "recall:: 0.875\n",
      "\n",
      "f1_score:: 0.8983957219251336\n",
      "\n"
     ]
    }
   ],
   "source": [
    "alist = ['sepal_length','sepal_width','petal_length','petal_width','label']\n",
    "file = 'Datasets/Iris.csv'\n",
    "df = pd.read_csv(file,names=alist)\n",
    "train = df.sample(frac=0.8,random_state=200)\n",
    "validate = df.drop(train.index)\n",
    "train_df_updated = train.drop(['label'], axis=1)\n",
    "validate_df_updated = validate.drop(['label'], axis=1)\n",
    "\n",
    "print(\"For K=4 ---------------------------------------------- :\")\n",
    "print(\"\")\n",
    "prediction_list = KNN(4,2)\n",
    "for i, (key, value) in enumerate(prediction_list.items()):\n",
    "    print(key + \"::\", value)\n",
    "    print(\"\")"
   ]
  },
  {
   "cell_type": "markdown",
   "metadata": {},
   "source": [
    "<b>Graph Plot , p =1, p=2, p=3 and p=4 denotes the MINKOWISKI Coeff. for different distance measures...."
   ]
  },
  {
   "cell_type": "markdown",
   "metadata": {},
   "source": [
    "<h2>Part 1.2.2</h2>"
   ]
  },
  {
   "cell_type": "code",
   "execution_count": 152,
   "metadata": {},
   "outputs": [
    {
     "data": {
      "image/png": "[encoded data removed]",
      "text/plain": [
       "<Figure size 432x288 with 1 Axes>"
      ]
     },
     "metadata": {
      "needs_background": "light"
     },
     "output_type": "display_data"
    }
   ],
   "source": [
    "total_values = []\n",
    "total_prediction = []\n",
    "for j in range(1, 5):\n",
    "    x = []\n",
    "    preds = []\n",
    "    for i in range (1, 10,2):\n",
    "        a = KNN(i, j)\n",
    "        x.append(i)\n",
    "        preds.append(a['accuracy'])\n",
    "    \n",
    "    total_values.append(x)\n",
    "    total_prediction.append(preds)\n",
    "\n",
    "for i in range(4):\n",
    "    plt.plot(total_values[i], total_prediction[i], label= \"p = \" + str(i + 1))\n",
    "\n",
    "plt.xlabel('Value of K')\n",
    "plt.ylabel('ACCURACY')\n",
    "plt.legend()\n",
    "plt.show()"
   ]
  },
  {
   "cell_type": "markdown",
   "metadata": {},
   "source": [
    "<h5>WHY VALUE OF K matters ?<br><br></h5>\n",
    "<b>\n",
    "    Choice of k is very critical – A small value of k means that noise will have a higher influence on the result. A large value make it computationally expensive and kind of defeats the basic philosophy behind KNN (that points that are near might have similar densities or classes ) .A simple approach to select k is set k = n^(1/2)\n",
    "    \n",
    "    Probable reasons for why the data gives better performance under KNN like (ROBOT2 or IRIS) v/s why the data like ROBOT1 gives not so good performance :: <br><br>\n",
    "    1. The boundaries between classes are very clear or the boundries are not distinct. \n",
    "    \n",
    "    This can be sorted if we take scatter plot of any of data.\n",
    "    \n",
    "    2. Data tests have high similarity with the training data. This may also be a case theoretically.\n",
    "    \n",
    "    In our experiment, the first reason may be a compelling argument\n"
   ]
  },
  {
   "cell_type": "markdown",
   "metadata": {},
   "source": [
    "<h5> <br>\n",
    "    NAIVE BAYES : \n",
    "    \n",
    "    Calculate differnet probablities accordingly if the Data in the dataset is categorical or numerical.\n",
    "    \n",
    "    "
   ]
  },
  {
   "cell_type": "markdown",
   "metadata": {},
   "source": [
    "<h2>Part 2</h2>"
   ]
  },
  {
   "cell_type": "code",
   "execution_count": 24,
   "metadata": {},
   "outputs": [
    {
     "name": "stdout",
     "output_type": "stream",
     "text": [
      "True Positive::  65\n",
      "\n",
      "False Positive::  71\n",
      "\n",
      "True Negative::  746\n",
      "\n",
      "False Negative::  18\n",
      "\n",
      "Accuracy::  0.9011111111111111\n",
      "\n",
      "Precision::  0.47794117647058826\n",
      "\n",
      "Recall::  0.7831325301204819\n",
      "\n",
      "F1_Score::  0.593607305936073\n",
      "\n"
     ]
    }
   ],
   "source": [
    "fname = 'Datasets/data_part2.csv'\n",
    "alist = ['ID','Age','Experience','Annual_Income','Zipcode','Family_size',\n",
    "         'Monthly_spend','Education','Mortgage','target','Security','CD_account','Net_Banking','Ccard']\n",
    "df = pd.read_csv(fname,names = alist)\n",
    "df = df.iloc[1:]\n",
    "ndata = ['Age','Experience','Annual_Income','Family_size','Monthly_spend','Mortgage']\n",
    "cdata = list(set(alist)-set(ndata))\n",
    "cdata.remove('target')\n",
    "cdata.remove('ID')\n",
    "cdata.remove('Zipcode')\n",
    "\n",
    "# df = df[df.Experience != -1]\n",
    "# a=df.loc[df['Experience']==-1].index\n",
    "\n",
    "# print(a)\n",
    "cdata\n",
    "\n",
    "train = df.sample(frac=0.8,random_state=200)\n",
    "validate = df.drop(train.index)\n",
    "\n",
    "# computation for numeric data\n",
    "mean = {}\n",
    "deviation = {}\n",
    "label = ['Yes' , 'No']\n",
    "for i in ndata:\n",
    "    mean[i] = {}\n",
    "    deviation[i] = {}\n",
    "#     x = train[train['target']==1][i].sum()\n",
    "#     len = train[train['target']==1][i].count()\n",
    "    mean[i][label[0]] = train[train['target']==1][i].mean()\n",
    "    mean[i][label[1]] = train[train['target']==0][i].mean()\n",
    "    deviation[i][label[0]] = train[train['target']==1][i].std()\n",
    "    deviation[i][label[1]] = train[train['target']==0][i].std()\n",
    "\n",
    "# computation for categorical data\n",
    "category = {}\n",
    "for i in cdata:\n",
    "    category[i] = {}\n",
    "    uni = train[i].unique()\n",
    "    for val in uni:\n",
    "        category[i][val] = {}\n",
    "        x = train[train[i] == val]\n",
    "        category[i][val][label[0]] = x[x['target']==1][i].count() / train[train['target']==1][i].count()\n",
    "        category[i][val][label[1]] = x[x['target']==0][i].count() / train[train['target']==0][i].count()\n",
    "\n",
    "def normal(mean,std,w):\n",
    "    dem = (math.sqrt(2 * math.pi)*std)\n",
    "    num = math.exp(-1 * (pow(((w-mean)/std),2)) )\n",
    "    return (num/dem)\n",
    "    \n",
    "\n",
    "# Prediction\n",
    "\n",
    "y = train[train['target']==1]['Age'].count()\n",
    "n = train[train['target']==0]['Age'].count()\n",
    "p_yes = y/(y+n)\n",
    "p_no = n/(y+n)\n",
    "\n",
    "prediction = []\n",
    "\n",
    "for i,row in validate.iterrows():\n",
    "    yes , no = 1,1\n",
    "    for j in ndata:\n",
    "        yes *= normal(mean[j]['Yes'],deviation[j]['Yes'],row[j])\n",
    "        no *= normal(mean[j]['No'],deviation[j]['No'],row[j])\n",
    "    for j in cdata:\n",
    "        yes = yes * category[j][row[j]]['Yes']\n",
    "        no = no * category[j][row[j]]['No']\n",
    "    \n",
    "    yes *= p_yes\n",
    "    no *= p_no\n",
    "    if(yes >= no):\n",
    "        prediction.append(1)\n",
    "    else:\n",
    "        prediction.append(0)\n",
    "\n",
    "# accuracy\n",
    "\n",
    "actual = validate['target'].tolist()\n",
    "\n",
    "def final_prediction_list():\n",
    "    prediction_list= OrderedDict()\n",
    "    tp,fp,tn,fn = 0,0,0,0\n",
    "    for i in range(len(actual)):\n",
    "        if prediction[i] == actual[i]:\n",
    "            if prediction[i] == 1:\n",
    "                tp += 1\n",
    "            elif prediction[i] == 0:\n",
    "                tn += 1\n",
    "        else:\n",
    "            if actual[i] == 1:\n",
    "                fn += 1\n",
    "            elif actual[i] == 0:\n",
    "                fp += 1\n",
    "    prediction_list['True Positive'] = tp\n",
    "    prediction_list['False Positive'] = fp\n",
    "    prediction_list['True Negative'] = tn\n",
    "    prediction_list['False Negative'] = fn\n",
    "    accuracy = (tp+tn)/len(actual)\n",
    "    precision = (tp)/(tp+fp)\n",
    "    recall = (tp)/(tp+fn)\n",
    "    f1_score = 2/(1/recall + 1/precision)\n",
    "    prediction_list['Accuracy'] = accuracy\n",
    "    prediction_list['Precision'] = precision\n",
    "    prediction_list['Recall'] = recall\n",
    "    prediction_list['F1_Score'] = f1_score\n",
    "    for i, (key, value) in enumerate(prediction_list.items()):\n",
    "        print(key + \":: \", value)\n",
    "        print(\"\")\n",
    "        \n",
    "final_prediction_list()"
   ]
  },
  {
   "cell_type": "markdown",
   "metadata": {},
   "source": [
    "\n",
    "    Naive Bayes is sensitive to distribution of examples among classes. It may be bias if one label has more values compared to others, it'll be bias because of the high probablity estimate. It is normally helpful since suppose we don't know anything (no posterior information), our best bet is to try the class which is the most likely.\n",
    "\n",
    "    If the distribution is heavily skewed, you data sets are not large, our documents are short or lack very informative words though, this can cause undesired results such as what you are reporting.\n",
    "    \n",
    "    In our dataset just predicting 0 for all the values gives 90% accuracy without prior calculation.\n",
    "    So skewed data can be a problem\n",
    "\n"
   ]
  },
  {
   "cell_type": "markdown",
   "metadata": {},
   "source": [
    "<h5> \n",
    "    Linear Regression, <br><br>Calculation of the Mean Square Error , Mean Absolute Error  , Mean Absolute Percentage Error "
   ]
  },
  {
   "cell_type": "markdown",
   "metadata": {},
   "source": [
    "<h2>Part 3</h2>"
   ]
  },
  {
   "cell_type": "code",
   "execution_count": 3,
   "metadata": {},
   "outputs": [
    {
     "name": "stdout",
     "output_type": "stream",
     "text": [
      "MSE ::  0.0033988304912049455\n",
      "MAE ::  0.0433831884463568\n",
      "MAPE ::  6.6164879694255525 %\n"
     ]
    }
   ],
   "source": [
    "fname = 'Datasets/data.csv'\n",
    "df = pd.read_csv(fname)\n",
    "df = df.drop('Serial No.',axis=1)\n",
    "train = df.sample(frac=0.8,random_state=200)\n",
    "validate = df.drop(train.index)\n",
    "\n",
    "# print(df)\n",
    "\n",
    "y = train['Chance of Admit ']\n",
    "train = train.drop('Chance of Admit ',axis=1)\n",
    "\n",
    "actual = validate['Chance of Admit ']\n",
    "validate = validate.drop('Chance of Admit ',axis=1)\n",
    "\n",
    "\n",
    "# adding 1's\n",
    "one = []\n",
    "for i in range(len(train.index)) :\n",
    "    one.append(1)\n",
    "train.insert(0, 'ones', one, allow_duplicates = False)\n",
    "# Dataframe to Matrix\n",
    "\n",
    "# Validation data handling\n",
    "one_validate = []\n",
    "for i in range(len(validate.index)) :\n",
    "    one_validate.append(1)\n",
    "validate.insert(0, 'ones', one_validate, allow_duplicates = False)\n",
    "\n",
    "X = train.values\n",
    "Y = y.values\n",
    "\n",
    "\n",
    "Xt = X.transpose()\n",
    "XXt = np.matmul(Xt,X)\n",
    "X_inv = np.linalg.inv(XXt)\n",
    "\n",
    "\n",
    "B = np.matmul((np.matmul(X_inv,Xt)),Y)\n",
    "\n",
    "X_validate = validate.values\n",
    "\n",
    "prediction = np.matmul(X_validate,B)\n",
    "prediction = prediction.tolist()\n",
    "\n",
    "\n",
    "\n",
    "actual = actual.tolist()\n",
    "\n",
    "error_count = 0\n",
    "\n",
    "for i in range(len(actual)) :\n",
    "    error_count = error_count + (pow((actual[i] - prediction[i]),2))\n",
    "error_count = error_count/len(actual)\n",
    "print(\"MSE :: \",error_count)\n",
    "\n",
    "\n",
    "MAE = 0\n",
    "for i in range(len(actual)) :\n",
    "    MAE = MAE + (abs((actual[i] - prediction[i])))\n",
    "MAE = MAE/len(actual)\n",
    "print(\"MAE :: \",MAE)\n",
    "\n",
    "\n",
    "MAPE = 0\n",
    "for i in range(len(actual)) :\n",
    "    MAPE = MAPE + (abs((actual[i] - prediction[i])/actual[i]))\n",
    "MAPE = 100 * MAPE/len(actual)\n",
    "print(\"MAPE :: \",MAPE,\"%\")\n"
   ]
  }
 ],
 "metadata": {
  "kernelspec": {
   "display_name": "Python 3",
   "language": "python",
   "name": "python3"
  },
  "language_info": {
   "codemirror_mode": {
    "name": "ipython",
    "version": 3
   },
   "file_extension": ".py",
   "mimetype": "text/x-python",
   "name": "python",
   "nbconvert_exporter": "python",
   "pygments_lexer": "ipython3",
   "version": "3.6.5"
  }
 },
 "nbformat": 4,
 "nbformat_minor": 2
}
