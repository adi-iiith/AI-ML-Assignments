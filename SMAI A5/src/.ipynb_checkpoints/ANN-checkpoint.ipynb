{
 "cells": [
  {
   "cell_type": "code",
   "execution_count": 59,
   "metadata": {},
   "outputs": [],
   "source": [
    "import pandas as pd \n",
    "import numpy as np \n",
    "import math\n",
    "from sklearn import metrics\n",
    "import random\n",
    "import matplotlib.pyplot as plt"
   ]
  },
  {
   "cell_type": "markdown",
   "metadata": {},
   "source": [
    "<h1>Question 1\n",
    "    \n",
    "----------------------------------------------------------------------------------------"
   ]
  },
  {
   "cell_type": "markdown",
   "metadata": {},
   "source": [
    "<h2>Data Read "
   ]
  },
  {
   "cell_type": "code",
   "execution_count": 25,
   "metadata": {},
   "outputs": [],
   "source": [
    "df = pd.read_csv(\"../input_data/Aparrel.csv\")\n",
    "lab = df['label']\n",
    "df = df.drop(labels = 'label', axis = 1)\n",
    "df = (df - df.mean())/df.std()\n",
    "df.insert(0,'label',lab,allow_duplicates=False)\n",
    "train = df.sample(frac=0.8,random_state=200)\n",
    "validate = df.drop(train.index)\n",
    "\n",
    "train_act = np.array(train['label'])\n",
    "train_act = train_act.reshape(train['label'].count(),1)\n",
    "\n",
    "validate_act = np.array(validate['label'])\n",
    "validate_act = validate_act.reshape(validate['label'].count(),1)\n",
    "\n",
    "train = train.drop(labels = 'label', axis = 1)\n",
    "validate = validate.drop(labels = 'label', axis = 1)\n",
    "\n",
    "# Normalize Data\n",
    "\n",
    "# train = (train - train.mean())/train.std()\n",
    "# validate = (validate - validate.mean())/validate.std()\n",
    "\n",
    "train = np.array(train)\n",
    "train = train.T\n",
    "\n",
    "validate = np.array(validate)\n",
    "validate = validate.T\n"
   ]
  },
  {
   "cell_type": "code",
   "execution_count": 26,
   "metadata": {},
   "outputs": [],
   "source": [
    "ones = []\n",
    "for i in range(train_act.shape[0]) :\n",
    "    temp = [0 for x in range(10)]\n",
    "    temp[train_act[i][0]] = 1\n",
    "    ones.append(temp)\n",
    "\n",
    "y_train_encoded = np.array(ones)\n",
    "y_train_encoded = y_train_encoded.T\n",
    "\n",
    "# print(y_train_encoded.shape)\n",
    "\n",
    "batched_train_out = {}\n",
    "batched_train = {}"
   ]
  },
  {
   "cell_type": "markdown",
   "metadata": {},
   "source": [
    "<h2>Helper Functions"
   ]
  },
  {
   "cell_type": "code",
   "execution_count": 37,
   "metadata": {},
   "outputs": [],
   "source": [
    "def make_batch(train, batchsize, no_of_batches) :\n",
    "    global batched_train\n",
    "    global batched_train_out\n",
    "    temp = 0\n",
    "    for i in range(no_of_batches) :\n",
    "        batched_train[i] = train[:,temp*batchsize:temp*batchsize + batchsize]\n",
    "        batched_train_out[i] = y_train_encoded[:,temp*batchsize:temp*batchsize + batchsize]\n",
    "        temp+=1\n",
    "\n",
    "def sigmoid(x):\n",
    "    return 1 / (1 + np.exp(-x))\n",
    "\n",
    "def softmax(x) :\n",
    "    t = np.exp(x)\n",
    "    return t/ np.sum(t, axis=0)\n",
    "\n",
    "def relu(x) :\n",
    "    return np.maximum(x, 0)\n",
    "\n",
    "def tanh(x) :\n",
    "    return np.tanh(x)\n",
    "\n",
    "def d_sigmoid(x) :\n",
    "    return x * (1-x)\n",
    "\n",
    "def d_relu(x):\n",
    "    x[x<=0] = 0\n",
    "    x[x>0] = 1\n",
    "    return x\n",
    "\n",
    "def d_tanh(x) :\n",
    "    return (1 - (x ** 2))\n",
    "\n",
    "def cross_entropy(predictions, targets, epsilon=1e-12):\n",
    "    predictions = np.clip(predictions, epsilon, 1. - epsilon)\n",
    "    N = predictions.shape[0]\n",
    "    ce = -np.sum(targets*np.log(predictions+1e-9))/N\n",
    "    return ce\n"
   ]
  },
  {
   "cell_type": "code",
   "execution_count": 32,
   "metadata": {},
   "outputs": [],
   "source": [
    "def forward_prop(weight, bias, batch_no, no_of_layers, out_dict, gr_truth_out, Z, \n",
    "                 hidden_activation, output_activation) :\n",
    "    for i in range(no_of_layers-1) :\n",
    "        if(hidden_activation == 'relu') :\n",
    "            Z[i+1] = np.matmul(weight[i+1],out_dict[i]) + bias[i+1]\n",
    "            out_dict[i+1] = relu(Z[i+1]) \n",
    "        elif(hidden_activation == 'tanh') :\n",
    "            Z[i+1] = np.matmul(weight[i+1],out_dict[i]) + bias[i+1]\n",
    "            out_dict[i+1] = tanh(Z[i+1]) \n",
    "        else:\n",
    "            Z[i+1] = np.matmul(weight[i+1],out_dict[i]) + bias[i+1]\n",
    "            out_dict[i+1] = sigmoid(Z[i+1]) \n",
    "\n",
    "    if(output_activation == 'sigmoid') :\n",
    "        Z[no_of_layers] = np.matmul(weight[no_of_layers],out_dict[no_of_layers-1]) + bias[no_of_layers]\n",
    "        out_dict[no_of_layers] = sigmoid(Z[no_of_layers])\n",
    "    elif(output_activation == 'softmax') :\n",
    "        Z[no_of_layers] = np.matmul(weight[no_of_layers],out_dict[no_of_layers-1]) + bias[no_of_layers]\n",
    "        out_dict[no_of_layers] = softmax(Z[no_of_layers])\n"
   ]
  },
  {
   "cell_type": "code",
   "execution_count": 29,
   "metadata": {},
   "outputs": [],
   "source": [
    "def back_prop(weight, bias, batch_no, no_of_layers, out_dict, gr_truth_out, D_weight,\n",
    "              D_bias, batchsize, Z, dZ, hidden_activation, output_activation) :\n",
    "    \n",
    "    dZ[no_of_layers] = out_dict[no_of_layers] - gr_truth_out\n",
    "    D_weight[no_of_layers] = (1/batchsize) * np.matmul(dZ[no_of_layers], out_dict[no_of_layers-1].T)\n",
    "    D_bias[no_of_layers] = 1/batchsize * np.sum(dZ[no_of_layers], axis = 1, keepdims = True)\n",
    "    weight[no_of_layers]-= 0.001 * D_weight[no_of_layers]\n",
    "    bias[no_of_layers]-= 0.001 * D_bias[no_of_layers]\n",
    "    LR = 0.001\n",
    "    if(hidden_activation == 'relu') :\n",
    "        for i in range(no_of_layers-1,0,-1) :\n",
    "            dZ[i] = np.matmul(weight[i+1].T,dZ[i+1]) * d_relu(Z[i])\n",
    "            D_weight[i] = 1/batchsize * np.matmul(dZ[i],out_dict[i-1].T)\n",
    "\n",
    "            D_bias[i] = 1/batchsize * np.sum(dZ[i], axis = 1, keepdims = True)\n",
    "            weight[i]-= LR * D_weight[i]\n",
    "            bias[i]-= LR * D_bias[i]\n",
    "    elif(hidden_activation == 'tanh') :\n",
    "        for i in range(no_of_layers-1,0,-1) :\n",
    "            dZ[i] = np.matmul(weight[i+1].T,dZ[i+1]) * d_tanh(Z[i])\n",
    "            D_weight[i] = 1/batchsize * np.matmul(dZ[i],out_dict[i-1].T)\n",
    "            D_bias[i] = 1/batchsize * np.sum(dZ[i], axis = 1, keepdims = True)\n",
    "            weight[i]-= LR * D_weight[i]\n",
    "            bias[i]-= LR * D_bias[i]\n",
    "    elif(hidden_activation == 'sigmoid') :\n",
    "        for i in range(no_of_layers-1,0,-1) :\n",
    "            dZ[i] = np.matmul(weight[i+1].T,dZ[i+1]) * d_sigmoid(Z[i])\n",
    "            D_weight[i] = 1/batchsize * np.matmul(dZ[i],out_dict[i-1].T)\n",
    "            D_bias[i] = 1/batchsize * np.sum(dZ[i], axis = 1, keepdims = True)\n",
    "            weight[i]-= LR * D_weight[i]\n",
    "            bias[i]-= LR * D_bias[i]\n",
    "\n",
    "\n",
    "            "
   ]
  },
  {
   "cell_type": "markdown",
   "metadata": {},
   "source": [
    "<h2>Training the Model"
   ]
  },
  {
   "cell_type": "code",
   "execution_count": 30,
   "metadata": {},
   "outputs": [
    {
     "name": "stdout",
     "output_type": "stream",
     "text": [
      "No. of layers  : 3\n",
      "Enter activation function for hidden layers  : relu\n",
      "Enter activation function for hidden layers and output layer : sigmoid\n",
      "Enter the number of nodes for layer  : 60\n",
      "Enter the number of nodes for layer  : 60\n",
      "Enter the number of nodes for layer  : 10\n",
      "Epochs ::   100\n"
     ]
    }
   ],
   "source": [
    "#Structures\n",
    "weight = {}\n",
    "D_weight = {}\n",
    "bias = {}\n",
    "D_bias = {}\n",
    "out_dict = {}\n",
    "gr_truth_out = {}\n",
    "Z = {}\n",
    "dZ = {}\n",
    "\n",
    "no_of_layers = int(input(\"No. of layers  : \"))\n",
    "batchsize = 32\n",
    "no_of_nodes_layer = {}\n",
    "\n",
    "hidden_activation = input(\"Enter activation function for hidden layers  : \")\n",
    "output_activation = input(\"Enter activation function for hidden layers and output layer : \")\n",
    "\n",
    "test_dict = {}\n",
    "test_z_dict = {}\n",
    "\n",
    "\n",
    "no_of_nodes_layer[0] = 784\n",
    "\n",
    "for i in range(no_of_layers) :\n",
    "    no_of_nodes_layer[i+1] = int(input(\"Enter the number of nodes for layer  : \"))\n",
    "\n",
    "\n",
    "for i in range(no_of_layers) :\n",
    "    Matrix = [[random.uniform(0.01,0.001) for x in range(no_of_nodes_layer[i])]\n",
    "              for y in range(no_of_nodes_layer[i+1])] \n",
    "    Matrix = np.array(Matrix)\n",
    "    weight[i+1] = Matrix\n",
    "    bias[i+1] = [[random.uniform(0.01,0.001) for j in range(no_of_nodes_layer[i+1])]]\n",
    "    bias[i+1] = np.array(bias[i+1])\n",
    "    bias[i+1] = bias[i+1].T\n",
    "    np.reshape(bias[i+1],no_of_nodes_layer[i+1],1)\n",
    "\n",
    "\n",
    "\n",
    "no_of_batches = math.ceil(train.shape[1]/batchsize)\n",
    "make_batch(train, batchsize, no_of_batches)\n",
    "\n",
    "iterations = 100\n",
    "for j in range(iterations) :\n",
    "    for i in range(no_of_batches) :\n",
    "        out_dict[0] = batched_train[i]\n",
    "        gr_truth_out = batched_train_out[i]\n",
    "        forward_prop(weight, bias, i, no_of_layers, out_dict, gr_truth_out, Z,\n",
    "                     hidden_activation, output_activation)\n",
    "        back_prop(weight, bias, i, no_of_layers, out_dict, gr_truth_out, \n",
    "                  D_weight, D_bias, batchsize, Z,dZ, hidden_activation, output_activation)\n",
    "#     print(j)\n",
    "print(\"Epochs ::  \",iterations)"
   ]
  },
  {
   "cell_type": "markdown",
   "metadata": {},
   "source": [
    "<h2>Testing the 20% Dataset "
   ]
  },
  {
   "cell_type": "code",
   "execution_count": 33,
   "metadata": {},
   "outputs": [
    {
     "name": "stdout",
     "output_type": "stream",
     "text": [
      "Accuracy ::  87.48333333333333\n"
     ]
    }
   ],
   "source": [
    "#testing code :\n",
    "test_dict[0] = validate \n",
    "for i in range(no_of_layers) :\n",
    "    test_z_dict[i+1] = np.matmul(weight[i+1],test_dict[i]) + bias[i+1]\n",
    "    test_dict[i+1] = relu(test_z_dict[i+1]) \n",
    "\n",
    "test_z_dict[no_of_layers] = np.matmul(weight[no_of_layers],test_dict[no_of_layers-1]) + bias[no_of_layers]\n",
    "test_dict[no_of_layers] = sigmoid(test_z_dict[no_of_layers])\n",
    "\n",
    "y_out = test_dict[no_of_layers].argmax(axis=0)\n",
    "\n",
    "\n",
    "y_out = y_out.reshape(12000,1)\n",
    "\n",
    "print(\"Accuracy :: \",metrics.accuracy_score(validate_act,y_out)*100)\n",
    "\n"
   ]
  },
  {
   "cell_type": "markdown",
   "metadata": {},
   "source": [
    "<h2>Results overview Report : </h2>\n",
    "\n",
    "<p><i><b>Accuracy for the combinations , tested for 100 Epochs , Batch size = 32 , layers = 3 {ip=784,60,60,op=10}</b></i>\n",
    "    \n",
    "    Relu is used in Hidden layer and Sigmoid in Outer layer : 87.4\n",
    "\n",
    "    Tanh is used in Hidden layer and Sigmoid in Outer layer : 86.8\n",
    "\n",
    "    Sigmoid is used in Hidden layer and Sigmoid in Outer layer : 85.9\n",
    "\n",
    "    Relu is used in Hidden layer and Softmax in Outer layer : 87.1\n",
    "\n",
    "    Tanh is used in Hidden layer and Softmax in Outer layer : 80.1\n",
    "\n",
    "    Sigmoid is used in Hidden layer and Softmax in Outer layer : 79.8\n",
    "\n",
    "\n",
    "\n"
   ]
  },
  {
   "cell_type": "markdown",
   "metadata": {},
   "source": [
    "<h2>Output File "
   ]
  },
  {
   "cell_type": "code",
   "execution_count": 36,
   "metadata": {},
   "outputs": [
    {
     "name": "stdout",
     "output_type": "stream",
     "text": [
      "[[0]\n",
      " [1]\n",
      " [2]\n",
      " ...\n",
      " [4]\n",
      " [2]\n",
      " [2]]\n"
     ]
    }
   ],
   "source": [
    "#Structures\n",
    "op_validate = pd.read_csv(\"../input_data/apparel-test.csv\")\n",
    "op_validate = (op_validate - op_validate.mean())/op_validate.std()\n",
    "op_validate = np.array(op_validate)\n",
    "op_validate = op_validate.T\n",
    "test_dict = {}\n",
    "test_z_dict = {}\n",
    "test_dict[0] = op_validate\n",
    "\n",
    "for i in range(no_of_layers) :\n",
    "    test_z_dict[i+1] = np.matmul(weight[i+1],test_dict[i]) + bias[i+1]\n",
    "    test_dict[i+1] = relu(test_z_dict[i+1]) \n",
    "\n",
    "test_z_dict[no_of_layers] = np.matmul(weight[no_of_layers],test_dict[no_of_layers-1]) + bias[no_of_layers]\n",
    "test_dict[no_of_layers] = sigmoid(test_z_dict[no_of_layers])\n",
    "\n",
    "y_out = test_dict[no_of_layers].argmax(axis=0)\n",
    "\n",
    "y_out = y_out.reshape(y_out.shape[0],1)\n",
    "\n",
    "print((y_out))\n",
    "np.savetxt('2018201082_prediction.csv', y_out, delimiter =', ')"
   ]
  },
  {
   "cell_type": "markdown",
   "metadata": {},
   "source": [
    "<h2>Error vs Epochs Graph"
   ]
  },
  {
   "cell_type": "code",
   "execution_count": 54,
   "metadata": {},
   "outputs": [
    {
     "name": "stdout",
     "output_type": "stream",
     "text": [
      "No. of layers  : 3\n",
      "Enter activation function for hidden layers  : relu\n",
      "Enter activation function for hidden layers and output layer : sigmoid\n",
      "Enter the number of nodes for layer  : 60\n",
      "Enter the number of nodes for layer  : 60\n",
      "Enter the number of nodes for layer  : 10\n"
     ]
    }
   ],
   "source": [
    "#Structures\n",
    "weight = {}\n",
    "D_weight = {}\n",
    "bias = {}\n",
    "D_bias = {}\n",
    "out_dict = {}\n",
    "gr_truth_out = {}\n",
    "Z = {}\n",
    "dZ = {}\n",
    "\n",
    "no_of_layers = int(input(\"No. of layers  : \"))\n",
    "batchsize = 32\n",
    "no_of_nodes_layer = {}\n",
    "\n",
    "hidden_activation = input(\"Enter activation function for hidden layers  : \")\n",
    "output_activation = input(\"Enter activation function for hidden layers and output layer : \")\n",
    "\n",
    "test_dict = {}\n",
    "test_z_dict = {}\n",
    "\n",
    "\n",
    "no_of_nodes_layer[0] = 784\n",
    "\n",
    "for i in range(no_of_layers) :\n",
    "    no_of_nodes_layer[i+1] = int(input(\"Enter the number of nodes for layer  : \"))\n",
    "\n",
    "\n",
    "for i in range(no_of_layers) :\n",
    "    Matrix = [[random.uniform(0.01,0.001) for x in range(no_of_nodes_layer[i])]\n",
    "              for y in range(no_of_nodes_layer[i+1])] \n",
    "    Matrix = np.array(Matrix)\n",
    "    weight[i+1] = Matrix\n",
    "    bias[i+1] = [[random.uniform(0.01,0.001) for j in range(no_of_nodes_layer[i+1])]]\n",
    "    bias[i+1] = np.array(bias[i+1])\n",
    "    bias[i+1] = bias[i+1].T\n",
    "    np.reshape(bias[i+1],no_of_nodes_layer[i+1],1)\n",
    "\n",
    "\n",
    "\n",
    "no_of_batches = math.ceil(train.shape[1]/batchsize)\n",
    "make_batch(train, batchsize, no_of_batches)\n",
    "\n",
    "iterations = 100\n",
    "epoch = []\n",
    "error = []\n",
    "\n",
    "for j in range(iterations) :\n",
    "    for i in range(no_of_batches) :\n",
    "        out_dict[0] = batched_train[i]\n",
    "        gr_truth_out = batched_train_out[i]\n",
    "        forward_prop(weight, bias, i, no_of_layers, out_dict, gr_truth_out, Z,\n",
    "                     hidden_activation, output_activation)\n",
    "        back_prop(weight, bias, i, no_of_layers, out_dict, gr_truth_out, \n",
    "                  D_weight, D_bias, batchsize, Z,dZ, hidden_activation, output_activation)\n",
    "\n",
    "    epoch.append(j+1)\n",
    "    error.append(cross_entropy(out_dict[no_of_layers],gr_truth_out))\n",
    "        \n",
    "        "
   ]
  },
  {
   "cell_type": "code",
   "execution_count": 55,
   "metadata": {},
   "outputs": [
    {
     "data": {
      "image/png": "[encoded data removed]",
      "text/plain": [
       "<Figure size 432x288 with 1 Axes>"
      ]
     },
     "metadata": {
      "needs_background": "light"
     },
     "output_type": "display_data"
    }
   ],
   "source": [
    "plt.plot(epoch, error)\n",
    "plt.ylabel('Error')\n",
    "plt.xlabel('No. of Epochs')\n",
    "plt.title('Epoch vs Error')\n",
    "plt.grid(True)\n",
    "\n",
    "plt.show()"
   ]
  },
  {
   "cell_type": "markdown",
   "metadata": {},
   "source": [
    "<h2>Accuracy vs Number of Layers Graph"
   ]
  },
  {
   "cell_type": "code",
   "execution_count": null,
   "metadata": {},
   "outputs": [],
   "source": [
    "df = pd.read_csv(\"input_data/Aparrel.csv\")\n",
    "lab = df['label']\n",
    "df = df.drop(labels = 'label', axis = 1)\n",
    "df = (df - df.mean())/df.std()\n",
    "df.insert(0,'label',lab,allow_duplicates=False)\n",
    "train = df.sample(frac=0.8,random_state=200)\n",
    "validate = df.drop(train.index)\n",
    "\n",
    "train_act = np.array(train['label'])\n",
    "train_act = train_act.reshape(train['label'].count(),1)\n",
    "\n",
    "validate_act = np.array(validate['label'])\n",
    "validate_act = validate_act.reshape(validate['label'].count(),1)\n",
    "\n",
    "train = train.drop(labels = 'label', axis = 1)\n",
    "validate = validate.drop(labels = 'label', axis = 1)\n",
    "\n",
    "# Normalize Data\n",
    "\n",
    "# train = (train - train.mean())/train.std()\n",
    "# validate = (validate - validate.mean())/validate.std()\n",
    "\n",
    "train = np.array(train)\n",
    "train = train.T\n",
    "\n",
    "validate = np.array(validate)\n",
    "validate = validate.T\n",
    "\n",
    "ones = []\n",
    "for i in range(train_act.shape[0]) :\n",
    "    temp = [0 for x in range(10)]\n",
    "    temp[train_act[i][0]] = 1\n",
    "    ones.append(temp)\n",
    "\n",
    "y_train_encoded = np.array(ones)\n",
    "y_train_encoded = y_train_encoded.T\n",
    "\n",
    "# print(y_train_encoded.shape)\n",
    "\n",
    "batched_train_out = {}\n",
    "batched_train = {}\n",
    "\n",
    "no_of_layers = 6\n",
    "accu = []\n",
    "for p in range(no_of_layers):\n",
    "    #Structures\n",
    "    weight = {}\n",
    "    D_weight = {}\n",
    "    bias = {}\n",
    "    D_bias = {}\n",
    "    out_dict = {}\n",
    "    gr_truth_out = {}\n",
    "    Z = {}\n",
    "    dZ = {}\n",
    "    batchsize = 32\n",
    "    no_of_nodes_layer = {}\n",
    "\n",
    "    hidden_activation = 'relu'\n",
    "    output_activation = 'sigmoid'\n",
    "\n",
    "    test_dict = {}\n",
    "    test_z_dict = {}\n",
    "\n",
    "    no_of_nodes_layer[0] = 784\n",
    "    for i in range(no_of_layers-1) :\n",
    "        no_of_nodes_layer[i+1] = 60\n",
    "    no_of_nodes_layer[no_of_layers] = 10\n",
    "    \n",
    "    \n",
    "    for i in range(no_of_layers) :\n",
    "        Matrix = [[random.uniform(0.01,0.001) for x in range(no_of_nodes_layer[i])]\n",
    "                  for y in range(no_of_nodes_layer[i+1])] \n",
    "        Matrix = np.array(Matrix)\n",
    "        weight[i+1] = Matrix\n",
    "        bias[i+1] = [[random.uniform(0.01,0.001) for j in range(no_of_nodes_layer[i+1])]]\n",
    "        bias[i+1] = np.array(bias[i+1])\n",
    "        bias[i+1] = bias[i+1].T\n",
    "        np.reshape(bias[i+1],no_of_nodes_layer[i+1],1)\n",
    "\n",
    "\n",
    "    no_of_batches = math.ceil(train.shape[1]/batchsize)\n",
    "    make_batch(train, batchsize, no_of_batches)\n",
    "\n",
    "    iterations = 100\n",
    "\n",
    "    \n",
    "    for j in range(iterations) :\n",
    "        for i in range(no_of_batches) :\n",
    "            out_dict[0] = batched_train[i]\n",
    "            gr_truth_out = batched_train_out[i]\n",
    "            forward_prop(weight, bias, i, no_of_layers, out_dict, gr_truth_out, Z,\n",
    "                         hidden_activation, output_activation)\n",
    "            back_prop(weight, bias, i, no_of_layers, out_dict, gr_truth_out, \n",
    "                      D_weight, D_bias, batchsize, Z,dZ, hidden_activation, output_activation)\n",
    "\n",
    "            \n",
    "    test_dict[0] = validate \n",
    "    for i in range(no_of_layers) :\n",
    "        test_z_dict[i+1] = np.matmul(weight[i+1],test_dict[i]) + bias[i+1]\n",
    "        test_dict[i+1] = relu(test_z_dict[i+1]) \n",
    "\n",
    "    test_z_dict[no_of_layers] = np.matmul(weight[no_of_layers],test_dict[no_of_layers-1]) + bias[no_of_layers]\n",
    "    test_dict[no_of_layers] = sigmoid(test_z_dict[no_of_layers])\n",
    "\n",
    "    y_out = test_dict[no_of_layers].argmax(axis=0)\n",
    "\n",
    "\n",
    "    y_out = y_out.reshape(12000,1)\n",
    "    ac = metrics.accuracy_score(validate_act,y_out)\n",
    "    print(\"Accuracy :: \",x*100)\n",
    "    accu.append(x)\n"
   ]
  },
  {
   "cell_type": "code",
   "execution_count": 57,
   "metadata": {},
   "outputs": [
    {
     "data": {
      "image/png": "[encoded data removed]",
      "text/plain": [
       "<Figure size 432x288 with 1 Axes>"
      ]
     },
     "metadata": {
      "needs_background": "light"
     },
     "output_type": "display_data"
    }
   ],
   "source": [
    "layers = [1,2,3,4,5,6]\n",
    "plt.plot(layers, accu)\n",
    "plt.ylabel('Accuracy')\n",
    "plt.xlabel('No. of Layers')\n",
    "plt.title('Accuracy vs No. of Layers')\n",
    "plt.grid(True)\n",
    "\n",
    "plt.show()"
   ]
  },
  {
   "cell_type": "markdown",
   "metadata": {},
   "source": [
    "-----------------------------------------------------------------------------------------\n",
    "<h1>Question 2"
   ]
  },
  {
   "cell_type": "markdown",
   "metadata": {},
   "source": [
    "From the \"Predict House Pice\" question we understand that this is a Regression Problem.\n",
    "\n",
    "First of all this fixes our Output layer to one node which will predict our value, { prediction : W(weight matrix) * Activation }\n",
    "\n",
    "In our Model we may apply 'relu' at output layer, we get a choice for this while running our model.\n",
    "\n",
    "The reason being Prices will not be negative and relu will not tweak any output we get, so it's safe.\n",
    "\n",
    "For the 3 hidden layers we can use any function, testing it on all will determine which is performing better.\n",
    "\n",
    "For categorical Data Encoding is one easy solution. One which can be used is One-hot encoding  , ordinal encoding.\n",
    "\n",
    "Details refered from : https://medium.com/@krishnakalyan3/a-gentle-introduction-to-embedding-567d8738372b\n",
    "\n",
    "Missing Values are there in our datasets if we go through it. There are two types of Missing Data  : Missing at random (MAR) and Missing Not at Random (MNAR) .\n",
    "\n",
    "Details to deal with it in general condition : https://www.wikiwand.com/en/Missing_data\n",
    "\n",
    "We can choose to give the weight of links as 0 ( ie, it'll not have any influence on future computation ) \n",
    "\n",
    "It can be approximated by Gauss-Bayes function network. ( i am not quite sure how to use this as of now) \n"
   ]
  },
  {
   "cell_type": "code",
   "execution_count": null,
   "metadata": {},
   "outputs": [],
   "source": []
  }
 ],
 "metadata": {
  "kernelspec": {
   "display_name": "Python 3",
   "language": "python",
   "name": "python3"
  },
  "language_info": {
   "codemirror_mode": {
    "name": "ipython",
    "version": 3
   },
   "file_extension": ".py",
   "mimetype": "text/x-python",
   "name": "python",
   "nbconvert_exporter": "python",
   "pygments_lexer": "ipython3",
   "version": "3.6.7"
  }
 },
 "nbformat": 4,
 "nbformat_minor": 2
}
